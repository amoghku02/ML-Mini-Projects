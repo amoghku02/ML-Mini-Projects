{
 "cells": [
  {
   "cell_type": "code",
   "execution_count": 1,
   "metadata": {},
   "outputs": [],
   "source": [
    "import pandas as pd\n",
    "import numpy as np\n",
    "import matplotlib.pyplot as plt\n",
    "import seaborn as sns"
   ]
  },
  {
   "cell_type": "code",
   "execution_count": 2,
   "metadata": {},
   "outputs": [],
   "source": [
    "df = pd.read_csv('dataset/train.csv')"
   ]
  },
  {
   "cell_type": "code",
   "execution_count": 3,
   "metadata": {},
   "outputs": [
    {
     "data": {
      "text/html": [
       "<div>\n",
       "<style scoped>\n",
       "    .dataframe tbody tr th:only-of-type {\n",
       "        vertical-align: middle;\n",
       "    }\n",
       "\n",
       "    .dataframe tbody tr th {\n",
       "        vertical-align: top;\n",
       "    }\n",
       "\n",
       "    .dataframe thead th {\n",
       "        text-align: right;\n",
       "    }\n",
       "</style>\n",
       "<table border=\"1\" class=\"dataframe\">\n",
       "  <thead>\n",
       "    <tr style=\"text-align: right;\">\n",
       "      <th></th>\n",
       "      <th>Deal_title</th>\n",
       "      <th>Lead_name</th>\n",
       "      <th>Industry</th>\n",
       "      <th>Deal_value</th>\n",
       "      <th>Weighted_amount</th>\n",
       "      <th>Date_of_creation</th>\n",
       "      <th>Pitch</th>\n",
       "      <th>Contact_no</th>\n",
       "      <th>Lead_revenue</th>\n",
       "      <th>Fund_category</th>\n",
       "      <th>...</th>\n",
       "      <th>Designation</th>\n",
       "      <th>Lead_POC_email</th>\n",
       "      <th>Hiring_candidate_role</th>\n",
       "      <th>Lead_source</th>\n",
       "      <th>Level_of_meeting</th>\n",
       "      <th>Last_lead_update</th>\n",
       "      <th>Internal_POC</th>\n",
       "      <th>Resource</th>\n",
       "      <th>Internal_rating</th>\n",
       "      <th>Success_probability</th>\n",
       "    </tr>\n",
       "  </thead>\n",
       "  <tbody>\n",
       "    <tr>\n",
       "      <th>0</th>\n",
       "      <td>TitleM5DZY</td>\n",
       "      <td>Davis, Perkins and Bishop Inc</td>\n",
       "      <td>Restaurants</td>\n",
       "      <td>320506$</td>\n",
       "      <td>2067263.7$</td>\n",
       "      <td>2020-03-29</td>\n",
       "      <td>Product_2</td>\n",
       "      <td>607.447.7883</td>\n",
       "      <td>50 - 100 Million</td>\n",
       "      <td>Category 2</td>\n",
       "      <td>...</td>\n",
       "      <td>Executive Vice President</td>\n",
       "      <td>charlenewerner@davis.com</td>\n",
       "      <td>Community pharmacist</td>\n",
       "      <td>Website</td>\n",
       "      <td>Level 3</td>\n",
       "      <td>No track</td>\n",
       "      <td>Davis,Sharrice A</td>\n",
       "      <td>NaN</td>\n",
       "      <td>3</td>\n",
       "      <td>73.6</td>\n",
       "    </tr>\n",
       "    <tr>\n",
       "      <th>1</th>\n",
       "      <td>TitleKIW18</td>\n",
       "      <td>Bender PLC LLC</td>\n",
       "      <td>Construction Services</td>\n",
       "      <td>39488$</td>\n",
       "      <td>240876.8$</td>\n",
       "      <td>2019-07-10</td>\n",
       "      <td>Product_2</td>\n",
       "      <td>892-938-9493</td>\n",
       "      <td>500 Million - 1 Billion</td>\n",
       "      <td>Category 4</td>\n",
       "      <td>...</td>\n",
       "      <td>Chairman/CEO/President</td>\n",
       "      <td>terrylogan@bender.com</td>\n",
       "      <td>Recruitment consultant</td>\n",
       "      <td>Others</td>\n",
       "      <td>Level 1</td>\n",
       "      <td>Did not hear back after Level 1</td>\n",
       "      <td>Brown,Maxine A</td>\n",
       "      <td>No</td>\n",
       "      <td>5</td>\n",
       "      <td>58.9</td>\n",
       "    </tr>\n",
       "    <tr>\n",
       "      <th>2</th>\n",
       "      <td>TitleFXSDN</td>\n",
       "      <td>Carter-Henry and Sons</td>\n",
       "      <td>Hospitals/Clinics</td>\n",
       "      <td>359392$</td>\n",
       "      <td>2407926.4$</td>\n",
       "      <td>2019-07-27</td>\n",
       "      <td>Product_1</td>\n",
       "      <td>538.748.2271</td>\n",
       "      <td>500 Million - 1 Billion</td>\n",
       "      <td>Category 4</td>\n",
       "      <td>...</td>\n",
       "      <td>SVP/General Counsel</td>\n",
       "      <td>arielhamilton@carterhenry.com</td>\n",
       "      <td>Health service manager</td>\n",
       "      <td>Marketing Event</td>\n",
       "      <td>Level 1</td>\n",
       "      <td>?</td>\n",
       "      <td>Georgakopoulos,Vasilios T</td>\n",
       "      <td>No</td>\n",
       "      <td>4</td>\n",
       "      <td>68.8</td>\n",
       "    </tr>\n",
       "    <tr>\n",
       "      <th>3</th>\n",
       "      <td>TitlePSK4Y</td>\n",
       "      <td>Garcia Ltd Ltd</td>\n",
       "      <td>Real Estate</td>\n",
       "      <td>76774$</td>\n",
       "      <td>468321.4$</td>\n",
       "      <td>2021-01-30</td>\n",
       "      <td>Product_2</td>\n",
       "      <td>(692)052-1389x75188</td>\n",
       "      <td>500 Million - 1 Billion</td>\n",
       "      <td>Category 3</td>\n",
       "      <td>...</td>\n",
       "      <td>CEO/Co-Founder/Chairman</td>\n",
       "      <td>erinwilson@garcia.com</td>\n",
       "      <td>Therapist, speech and language</td>\n",
       "      <td>Contact Email</td>\n",
       "      <td>Level 2</td>\n",
       "      <td>Did not hear back after Level 1</td>\n",
       "      <td>Brown,Maxine A</td>\n",
       "      <td>We have all the requirements</td>\n",
       "      <td>1</td>\n",
       "      <td>64.5</td>\n",
       "    </tr>\n",
       "    <tr>\n",
       "      <th>4</th>\n",
       "      <td>Title904GV</td>\n",
       "      <td>Lee and Sons PLC</td>\n",
       "      <td>Financial Services</td>\n",
       "      <td>483896$</td>\n",
       "      <td>NaN</td>\n",
       "      <td>2019-05-22</td>\n",
       "      <td>Product_2</td>\n",
       "      <td>001-878-814-6134x015</td>\n",
       "      <td>50 - 100 Million</td>\n",
       "      <td>Category 3</td>\n",
       "      <td>...</td>\n",
       "      <td>Executive Vice President</td>\n",
       "      <td>mr.christopher@lee.com</td>\n",
       "      <td>Media planner</td>\n",
       "      <td>Website</td>\n",
       "      <td>Level 2</td>\n",
       "      <td>Up-to-date</td>\n",
       "      <td>Thomas,Lori E</td>\n",
       "      <td>No</td>\n",
       "      <td>4</td>\n",
       "      <td>62.4</td>\n",
       "    </tr>\n",
       "  </tbody>\n",
       "</table>\n",
       "<p>5 rows × 23 columns</p>\n",
       "</div>"
      ],
      "text/plain": [
       "   Deal_title                      Lead_name               Industry  \\\n",
       "0  TitleM5DZY  Davis, Perkins and Bishop Inc            Restaurants   \n",
       "1  TitleKIW18                 Bender PLC LLC  Construction Services   \n",
       "2  TitleFXSDN          Carter-Henry and Sons      Hospitals/Clinics   \n",
       "3  TitlePSK4Y                 Garcia Ltd Ltd            Real Estate   \n",
       "4  Title904GV               Lee and Sons PLC     Financial Services   \n",
       "\n",
       "  Deal_value Weighted_amount Date_of_creation      Pitch  \\\n",
       "0    320506$      2067263.7$       2020-03-29  Product_2   \n",
       "1     39488$       240876.8$       2019-07-10  Product_2   \n",
       "2    359392$      2407926.4$       2019-07-27  Product_1   \n",
       "3     76774$       468321.4$       2021-01-30  Product_2   \n",
       "4    483896$             NaN       2019-05-22  Product_2   \n",
       "\n",
       "             Contact_no             Lead_revenue Fund_category  ...  \\\n",
       "0          607.447.7883         50 - 100 Million    Category 2  ...   \n",
       "1          892-938-9493  500 Million - 1 Billion    Category 4  ...   \n",
       "2          538.748.2271  500 Million - 1 Billion    Category 4  ...   \n",
       "3   (692)052-1389x75188  500 Million - 1 Billion    Category 3  ...   \n",
       "4  001-878-814-6134x015         50 - 100 Million    Category 3  ...   \n",
       "\n",
       "                Designation                 Lead_POC_email  \\\n",
       "0  Executive Vice President       charlenewerner@davis.com   \n",
       "1    Chairman/CEO/President          terrylogan@bender.com   \n",
       "2      SVP/General Counsel   arielhamilton@carterhenry.com   \n",
       "3   CEO/Co-Founder/Chairman          erinwilson@garcia.com   \n",
       "4  Executive Vice President         mr.christopher@lee.com   \n",
       "\n",
       "            Hiring_candidate_role      Lead_source Level_of_meeting  \\\n",
       "0            Community pharmacist          Website          Level 3   \n",
       "1          Recruitment consultant           Others          Level 1   \n",
       "2          Health service manager  Marketing Event          Level 1   \n",
       "3  Therapist, speech and language    Contact Email          Level 2   \n",
       "4                   Media planner          Website          Level 2   \n",
       "\n",
       "                  Last_lead_update               Internal_POC  \\\n",
       "0                         No track           Davis,Sharrice A   \n",
       "1  Did not hear back after Level 1             Brown,Maxine A   \n",
       "2                                ?  Georgakopoulos,Vasilios T   \n",
       "3  Did not hear back after Level 1             Brown,Maxine A   \n",
       "4                       Up-to-date              Thomas,Lori E   \n",
       "\n",
       "                       Resource Internal_rating Success_probability  \n",
       "0                           NaN               3                73.6  \n",
       "1                            No               5                58.9  \n",
       "2                            No               4                68.8  \n",
       "3  We have all the requirements               1                64.5  \n",
       "4                            No               4                62.4  \n",
       "\n",
       "[5 rows x 23 columns]"
      ]
     },
     "execution_count": 3,
     "metadata": {},
     "output_type": "execute_result"
    }
   ],
   "source": [
    "df.head()"
   ]
  },
  {
   "cell_type": "code",
   "execution_count": 4,
   "metadata": {},
   "outputs": [],
   "source": [
    "df.drop('Deal_title', axis=1, inplace=True)"
   ]
  },
  {
   "cell_type": "code",
   "execution_count": 5,
   "metadata": {},
   "outputs": [],
   "source": [
    "df.drop('Lead_name', axis=1, inplace=True)"
   ]
  },
  {
   "cell_type": "code",
   "execution_count": 6,
   "metadata": {},
   "outputs": [],
   "source": [
    "def impute_deal_value(val):\n",
    "    return np.float64(val.split('$')[0])"
   ]
  },
  {
   "cell_type": "code",
   "execution_count": 7,
   "metadata": {},
   "outputs": [],
   "source": [
    "df['Deal_value'].fillna('247839$', inplace=True)"
   ]
  },
  {
   "cell_type": "code",
   "execution_count": 8,
   "metadata": {},
   "outputs": [],
   "source": [
    "df['Deal_value'] = df['Deal_value'].apply(impute_deal_value)"
   ]
  },
  {
   "cell_type": "code",
   "execution_count": 9,
   "metadata": {},
   "outputs": [
    {
     "data": {
      "text/plain": [
       "False    6482\n",
       "True      525\n",
       "Name: Weighted_amount, dtype: int64"
      ]
     },
     "execution_count": 9,
     "metadata": {},
     "output_type": "execute_result"
    }
   ],
   "source": [
    "df['Weighted_amount'].isnull().value_counts()"
   ]
  },
  {
   "cell_type": "code",
   "execution_count": 255,
   "metadata": {},
   "outputs": [],
   "source": [
    "df['Weighted_amount'].fillna('0$', inplace=True)"
   ]
  },
  {
   "cell_type": "code",
   "execution_count": 256,
   "metadata": {},
   "outputs": [],
   "source": [
    "df['Weighted_amount'] = df['Weighted_amount'].apply(impute_deal_value)"
   ]
  },
  {
   "cell_type": "code",
   "execution_count": 258,
   "metadata": {},
   "outputs": [],
   "source": [
    "def impute_pitch(pitch):\n",
    "    return np.int64(pitch.split('_')[1])"
   ]
  },
  {
   "cell_type": "code",
   "execution_count": 259,
   "metadata": {},
   "outputs": [],
   "source": [
    "df['Pitch'] = df['Pitch'].apply(impute_pitch)"
   ]
  },
  {
   "cell_type": "code",
   "execution_count": 260,
   "metadata": {},
   "outputs": [],
   "source": [
    "df.drop('Contact_no', axis=1, inplace=True)"
   ]
  },
  {
   "cell_type": "code",
   "execution_count": 261,
   "metadata": {},
   "outputs": [],
   "source": [
    "def impute_lead_revenue(revenue):\n",
    "    temp = revenue.split('-')\n",
    "    value1 = temp[0].split(' ')[0]\n",
    "    if(temp[1].split(' ')[2] == 'Billion'):\n",
    "        value2 = np.int64(temp[1].split(' ')[1])*1000\n",
    "    else:\n",
    "        value2 = temp[1].split(' ')[1]\n",
    "    \n",
    "    return np.int64(value2)-np.int64(value1)"
   ]
  },
  {
   "cell_type": "code",
   "execution_count": 262,
   "metadata": {},
   "outputs": [],
   "source": [
    "df['Lead_revenue'] = df['Lead_revenue'].apply(impute_lead_revenue)"
   ]
  },
  {
   "cell_type": "code",
   "execution_count": 263,
   "metadata": {},
   "outputs": [],
   "source": [
    "df['Fund_category'] = df['Fund_category'].apply(lambda a: np.int64(a.split(' ')[1]))"
   ]
  },
  {
   "cell_type": "code",
   "execution_count": 264,
   "metadata": {},
   "outputs": [
    {
     "data": {
      "text/html": [
       "<div>\n",
       "<style scoped>\n",
       "    .dataframe tbody tr th:only-of-type {\n",
       "        vertical-align: middle;\n",
       "    }\n",
       "\n",
       "    .dataframe tbody tr th {\n",
       "        vertical-align: top;\n",
       "    }\n",
       "\n",
       "    .dataframe thead th {\n",
       "        text-align: right;\n",
       "    }\n",
       "</style>\n",
       "<table border=\"1\" class=\"dataframe\">\n",
       "  <thead>\n",
       "    <tr style=\"text-align: right;\">\n",
       "      <th></th>\n",
       "      <th>Industry</th>\n",
       "      <th>Deal_value</th>\n",
       "      <th>Weighted_amount</th>\n",
       "      <th>Date_of_creation</th>\n",
       "      <th>Pitch</th>\n",
       "      <th>Lead_revenue</th>\n",
       "      <th>Fund_category</th>\n",
       "      <th>Geography</th>\n",
       "      <th>Location</th>\n",
       "      <th>POC_name</th>\n",
       "      <th>Designation</th>\n",
       "      <th>Lead_POC_email</th>\n",
       "      <th>Hiring_candidate_role</th>\n",
       "      <th>Lead_source</th>\n",
       "      <th>Level_of_meeting</th>\n",
       "      <th>Last_lead_update</th>\n",
       "      <th>Internal_POC</th>\n",
       "      <th>Resource</th>\n",
       "      <th>Internal_rating</th>\n",
       "      <th>Success_probability</th>\n",
       "    </tr>\n",
       "  </thead>\n",
       "  <tbody>\n",
       "    <tr>\n",
       "      <th>0</th>\n",
       "      <td>Restaurants</td>\n",
       "      <td>320506.0</td>\n",
       "      <td>2067263.7</td>\n",
       "      <td>2020-03-29</td>\n",
       "      <td>2</td>\n",
       "      <td>50</td>\n",
       "      <td>2</td>\n",
       "      <td>USA</td>\n",
       "      <td>Killeen-Temple, TX</td>\n",
       "      <td>Charlene Werner</td>\n",
       "      <td>Executive Vice President</td>\n",
       "      <td>charlenewerner@davis.com</td>\n",
       "      <td>Community pharmacist</td>\n",
       "      <td>Website</td>\n",
       "      <td>Level 3</td>\n",
       "      <td>No track</td>\n",
       "      <td>Davis,Sharrice A</td>\n",
       "      <td>NaN</td>\n",
       "      <td>3</td>\n",
       "      <td>73.6</td>\n",
       "    </tr>\n",
       "    <tr>\n",
       "      <th>1</th>\n",
       "      <td>Construction Services</td>\n",
       "      <td>39488.0</td>\n",
       "      <td>240876.8</td>\n",
       "      <td>2019-07-10</td>\n",
       "      <td>2</td>\n",
       "      <td>500</td>\n",
       "      <td>4</td>\n",
       "      <td>India</td>\n",
       "      <td>Ratlam</td>\n",
       "      <td>rakhi</td>\n",
       "      <td>Chairman/CEO/President</td>\n",
       "      <td>terrylogan@bender.com</td>\n",
       "      <td>Recruitment consultant</td>\n",
       "      <td>Others</td>\n",
       "      <td>Level 1</td>\n",
       "      <td>Did not hear back after Level 1</td>\n",
       "      <td>Brown,Maxine A</td>\n",
       "      <td>No</td>\n",
       "      <td>5</td>\n",
       "      <td>58.9</td>\n",
       "    </tr>\n",
       "    <tr>\n",
       "      <th>2</th>\n",
       "      <td>Hospitals/Clinics</td>\n",
       "      <td>359392.0</td>\n",
       "      <td>2407926.4</td>\n",
       "      <td>2019-07-27</td>\n",
       "      <td>1</td>\n",
       "      <td>500</td>\n",
       "      <td>4</td>\n",
       "      <td>USA</td>\n",
       "      <td>Albany-Schenectady-Troy, NY</td>\n",
       "      <td>Ariel Hamilton</td>\n",
       "      <td>SVP/General Counsel</td>\n",
       "      <td>arielhamilton@carterhenry.com</td>\n",
       "      <td>Health service manager</td>\n",
       "      <td>Marketing Event</td>\n",
       "      <td>Level 1</td>\n",
       "      <td>?</td>\n",
       "      <td>Georgakopoulos,Vasilios T</td>\n",
       "      <td>No</td>\n",
       "      <td>4</td>\n",
       "      <td>68.8</td>\n",
       "    </tr>\n",
       "    <tr>\n",
       "      <th>3</th>\n",
       "      <td>Real Estate</td>\n",
       "      <td>76774.0</td>\n",
       "      <td>468321.4</td>\n",
       "      <td>2021-01-30</td>\n",
       "      <td>2</td>\n",
       "      <td>500</td>\n",
       "      <td>3</td>\n",
       "      <td>USA</td>\n",
       "      <td>Mount Vernon-Anacortes, WA</td>\n",
       "      <td>Erin Wilson</td>\n",
       "      <td>CEO/Co-Founder/Chairman</td>\n",
       "      <td>erinwilson@garcia.com</td>\n",
       "      <td>Therapist, speech and language</td>\n",
       "      <td>Contact Email</td>\n",
       "      <td>Level 2</td>\n",
       "      <td>Did not hear back after Level 1</td>\n",
       "      <td>Brown,Maxine A</td>\n",
       "      <td>We have all the requirements</td>\n",
       "      <td>1</td>\n",
       "      <td>64.5</td>\n",
       "    </tr>\n",
       "    <tr>\n",
       "      <th>4</th>\n",
       "      <td>Financial Services</td>\n",
       "      <td>483896.0</td>\n",
       "      <td>0.0</td>\n",
       "      <td>2019-05-22</td>\n",
       "      <td>2</td>\n",
       "      <td>50</td>\n",
       "      <td>3</td>\n",
       "      <td>India</td>\n",
       "      <td>Shimoga</td>\n",
       "      <td>kavita</td>\n",
       "      <td>Executive Vice President</td>\n",
       "      <td>mr.christopher@lee.com</td>\n",
       "      <td>Media planner</td>\n",
       "      <td>Website</td>\n",
       "      <td>Level 2</td>\n",
       "      <td>Up-to-date</td>\n",
       "      <td>Thomas,Lori E</td>\n",
       "      <td>No</td>\n",
       "      <td>4</td>\n",
       "      <td>62.4</td>\n",
       "    </tr>\n",
       "  </tbody>\n",
       "</table>\n",
       "</div>"
      ],
      "text/plain": [
       "                Industry  Deal_value  Weighted_amount Date_of_creation  Pitch  \\\n",
       "0            Restaurants    320506.0        2067263.7       2020-03-29      2   \n",
       "1  Construction Services     39488.0         240876.8       2019-07-10      2   \n",
       "2      Hospitals/Clinics    359392.0        2407926.4       2019-07-27      1   \n",
       "3            Real Estate     76774.0         468321.4       2021-01-30      2   \n",
       "4     Financial Services    483896.0              0.0       2019-05-22      2   \n",
       "\n",
       "   Lead_revenue  Fund_category Geography                     Location  \\\n",
       "0            50              2       USA           Killeen-Temple, TX   \n",
       "1           500              4     India                       Ratlam   \n",
       "2           500              4       USA  Albany-Schenectady-Troy, NY   \n",
       "3           500              3       USA   Mount Vernon-Anacortes, WA   \n",
       "4            50              3     India                      Shimoga   \n",
       "\n",
       "          POC_name               Designation                 Lead_POC_email  \\\n",
       "0  Charlene Werner  Executive Vice President       charlenewerner@davis.com   \n",
       "1            rakhi    Chairman/CEO/President          terrylogan@bender.com   \n",
       "2   Ariel Hamilton      SVP/General Counsel   arielhamilton@carterhenry.com   \n",
       "3      Erin Wilson   CEO/Co-Founder/Chairman          erinwilson@garcia.com   \n",
       "4           kavita  Executive Vice President         mr.christopher@lee.com   \n",
       "\n",
       "            Hiring_candidate_role      Lead_source Level_of_meeting  \\\n",
       "0            Community pharmacist          Website          Level 3   \n",
       "1          Recruitment consultant           Others          Level 1   \n",
       "2          Health service manager  Marketing Event          Level 1   \n",
       "3  Therapist, speech and language    Contact Email          Level 2   \n",
       "4                   Media planner          Website          Level 2   \n",
       "\n",
       "                  Last_lead_update               Internal_POC  \\\n",
       "0                         No track           Davis,Sharrice A   \n",
       "1  Did not hear back after Level 1             Brown,Maxine A   \n",
       "2                                ?  Georgakopoulos,Vasilios T   \n",
       "3  Did not hear back after Level 1             Brown,Maxine A   \n",
       "4                       Up-to-date              Thomas,Lori E   \n",
       "\n",
       "                       Resource  Internal_rating  Success_probability  \n",
       "0                           NaN                3                 73.6  \n",
       "1                            No                5                 58.9  \n",
       "2                            No                4                 68.8  \n",
       "3  We have all the requirements                1                 64.5  \n",
       "4                            No                4                 62.4  "
      ]
     },
     "execution_count": 264,
     "metadata": {},
     "output_type": "execute_result"
    }
   ],
   "source": [
    "df.head()"
   ]
  },
  {
   "cell_type": "code",
   "execution_count": 266,
   "metadata": {},
   "outputs": [
    {
     "data": {
      "text/plain": [
       "USA      3061\n",
       "India    2974\n",
       "Name: Geography, dtype: int64"
      ]
     },
     "execution_count": 266,
     "metadata": {},
     "output_type": "execute_result"
    }
   ],
   "source": [
    "df['Geography'].value_counts()"
   ]
  },
  {
   "cell_type": "code",
   "execution_count": 267,
   "metadata": {},
   "outputs": [],
   "source": [
    "df['Location'].fillna('none', inplace=True)"
   ]
  },
  {
   "cell_type": "code",
   "execution_count": 268,
   "metadata": {},
   "outputs": [],
   "source": [
    "def fill_geography(location):\n",
    "    if(location.find(',')!=-1):\n",
    "        return 'USA'\n",
    "    else:\n",
    "        return 'India'"
   ]
  },
  {
   "cell_type": "code",
   "execution_count": 269,
   "metadata": {},
   "outputs": [],
   "source": [
    "df['Geography'] = df['Location'].apply(fill_geography)"
   ]
  },
  {
   "cell_type": "code",
   "execution_count": 270,
   "metadata": {},
   "outputs": [
    {
     "data": {
      "text/plain": [
       "India    3504\n",
       "USA      3503\n",
       "Name: Geography, dtype: int64"
      ]
     },
     "execution_count": 270,
     "metadata": {},
     "output_type": "execute_result"
    }
   ],
   "source": [
    "df['Geography'].value_counts()"
   ]
  },
  {
   "cell_type": "code",
   "execution_count": 271,
   "metadata": {},
   "outputs": [],
   "source": [
    "df.drop('Location',  axis=1, inplace=True)"
   ]
  },
  {
   "cell_type": "code",
   "execution_count": 272,
   "metadata": {},
   "outputs": [],
   "source": [
    "df.drop('POC_name', axis=1, inplace=True)"
   ]
  },
  {
   "cell_type": "code",
   "execution_count": 273,
   "metadata": {},
   "outputs": [
    {
     "data": {
      "text/plain": [
       "Chief Executive Officer                                              665\n",
       "CEO/President                                                        676\n",
       "Vice President / GM (04-present) : VP Sales and Marketing (01-04)    678\n",
       "Chairman/Chief Innovation Officer                                    688\n",
       "SVP/General Counsel                                                  698\n",
       "CEO/Co-Founder/Chairman                                              700\n",
       "CEO/Chairman/President                                               701\n",
       "Chairman/CEO/President                                               722\n",
       "Executive Vice President                                             731\n",
       "CEO                                                                  748\n",
       "Name: Designation, dtype: int64"
      ]
     },
     "execution_count": 273,
     "metadata": {},
     "output_type": "execute_result"
    }
   ],
   "source": [
    "df['Designation'].value_counts().sort_values(ascending=True).head(10)"
   ]
  },
  {
   "cell_type": "code",
   "execution_count": 274,
   "metadata": {},
   "outputs": [],
   "source": [
    "df.drop('Lead_POC_email', axis=1, inplace=True)"
   ]
  },
  {
   "cell_type": "code",
   "execution_count": 275,
   "metadata": {},
   "outputs": [],
   "source": [
    "df.drop('Hiring_candidate_role', axis=1, inplace=True)"
   ]
  },
  {
   "cell_type": "code",
   "execution_count": 276,
   "metadata": {},
   "outputs": [],
   "source": [
    "df['Level_of_meeting'] = df['Level_of_meeting'].apply(lambda a: np.int64(a.split(' ')[1]))"
   ]
  },
  {
   "cell_type": "code",
   "execution_count": 277,
   "metadata": {},
   "outputs": [
    {
     "data": {
      "text/html": [
       "<div>\n",
       "<style scoped>\n",
       "    .dataframe tbody tr th:only-of-type {\n",
       "        vertical-align: middle;\n",
       "    }\n",
       "\n",
       "    .dataframe tbody tr th {\n",
       "        vertical-align: top;\n",
       "    }\n",
       "\n",
       "    .dataframe thead th {\n",
       "        text-align: right;\n",
       "    }\n",
       "</style>\n",
       "<table border=\"1\" class=\"dataframe\">\n",
       "  <thead>\n",
       "    <tr style=\"text-align: right;\">\n",
       "      <th></th>\n",
       "      <th>Industry</th>\n",
       "      <th>Deal_value</th>\n",
       "      <th>Weighted_amount</th>\n",
       "      <th>Date_of_creation</th>\n",
       "      <th>Pitch</th>\n",
       "      <th>Lead_revenue</th>\n",
       "      <th>Fund_category</th>\n",
       "      <th>Geography</th>\n",
       "      <th>Designation</th>\n",
       "      <th>Lead_source</th>\n",
       "      <th>Level_of_meeting</th>\n",
       "      <th>Last_lead_update</th>\n",
       "      <th>Internal_POC</th>\n",
       "      <th>Resource</th>\n",
       "      <th>Internal_rating</th>\n",
       "      <th>Success_probability</th>\n",
       "    </tr>\n",
       "  </thead>\n",
       "  <tbody>\n",
       "    <tr>\n",
       "      <th>0</th>\n",
       "      <td>Restaurants</td>\n",
       "      <td>320506.0</td>\n",
       "      <td>2067263.7</td>\n",
       "      <td>2020-03-29</td>\n",
       "      <td>2</td>\n",
       "      <td>50</td>\n",
       "      <td>2</td>\n",
       "      <td>USA</td>\n",
       "      <td>Executive Vice President</td>\n",
       "      <td>Website</td>\n",
       "      <td>3</td>\n",
       "      <td>No track</td>\n",
       "      <td>Davis,Sharrice A</td>\n",
       "      <td>NaN</td>\n",
       "      <td>3</td>\n",
       "      <td>73.6</td>\n",
       "    </tr>\n",
       "    <tr>\n",
       "      <th>1</th>\n",
       "      <td>Construction Services</td>\n",
       "      <td>39488.0</td>\n",
       "      <td>240876.8</td>\n",
       "      <td>2019-07-10</td>\n",
       "      <td>2</td>\n",
       "      <td>500</td>\n",
       "      <td>4</td>\n",
       "      <td>India</td>\n",
       "      <td>Chairman/CEO/President</td>\n",
       "      <td>Others</td>\n",
       "      <td>1</td>\n",
       "      <td>Did not hear back after Level 1</td>\n",
       "      <td>Brown,Maxine A</td>\n",
       "      <td>No</td>\n",
       "      <td>5</td>\n",
       "      <td>58.9</td>\n",
       "    </tr>\n",
       "    <tr>\n",
       "      <th>2</th>\n",
       "      <td>Hospitals/Clinics</td>\n",
       "      <td>359392.0</td>\n",
       "      <td>2407926.4</td>\n",
       "      <td>2019-07-27</td>\n",
       "      <td>1</td>\n",
       "      <td>500</td>\n",
       "      <td>4</td>\n",
       "      <td>USA</td>\n",
       "      <td>SVP/General Counsel</td>\n",
       "      <td>Marketing Event</td>\n",
       "      <td>1</td>\n",
       "      <td>?</td>\n",
       "      <td>Georgakopoulos,Vasilios T</td>\n",
       "      <td>No</td>\n",
       "      <td>4</td>\n",
       "      <td>68.8</td>\n",
       "    </tr>\n",
       "    <tr>\n",
       "      <th>3</th>\n",
       "      <td>Real Estate</td>\n",
       "      <td>76774.0</td>\n",
       "      <td>468321.4</td>\n",
       "      <td>2021-01-30</td>\n",
       "      <td>2</td>\n",
       "      <td>500</td>\n",
       "      <td>3</td>\n",
       "      <td>USA</td>\n",
       "      <td>CEO/Co-Founder/Chairman</td>\n",
       "      <td>Contact Email</td>\n",
       "      <td>2</td>\n",
       "      <td>Did not hear back after Level 1</td>\n",
       "      <td>Brown,Maxine A</td>\n",
       "      <td>We have all the requirements</td>\n",
       "      <td>1</td>\n",
       "      <td>64.5</td>\n",
       "    </tr>\n",
       "    <tr>\n",
       "      <th>4</th>\n",
       "      <td>Financial Services</td>\n",
       "      <td>483896.0</td>\n",
       "      <td>0.0</td>\n",
       "      <td>2019-05-22</td>\n",
       "      <td>2</td>\n",
       "      <td>50</td>\n",
       "      <td>3</td>\n",
       "      <td>India</td>\n",
       "      <td>Executive Vice President</td>\n",
       "      <td>Website</td>\n",
       "      <td>2</td>\n",
       "      <td>Up-to-date</td>\n",
       "      <td>Thomas,Lori E</td>\n",
       "      <td>No</td>\n",
       "      <td>4</td>\n",
       "      <td>62.4</td>\n",
       "    </tr>\n",
       "  </tbody>\n",
       "</table>\n",
       "</div>"
      ],
      "text/plain": [
       "                Industry  Deal_value  Weighted_amount Date_of_creation  Pitch  \\\n",
       "0            Restaurants    320506.0        2067263.7       2020-03-29      2   \n",
       "1  Construction Services     39488.0         240876.8       2019-07-10      2   \n",
       "2      Hospitals/Clinics    359392.0        2407926.4       2019-07-27      1   \n",
       "3            Real Estate     76774.0         468321.4       2021-01-30      2   \n",
       "4     Financial Services    483896.0              0.0       2019-05-22      2   \n",
       "\n",
       "   Lead_revenue  Fund_category Geography               Designation  \\\n",
       "0            50              2       USA  Executive Vice President   \n",
       "1           500              4     India    Chairman/CEO/President   \n",
       "2           500              4       USA      SVP/General Counsel    \n",
       "3           500              3       USA   CEO/Co-Founder/Chairman   \n",
       "4            50              3     India  Executive Vice President   \n",
       "\n",
       "       Lead_source  Level_of_meeting                 Last_lead_update  \\\n",
       "0          Website                 3                         No track   \n",
       "1           Others                 1  Did not hear back after Level 1   \n",
       "2  Marketing Event                 1                                ?   \n",
       "3    Contact Email                 2  Did not hear back after Level 1   \n",
       "4          Website                 2                       Up-to-date   \n",
       "\n",
       "                Internal_POC                      Resource  Internal_rating  \\\n",
       "0           Davis,Sharrice A                           NaN                3   \n",
       "1             Brown,Maxine A                            No                5   \n",
       "2  Georgakopoulos,Vasilios T                            No                4   \n",
       "3             Brown,Maxine A  We have all the requirements                1   \n",
       "4              Thomas,Lori E                            No                4   \n",
       "\n",
       "   Success_probability  \n",
       "0                 73.6  \n",
       "1                 58.9  \n",
       "2                 68.8  \n",
       "3                 64.5  \n",
       "4                 62.4  "
      ]
     },
     "execution_count": 277,
     "metadata": {},
     "output_type": "execute_result"
    }
   ],
   "source": [
    "df.head()"
   ]
  },
  {
   "cell_type": "code",
   "execution_count": 278,
   "metadata": {},
   "outputs": [],
   "source": [
    "df['Last_lead_update'].fillna('None', inplace=True)"
   ]
  },
  {
   "cell_type": "code",
   "execution_count": 279,
   "metadata": {},
   "outputs": [],
   "source": [
    "df.drop('Internal_POC', axis=1, inplace=True)"
   ]
  },
  {
   "cell_type": "code",
   "execution_count": 280,
   "metadata": {},
   "outputs": [],
   "source": [
    "df['Resource'].fillna('Not Known', inplace=True)"
   ]
  },
  {
   "cell_type": "code",
   "execution_count": 281,
   "metadata": {},
   "outputs": [],
   "source": [
    "df.dropna(inplace=True)"
   ]
  },
  {
   "cell_type": "code",
   "execution_count": 282,
   "metadata": {},
   "outputs": [
    {
     "name": "stdout",
     "output_type": "stream",
     "text": [
      "<class 'pandas.core.frame.DataFrame'>\n",
      "Int64Index: 7006 entries, 0 to 7006\n",
      "Data columns (total 15 columns):\n",
      "Industry               7006 non-null object\n",
      "Deal_value             7006 non-null float64\n",
      "Weighted_amount        7006 non-null float64\n",
      "Date_of_creation       7006 non-null object\n",
      "Pitch                  7006 non-null int64\n",
      "Lead_revenue           7006 non-null int64\n",
      "Fund_category          7006 non-null int64\n",
      "Geography              7006 non-null object\n",
      "Designation            7006 non-null object\n",
      "Lead_source            7006 non-null object\n",
      "Level_of_meeting       7006 non-null int64\n",
      "Last_lead_update       7006 non-null object\n",
      "Resource               7006 non-null object\n",
      "Internal_rating        7006 non-null int64\n",
      "Success_probability    7006 non-null float64\n",
      "dtypes: float64(3), int64(5), object(7)\n",
      "memory usage: 875.8+ KB\n"
     ]
    }
   ],
   "source": [
    "df.info()"
   ]
  },
  {
   "cell_type": "code",
   "execution_count": 283,
   "metadata": {},
   "outputs": [],
   "source": [
    "industry_dict = df['Industry'].value_counts().to_dict()"
   ]
  },
  {
   "cell_type": "code",
   "execution_count": 284,
   "metadata": {},
   "outputs": [],
   "source": [
    "df['Industry'] = df['Industry'].map(industry_dict)"
   ]
  },
  {
   "cell_type": "code",
   "execution_count": 285,
   "metadata": {},
   "outputs": [
    {
     "data": {
      "text/plain": [
       "(66,)"
      ]
     },
     "execution_count": 285,
     "metadata": {},
     "output_type": "execute_result"
    }
   ],
   "source": [
    "df['Industry'].value_counts().shape"
   ]
  },
  {
   "cell_type": "code",
   "execution_count": 287,
   "metadata": {},
   "outputs": [],
   "source": [
    "df.drop('Date_of_creation', axis=1, inplace=True)"
   ]
  },
  {
   "cell_type": "code",
   "execution_count": 288,
   "metadata": {},
   "outputs": [],
   "source": [
    "df_clean = pd.get_dummies(df, drop_first=True)"
   ]
  },
  {
   "cell_type": "code",
   "execution_count": 290,
   "metadata": {},
   "outputs": [
    {
     "data": {
      "text/html": [
       "<div>\n",
       "<style scoped>\n",
       "    .dataframe tbody tr th:only-of-type {\n",
       "        vertical-align: middle;\n",
       "    }\n",
       "\n",
       "    .dataframe tbody tr th {\n",
       "        vertical-align: top;\n",
       "    }\n",
       "\n",
       "    .dataframe thead th {\n",
       "        text-align: right;\n",
       "    }\n",
       "</style>\n",
       "<table border=\"1\" class=\"dataframe\">\n",
       "  <thead>\n",
       "    <tr style=\"text-align: right;\">\n",
       "      <th></th>\n",
       "      <th>Industry</th>\n",
       "      <th>Deal_value</th>\n",
       "      <th>Weighted_amount</th>\n",
       "      <th>Pitch</th>\n",
       "      <th>Lead_revenue</th>\n",
       "      <th>Fund_category</th>\n",
       "      <th>Level_of_meeting</th>\n",
       "      <th>Internal_rating</th>\n",
       "      <th>Success_probability</th>\n",
       "      <th>Geography_USA</th>\n",
       "      <th>...</th>\n",
       "      <th>Last_lead_update_None</th>\n",
       "      <th>Last_lead_update_Pending</th>\n",
       "      <th>Last_lead_update_Up-to-date</th>\n",
       "      <th>Last_lead_update_more than a month</th>\n",
       "      <th>Resource_Deliverable</th>\n",
       "      <th>Resource_No</th>\n",
       "      <th>Resource_Not Known</th>\n",
       "      <th>Resource_Not enough</th>\n",
       "      <th>Resource_We have all the requirements</th>\n",
       "      <th>Resource_Yes</th>\n",
       "    </tr>\n",
       "  </thead>\n",
       "  <tbody>\n",
       "    <tr>\n",
       "      <th>0</th>\n",
       "      <td>52</td>\n",
       "      <td>320506.0</td>\n",
       "      <td>2067263.7</td>\n",
       "      <td>2</td>\n",
       "      <td>50</td>\n",
       "      <td>2</td>\n",
       "      <td>3</td>\n",
       "      <td>3</td>\n",
       "      <td>73.6</td>\n",
       "      <td>1</td>\n",
       "      <td>...</td>\n",
       "      <td>0</td>\n",
       "      <td>0</td>\n",
       "      <td>0</td>\n",
       "      <td>0</td>\n",
       "      <td>0</td>\n",
       "      <td>0</td>\n",
       "      <td>1</td>\n",
       "      <td>0</td>\n",
       "      <td>0</td>\n",
       "      <td>0</td>\n",
       "    </tr>\n",
       "    <tr>\n",
       "      <th>1</th>\n",
       "      <td>138</td>\n",
       "      <td>39488.0</td>\n",
       "      <td>240876.8</td>\n",
       "      <td>2</td>\n",
       "      <td>500</td>\n",
       "      <td>4</td>\n",
       "      <td>1</td>\n",
       "      <td>5</td>\n",
       "      <td>58.9</td>\n",
       "      <td>0</td>\n",
       "      <td>...</td>\n",
       "      <td>0</td>\n",
       "      <td>0</td>\n",
       "      <td>0</td>\n",
       "      <td>0</td>\n",
       "      <td>0</td>\n",
       "      <td>1</td>\n",
       "      <td>0</td>\n",
       "      <td>0</td>\n",
       "      <td>0</td>\n",
       "      <td>0</td>\n",
       "    </tr>\n",
       "    <tr>\n",
       "      <th>2</th>\n",
       "      <td>148</td>\n",
       "      <td>359392.0</td>\n",
       "      <td>2407926.4</td>\n",
       "      <td>1</td>\n",
       "      <td>500</td>\n",
       "      <td>4</td>\n",
       "      <td>1</td>\n",
       "      <td>4</td>\n",
       "      <td>68.8</td>\n",
       "      <td>1</td>\n",
       "      <td>...</td>\n",
       "      <td>0</td>\n",
       "      <td>0</td>\n",
       "      <td>0</td>\n",
       "      <td>0</td>\n",
       "      <td>0</td>\n",
       "      <td>1</td>\n",
       "      <td>0</td>\n",
       "      <td>0</td>\n",
       "      <td>0</td>\n",
       "      <td>0</td>\n",
       "    </tr>\n",
       "    <tr>\n",
       "      <th>3</th>\n",
       "      <td>209</td>\n",
       "      <td>76774.0</td>\n",
       "      <td>468321.4</td>\n",
       "      <td>2</td>\n",
       "      <td>500</td>\n",
       "      <td>3</td>\n",
       "      <td>2</td>\n",
       "      <td>1</td>\n",
       "      <td>64.5</td>\n",
       "      <td>1</td>\n",
       "      <td>...</td>\n",
       "      <td>0</td>\n",
       "      <td>0</td>\n",
       "      <td>0</td>\n",
       "      <td>0</td>\n",
       "      <td>0</td>\n",
       "      <td>0</td>\n",
       "      <td>0</td>\n",
       "      <td>0</td>\n",
       "      <td>1</td>\n",
       "      <td>0</td>\n",
       "    </tr>\n",
       "    <tr>\n",
       "      <th>4</th>\n",
       "      <td>397</td>\n",
       "      <td>483896.0</td>\n",
       "      <td>0.0</td>\n",
       "      <td>2</td>\n",
       "      <td>50</td>\n",
       "      <td>3</td>\n",
       "      <td>2</td>\n",
       "      <td>4</td>\n",
       "      <td>62.4</td>\n",
       "      <td>0</td>\n",
       "      <td>...</td>\n",
       "      <td>0</td>\n",
       "      <td>0</td>\n",
       "      <td>1</td>\n",
       "      <td>0</td>\n",
       "      <td>0</td>\n",
       "      <td>1</td>\n",
       "      <td>0</td>\n",
       "      <td>0</td>\n",
       "      <td>0</td>\n",
       "      <td>0</td>\n",
       "    </tr>\n",
       "  </tbody>\n",
       "</table>\n",
       "<p>5 rows × 39 columns</p>\n",
       "</div>"
      ],
      "text/plain": [
       "   Industry  Deal_value  Weighted_amount  Pitch  Lead_revenue  Fund_category  \\\n",
       "0        52    320506.0        2067263.7      2            50              2   \n",
       "1       138     39488.0         240876.8      2           500              4   \n",
       "2       148    359392.0        2407926.4      1           500              4   \n",
       "3       209     76774.0         468321.4      2           500              3   \n",
       "4       397    483896.0              0.0      2            50              3   \n",
       "\n",
       "   Level_of_meeting  Internal_rating  Success_probability  Geography_USA  ...  \\\n",
       "0                 3                3                 73.6              1  ...   \n",
       "1                 1                5                 58.9              0  ...   \n",
       "2                 1                4                 68.8              1  ...   \n",
       "3                 2                1                 64.5              1  ...   \n",
       "4                 2                4                 62.4              0  ...   \n",
       "\n",
       "   Last_lead_update_None  Last_lead_update_Pending  \\\n",
       "0                      0                         0   \n",
       "1                      0                         0   \n",
       "2                      0                         0   \n",
       "3                      0                         0   \n",
       "4                      0                         0   \n",
       "\n",
       "   Last_lead_update_Up-to-date  Last_lead_update_more than a month  \\\n",
       "0                            0                                   0   \n",
       "1                            0                                   0   \n",
       "2                            0                                   0   \n",
       "3                            0                                   0   \n",
       "4                            1                                   0   \n",
       "\n",
       "   Resource_Deliverable  Resource_No  Resource_Not Known  Resource_Not enough  \\\n",
       "0                     0            0                   1                    0   \n",
       "1                     0            1                   0                    0   \n",
       "2                     0            1                   0                    0   \n",
       "3                     0            0                   0                    0   \n",
       "4                     0            1                   0                    0   \n",
       "\n",
       "   Resource_We have all the requirements  Resource_Yes  \n",
       "0                                      0             0  \n",
       "1                                      0             0  \n",
       "2                                      0             0  \n",
       "3                                      1             0  \n",
       "4                                      0             0  \n",
       "\n",
       "[5 rows x 39 columns]"
      ]
     },
     "execution_count": 290,
     "metadata": {},
     "output_type": "execute_result"
    }
   ],
   "source": [
    "df_clean.head()"
   ]
  },
  {
   "cell_type": "code",
   "execution_count": 292,
   "metadata": {},
   "outputs": [],
   "source": [
    "from sklearn.model_selection import train_test_split\n",
    "\n",
    "X = df_clean.drop('Success_probability', axis=1, inplace=False)\n",
    "Y = df_clean['Success_probability']"
   ]
  },
  {
   "cell_type": "code",
   "execution_count": 298,
   "metadata": {},
   "outputs": [],
   "source": [
    "X_train, X_test, Y_train, Y_test = train_test_split(X, Y, test_size=0.2, random_state=42)"
   ]
  },
  {
   "cell_type": "code",
   "execution_count": 302,
   "metadata": {},
   "outputs": [],
   "source": [
    "n_estimators = [int(x) for x in np.linspace(start=100, stop=1200, num=12)]\n",
    "#no. of features to consider at every split\n",
    "max_features = ['auto', 'sqrt']\n",
    "#maximum no. of levels in tree\n",
    "max_depth = [int(x) for x in np.linspace(5, 30, num=6)]\n",
    "#min no. of samples required to split a node\n",
    "min_samples_split = [2, 5, 10, 15, 100]\n",
    "#min no. of samples required at each leaf node\n",
    "min_samples_leaf = [1, 2, 5, 10]\n",
    "\n",
    "\n",
    "#create random grid\n",
    "random_grid = {\n",
    "    'n_estimators':n_estimators,\n",
    "    'max_features':max_features,\n",
    "    'max_depth':max_depth,\n",
    "    'min_samples_split':min_samples_split,\n",
    "    'min_samples_leaf':min_samples_leaf,\n",
    "    'bootstrap':[True, False]\n",
    "}"
   ]
  },
  {
   "cell_type": "code",
   "execution_count": 308,
   "metadata": {},
   "outputs": [],
   "source": [
    "from sklearn.model_selection import RandomizedSearchCV\n",
    "from sklearn.ensemble import RandomForestRegressor\n",
    "\n",
    "rf = RandomForestRegressor()\n",
    "random_rf = RandomizedSearchCV(estimator=rf, param_distributions=random_grid, scoring='neg_mean_squared_error', random_state=42, cv=5, verbose=2, n_jobs=-1)"
   ]
  },
  {
   "cell_type": "code",
   "execution_count": 309,
   "metadata": {},
   "outputs": [
    {
     "name": "stdout",
     "output_type": "stream",
     "text": [
      "Fitting 5 folds for each of 10 candidates, totalling 50 fits\n"
     ]
    },
    {
     "name": "stderr",
     "output_type": "stream",
     "text": [
      "[Parallel(n_jobs=-1)]: Using backend LokyBackend with 8 concurrent workers.\n",
      "[Parallel(n_jobs=-1)]: Done  25 tasks      | elapsed:   22.3s\n",
      "[Parallel(n_jobs=-1)]: Done  50 out of  50 | elapsed:  1.7min finished\n"
     ]
    },
    {
     "data": {
      "text/plain": [
       "RandomizedSearchCV(cv=5, error_score='raise-deprecating',\n",
       "                   estimator=RandomForestRegressor(bootstrap=True,\n",
       "                                                   criterion='mse',\n",
       "                                                   max_depth=None,\n",
       "                                                   max_features='auto',\n",
       "                                                   max_leaf_nodes=None,\n",
       "                                                   min_impurity_decrease=0.0,\n",
       "                                                   min_impurity_split=None,\n",
       "                                                   min_samples_leaf=1,\n",
       "                                                   min_samples_split=2,\n",
       "                                                   min_weight_fraction_leaf=0.0,\n",
       "                                                   n_estimators='warn',\n",
       "                                                   n_jobs=None, oob_score=False,\n",
       "                                                   random_sta...\n",
       "                   param_distributions={'bootstrap': [True, False],\n",
       "                                        'max_depth': [5, 10, 15, 20, 25, 30],\n",
       "                                        'max_features': ['auto', 'sqrt'],\n",
       "                                        'min_samples_leaf': [1, 2, 5, 10],\n",
       "                                        'min_samples_split': [2, 5, 10, 15,\n",
       "                                                              100],\n",
       "                                        'n_estimators': [100, 200, 300, 400,\n",
       "                                                         500, 600, 700, 800,\n",
       "                                                         900, 1000, 1100,\n",
       "                                                         1200]},\n",
       "                   pre_dispatch='2*n_jobs', random_state=42, refit=True,\n",
       "                   return_train_score=False, scoring='neg_mean_squared_error',\n",
       "                   verbose=2)"
      ]
     },
     "execution_count": 309,
     "metadata": {},
     "output_type": "execute_result"
    }
   ],
   "source": [
    "random_rf.fit(X_train, Y_train)"
   ]
  },
  {
   "cell_type": "code",
   "execution_count": 369,
   "metadata": {},
   "outputs": [
    {
     "data": {
      "text/plain": [
       "RandomForestRegressor(bootstrap=True, criterion='mse', max_depth=10,\n",
       "                      max_features='sqrt', max_leaf_nodes=None,\n",
       "                      min_impurity_decrease=0.0, min_impurity_split=None,\n",
       "                      min_samples_leaf=5, min_samples_split=5,\n",
       "                      min_weight_fraction_leaf=0.0, n_estimators=900,\n",
       "                      n_jobs=None, oob_score=False, random_state=None,\n",
       "                      verbose=0, warm_start=False)"
      ]
     },
     "execution_count": 369,
     "metadata": {},
     "output_type": "execute_result"
    }
   ],
   "source": [
    "random_rf.best_estimator_"
   ]
  },
  {
   "cell_type": "code",
   "execution_count": 310,
   "metadata": {},
   "outputs": [],
   "source": [
    "predictions = random_rf.predict(X_test)"
   ]
  },
  {
   "cell_type": "code",
   "execution_count": 315,
   "metadata": {},
   "outputs": [
    {
     "data": {
      "text/plain": [
       "81.81519506071841"
      ]
     },
     "execution_count": 315,
     "metadata": {},
     "output_type": "execute_result"
    }
   ],
   "source": [
    "from sklearn.metrics import mean_squared_error\n",
    "\n",
    "100-np.sqrt(mean_squared_error(predictions, Y_test))"
   ]
  },
  {
   "cell_type": "code",
   "execution_count": 359,
   "metadata": {},
   "outputs": [],
   "source": [
    "def clean_test_data(df):\n",
    "    df.drop('Deal_title', axis=1, inplace=True)\n",
    "    df.drop('Lead_name', axis=1, inplace=True)    \n",
    "    df['Deal_value'].fillna('247839$', inplace=True)\n",
    "    df['Deal_value'] = df['Deal_value'].apply(impute_deal_value)\n",
    "    df['Weighted_amount'].fillna('0$', inplace=True)\n",
    "    df['Weighted_amount'] = df['Weighted_amount'].apply(impute_deal_value)\n",
    "    df['Pitch'] = df['Pitch'].apply(impute_pitch)\n",
    "    df.drop('Contact_no', axis=1, inplace=True)\n",
    "    df['Lead_revenue'] = df['Lead_revenue'].apply(impute_lead_revenue)\n",
    "    df['Fund_category'] = df['Fund_category'].apply(lambda a: np.int64(a.split(' ')[1]))\n",
    "    df['Location'].fillna('none', inplace=True)\n",
    "    df['Geography'] = df['Location'].apply(fill_geography)\n",
    "    df.drop('Location',  axis=1, inplace=True)\n",
    "    df.drop('POC_name', axis=1, inplace=True)\n",
    "    df.drop('Lead_POC_email', axis=1, inplace=True)\n",
    "    df.drop('Hiring_candidate_role', axis=1, inplace=True)\n",
    "    df['Level_of_meeting'] = df['Level_of_meeting'].apply(lambda a: np.int64(a.split(' ')[1]))\n",
    "    df['Last_lead_update'].fillna('None', inplace=True)\n",
    "    df.drop('Internal_POC', axis=1, inplace=True)\n",
    "    df['Resource'].fillna('Not Known', inplace=True)\n",
    "    industry_dict = df['Industry'].value_counts().to_dict()\n",
    "    df['Industry'] = df['Industry'].map(industry_dict)\n",
    "    df.drop('Date_of_creation', axis=1, inplace=True)\n",
    "    df_clean = pd.get_dummies(df, drop_first=True)\n",
    "    \n",
    "    return df_clean"
   ]
  },
  {
   "cell_type": "code",
   "execution_count": 367,
   "metadata": {},
   "outputs": [],
   "source": [
    "test_df = pd.read_csv('dataset/test.csv')"
   ]
  },
  {
   "cell_type": "code",
   "execution_count": 361,
   "metadata": {},
   "outputs": [],
   "source": [
    "test_df['Industry'].fillna('Real Estate', inplace=True)"
   ]
  },
  {
   "cell_type": "code",
   "execution_count": 362,
   "metadata": {},
   "outputs": [],
   "source": [
    "test_df['Internal_rating'] = test_df['Internal_rating'].apply(lambda a: np.int64(a))"
   ]
  },
  {
   "cell_type": "code",
   "execution_count": 363,
   "metadata": {},
   "outputs": [],
   "source": [
    "test_df_clean = clean_test_data(test_df)"
   ]
  },
  {
   "cell_type": "code",
   "execution_count": 364,
   "metadata": {},
   "outputs": [
    {
     "data": {
      "text/plain": [
       "(2093, 38)"
      ]
     },
     "execution_count": 364,
     "metadata": {},
     "output_type": "execute_result"
    }
   ],
   "source": [
    "test_df_clean.shape"
   ]
  },
  {
   "cell_type": "code",
   "execution_count": 366,
   "metadata": {},
   "outputs": [],
   "source": [
    "pred = random_rf.predict(test_df_clean)"
   ]
  },
  {
   "cell_type": "code",
   "execution_count": null,
   "metadata": {},
   "outputs": [],
   "source": []
  }
 ],
 "metadata": {
  "kernelspec": {
   "display_name": "Python 3",
   "language": "python",
   "name": "python3"
  },
  "language_info": {
   "codemirror_mode": {
    "name": "ipython",
    "version": 3
   },
   "file_extension": ".py",
   "mimetype": "text/x-python",
   "name": "python",
   "nbconvert_exporter": "python",
   "pygments_lexer": "ipython3",
   "version": "3.7.3"
  }
 },
 "nbformat": 4,
 "nbformat_minor": 2
}
