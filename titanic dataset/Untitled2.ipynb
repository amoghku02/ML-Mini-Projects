{
 "cells": [
  {
   "cell_type": "code",
   "execution_count": 1,
   "metadata": {},
   "outputs": [],
   "source": [
    "import pandas as pd\n",
    "import numpy as np\n",
    "import seaborn as sns"
   ]
  },
  {
   "cell_type": "code",
   "execution_count": 2,
   "metadata": {},
   "outputs": [],
   "source": [
    "df = pd.read_csv('train.csv')"
   ]
  },
  {
   "cell_type": "code",
   "execution_count": 3,
   "metadata": {},
   "outputs": [],
   "source": [
    "df.drop('PassengerId', axis=1, inplace=True)\n",
    "df.drop('Name', axis=1, inplace=True)\n",
    "df.drop('Ticket', axis=1, inplace=True)\n",
    "df.drop('Cabin', axis=1, inplace=True)"
   ]
  },
  {
   "cell_type": "code",
   "execution_count": 4,
   "metadata": {},
   "outputs": [
    {
     "data": {
      "text/html": [
       "<div>\n",
       "<style scoped>\n",
       "    .dataframe tbody tr th:only-of-type {\n",
       "        vertical-align: middle;\n",
       "    }\n",
       "\n",
       "    .dataframe tbody tr th {\n",
       "        vertical-align: top;\n",
       "    }\n",
       "\n",
       "    .dataframe thead th {\n",
       "        text-align: right;\n",
       "    }\n",
       "</style>\n",
       "<table border=\"1\" class=\"dataframe\">\n",
       "  <thead>\n",
       "    <tr style=\"text-align: right;\">\n",
       "      <th></th>\n",
       "      <th>Survived</th>\n",
       "      <th>Pclass</th>\n",
       "      <th>Sex</th>\n",
       "      <th>Age</th>\n",
       "      <th>SibSp</th>\n",
       "      <th>Parch</th>\n",
       "      <th>Fare</th>\n",
       "      <th>Embarked</th>\n",
       "    </tr>\n",
       "  </thead>\n",
       "  <tbody>\n",
       "    <tr>\n",
       "      <th>0</th>\n",
       "      <td>0</td>\n",
       "      <td>3</td>\n",
       "      <td>male</td>\n",
       "      <td>22.0</td>\n",
       "      <td>1</td>\n",
       "      <td>0</td>\n",
       "      <td>7.2500</td>\n",
       "      <td>S</td>\n",
       "    </tr>\n",
       "    <tr>\n",
       "      <th>1</th>\n",
       "      <td>1</td>\n",
       "      <td>1</td>\n",
       "      <td>female</td>\n",
       "      <td>38.0</td>\n",
       "      <td>1</td>\n",
       "      <td>0</td>\n",
       "      <td>71.2833</td>\n",
       "      <td>C</td>\n",
       "    </tr>\n",
       "    <tr>\n",
       "      <th>2</th>\n",
       "      <td>1</td>\n",
       "      <td>3</td>\n",
       "      <td>female</td>\n",
       "      <td>26.0</td>\n",
       "      <td>0</td>\n",
       "      <td>0</td>\n",
       "      <td>7.9250</td>\n",
       "      <td>S</td>\n",
       "    </tr>\n",
       "    <tr>\n",
       "      <th>3</th>\n",
       "      <td>1</td>\n",
       "      <td>1</td>\n",
       "      <td>female</td>\n",
       "      <td>35.0</td>\n",
       "      <td>1</td>\n",
       "      <td>0</td>\n",
       "      <td>53.1000</td>\n",
       "      <td>S</td>\n",
       "    </tr>\n",
       "    <tr>\n",
       "      <th>4</th>\n",
       "      <td>0</td>\n",
       "      <td>3</td>\n",
       "      <td>male</td>\n",
       "      <td>35.0</td>\n",
       "      <td>0</td>\n",
       "      <td>0</td>\n",
       "      <td>8.0500</td>\n",
       "      <td>S</td>\n",
       "    </tr>\n",
       "    <tr>\n",
       "      <th>...</th>\n",
       "      <td>...</td>\n",
       "      <td>...</td>\n",
       "      <td>...</td>\n",
       "      <td>...</td>\n",
       "      <td>...</td>\n",
       "      <td>...</td>\n",
       "      <td>...</td>\n",
       "      <td>...</td>\n",
       "    </tr>\n",
       "    <tr>\n",
       "      <th>886</th>\n",
       "      <td>0</td>\n",
       "      <td>2</td>\n",
       "      <td>male</td>\n",
       "      <td>27.0</td>\n",
       "      <td>0</td>\n",
       "      <td>0</td>\n",
       "      <td>13.0000</td>\n",
       "      <td>S</td>\n",
       "    </tr>\n",
       "    <tr>\n",
       "      <th>887</th>\n",
       "      <td>1</td>\n",
       "      <td>1</td>\n",
       "      <td>female</td>\n",
       "      <td>19.0</td>\n",
       "      <td>0</td>\n",
       "      <td>0</td>\n",
       "      <td>30.0000</td>\n",
       "      <td>S</td>\n",
       "    </tr>\n",
       "    <tr>\n",
       "      <th>888</th>\n",
       "      <td>0</td>\n",
       "      <td>3</td>\n",
       "      <td>female</td>\n",
       "      <td>NaN</td>\n",
       "      <td>1</td>\n",
       "      <td>2</td>\n",
       "      <td>23.4500</td>\n",
       "      <td>S</td>\n",
       "    </tr>\n",
       "    <tr>\n",
       "      <th>889</th>\n",
       "      <td>1</td>\n",
       "      <td>1</td>\n",
       "      <td>male</td>\n",
       "      <td>26.0</td>\n",
       "      <td>0</td>\n",
       "      <td>0</td>\n",
       "      <td>30.0000</td>\n",
       "      <td>C</td>\n",
       "    </tr>\n",
       "    <tr>\n",
       "      <th>890</th>\n",
       "      <td>0</td>\n",
       "      <td>3</td>\n",
       "      <td>male</td>\n",
       "      <td>32.0</td>\n",
       "      <td>0</td>\n",
       "      <td>0</td>\n",
       "      <td>7.7500</td>\n",
       "      <td>Q</td>\n",
       "    </tr>\n",
       "  </tbody>\n",
       "</table>\n",
       "<p>891 rows × 8 columns</p>\n",
       "</div>"
      ],
      "text/plain": [
       "     Survived  Pclass     Sex   Age  SibSp  Parch     Fare Embarked\n",
       "0           0       3    male  22.0      1      0   7.2500        S\n",
       "1           1       1  female  38.0      1      0  71.2833        C\n",
       "2           1       3  female  26.0      0      0   7.9250        S\n",
       "3           1       1  female  35.0      1      0  53.1000        S\n",
       "4           0       3    male  35.0      0      0   8.0500        S\n",
       "..        ...     ...     ...   ...    ...    ...      ...      ...\n",
       "886         0       2    male  27.0      0      0  13.0000        S\n",
       "887         1       1  female  19.0      0      0  30.0000        S\n",
       "888         0       3  female   NaN      1      2  23.4500        S\n",
       "889         1       1    male  26.0      0      0  30.0000        C\n",
       "890         0       3    male  32.0      0      0   7.7500        Q\n",
       "\n",
       "[891 rows x 8 columns]"
      ]
     },
     "execution_count": 4,
     "metadata": {},
     "output_type": "execute_result"
    }
   ],
   "source": [
    "df"
   ]
  },
  {
   "cell_type": "code",
   "execution_count": 5,
   "metadata": {},
   "outputs": [],
   "source": [
    "df['Embarked'].fillna('S', inplace=True)"
   ]
  },
  {
   "cell_type": "code",
   "execution_count": 6,
   "metadata": {},
   "outputs": [],
   "source": [
    "new_df = pd.get_dummies(df, drop_first=True)"
   ]
  },
  {
   "cell_type": "code",
   "execution_count": 7,
   "metadata": {},
   "outputs": [
    {
     "data": {
      "text/html": [
       "<div>\n",
       "<style scoped>\n",
       "    .dataframe tbody tr th:only-of-type {\n",
       "        vertical-align: middle;\n",
       "    }\n",
       "\n",
       "    .dataframe tbody tr th {\n",
       "        vertical-align: top;\n",
       "    }\n",
       "\n",
       "    .dataframe thead th {\n",
       "        text-align: right;\n",
       "    }\n",
       "</style>\n",
       "<table border=\"1\" class=\"dataframe\">\n",
       "  <thead>\n",
       "    <tr style=\"text-align: right;\">\n",
       "      <th></th>\n",
       "      <th>Survived</th>\n",
       "      <th>Pclass</th>\n",
       "      <th>Age</th>\n",
       "      <th>SibSp</th>\n",
       "      <th>Parch</th>\n",
       "      <th>Fare</th>\n",
       "      <th>Sex_male</th>\n",
       "      <th>Embarked_Q</th>\n",
       "      <th>Embarked_S</th>\n",
       "    </tr>\n",
       "  </thead>\n",
       "  <tbody>\n",
       "    <tr>\n",
       "      <th>0</th>\n",
       "      <td>0</td>\n",
       "      <td>3</td>\n",
       "      <td>22.0</td>\n",
       "      <td>1</td>\n",
       "      <td>0</td>\n",
       "      <td>7.2500</td>\n",
       "      <td>1</td>\n",
       "      <td>0</td>\n",
       "      <td>1</td>\n",
       "    </tr>\n",
       "    <tr>\n",
       "      <th>1</th>\n",
       "      <td>1</td>\n",
       "      <td>1</td>\n",
       "      <td>38.0</td>\n",
       "      <td>1</td>\n",
       "      <td>0</td>\n",
       "      <td>71.2833</td>\n",
       "      <td>0</td>\n",
       "      <td>0</td>\n",
       "      <td>0</td>\n",
       "    </tr>\n",
       "    <tr>\n",
       "      <th>2</th>\n",
       "      <td>1</td>\n",
       "      <td>3</td>\n",
       "      <td>26.0</td>\n",
       "      <td>0</td>\n",
       "      <td>0</td>\n",
       "      <td>7.9250</td>\n",
       "      <td>0</td>\n",
       "      <td>0</td>\n",
       "      <td>1</td>\n",
       "    </tr>\n",
       "    <tr>\n",
       "      <th>3</th>\n",
       "      <td>1</td>\n",
       "      <td>1</td>\n",
       "      <td>35.0</td>\n",
       "      <td>1</td>\n",
       "      <td>0</td>\n",
       "      <td>53.1000</td>\n",
       "      <td>0</td>\n",
       "      <td>0</td>\n",
       "      <td>1</td>\n",
       "    </tr>\n",
       "    <tr>\n",
       "      <th>4</th>\n",
       "      <td>0</td>\n",
       "      <td>3</td>\n",
       "      <td>35.0</td>\n",
       "      <td>0</td>\n",
       "      <td>0</td>\n",
       "      <td>8.0500</td>\n",
       "      <td>1</td>\n",
       "      <td>0</td>\n",
       "      <td>1</td>\n",
       "    </tr>\n",
       "    <tr>\n",
       "      <th>...</th>\n",
       "      <td>...</td>\n",
       "      <td>...</td>\n",
       "      <td>...</td>\n",
       "      <td>...</td>\n",
       "      <td>...</td>\n",
       "      <td>...</td>\n",
       "      <td>...</td>\n",
       "      <td>...</td>\n",
       "      <td>...</td>\n",
       "    </tr>\n",
       "    <tr>\n",
       "      <th>886</th>\n",
       "      <td>0</td>\n",
       "      <td>2</td>\n",
       "      <td>27.0</td>\n",
       "      <td>0</td>\n",
       "      <td>0</td>\n",
       "      <td>13.0000</td>\n",
       "      <td>1</td>\n",
       "      <td>0</td>\n",
       "      <td>1</td>\n",
       "    </tr>\n",
       "    <tr>\n",
       "      <th>887</th>\n",
       "      <td>1</td>\n",
       "      <td>1</td>\n",
       "      <td>19.0</td>\n",
       "      <td>0</td>\n",
       "      <td>0</td>\n",
       "      <td>30.0000</td>\n",
       "      <td>0</td>\n",
       "      <td>0</td>\n",
       "      <td>1</td>\n",
       "    </tr>\n",
       "    <tr>\n",
       "      <th>888</th>\n",
       "      <td>0</td>\n",
       "      <td>3</td>\n",
       "      <td>NaN</td>\n",
       "      <td>1</td>\n",
       "      <td>2</td>\n",
       "      <td>23.4500</td>\n",
       "      <td>0</td>\n",
       "      <td>0</td>\n",
       "      <td>1</td>\n",
       "    </tr>\n",
       "    <tr>\n",
       "      <th>889</th>\n",
       "      <td>1</td>\n",
       "      <td>1</td>\n",
       "      <td>26.0</td>\n",
       "      <td>0</td>\n",
       "      <td>0</td>\n",
       "      <td>30.0000</td>\n",
       "      <td>1</td>\n",
       "      <td>0</td>\n",
       "      <td>0</td>\n",
       "    </tr>\n",
       "    <tr>\n",
       "      <th>890</th>\n",
       "      <td>0</td>\n",
       "      <td>3</td>\n",
       "      <td>32.0</td>\n",
       "      <td>0</td>\n",
       "      <td>0</td>\n",
       "      <td>7.7500</td>\n",
       "      <td>1</td>\n",
       "      <td>1</td>\n",
       "      <td>0</td>\n",
       "    </tr>\n",
       "  </tbody>\n",
       "</table>\n",
       "<p>891 rows × 9 columns</p>\n",
       "</div>"
      ],
      "text/plain": [
       "     Survived  Pclass   Age  SibSp  Parch     Fare  Sex_male  Embarked_Q  \\\n",
       "0           0       3  22.0      1      0   7.2500         1           0   \n",
       "1           1       1  38.0      1      0  71.2833         0           0   \n",
       "2           1       3  26.0      0      0   7.9250         0           0   \n",
       "3           1       1  35.0      1      0  53.1000         0           0   \n",
       "4           0       3  35.0      0      0   8.0500         1           0   \n",
       "..        ...     ...   ...    ...    ...      ...       ...         ...   \n",
       "886         0       2  27.0      0      0  13.0000         1           0   \n",
       "887         1       1  19.0      0      0  30.0000         0           0   \n",
       "888         0       3   NaN      1      2  23.4500         0           0   \n",
       "889         1       1  26.0      0      0  30.0000         1           0   \n",
       "890         0       3  32.0      0      0   7.7500         1           1   \n",
       "\n",
       "     Embarked_S  \n",
       "0             1  \n",
       "1             0  \n",
       "2             1  \n",
       "3             1  \n",
       "4             1  \n",
       "..          ...  \n",
       "886           1  \n",
       "887           1  \n",
       "888           1  \n",
       "889           0  \n",
       "890           0  \n",
       "\n",
       "[891 rows x 9 columns]"
      ]
     },
     "execution_count": 7,
     "metadata": {},
     "output_type": "execute_result"
    }
   ],
   "source": [
    "new_df"
   ]
  },
  {
   "cell_type": "code",
   "execution_count": 8,
   "metadata": {},
   "outputs": [
    {
     "name": "stdout",
     "output_type": "stream",
     "text": [
      "<class 'pandas.core.frame.DataFrame'>\n",
      "RangeIndex: 891 entries, 0 to 890\n",
      "Data columns (total 9 columns):\n",
      " #   Column      Non-Null Count  Dtype  \n",
      "---  ------      --------------  -----  \n",
      " 0   Survived    891 non-null    int64  \n",
      " 1   Pclass      891 non-null    int64  \n",
      " 2   Age         714 non-null    float64\n",
      " 3   SibSp       891 non-null    int64  \n",
      " 4   Parch       891 non-null    int64  \n",
      " 5   Fare        891 non-null    float64\n",
      " 6   Sex_male    891 non-null    uint8  \n",
      " 7   Embarked_Q  891 non-null    uint8  \n",
      " 8   Embarked_S  891 non-null    uint8  \n",
      "dtypes: float64(2), int64(4), uint8(3)\n",
      "memory usage: 44.5 KB\n"
     ]
    }
   ],
   "source": [
    "new_df.info()"
   ]
  },
  {
   "cell_type": "code",
   "execution_count": 9,
   "metadata": {},
   "outputs": [
    {
     "data": {
      "text/plain": [
       "<AxesSubplot:>"
      ]
     },
     "execution_count": 9,
     "metadata": {},
     "output_type": "execute_result"
    },
    {
     "data": {
      "image/png": "[encoded data removed]",
      "text/plain": [
       "<Figure size 432x288 with 2 Axes>"
      ]
     },
     "metadata": {
      "needs_background": "light"
     },
     "output_type": "display_data"
    }
   ],
   "source": [
    "sns.heatmap(new_df.corr())"
   ]
  },
  {
   "cell_type": "code",
   "execution_count": 10,
   "metadata": {},
   "outputs": [
    {
     "name": "stderr",
     "output_type": "stream",
     "text": [
      "/home/amogh/anaconda3/lib/python3.8/site-packages/seaborn/distributions.py:369: UserWarning: Default bandwidth for data is 0; skipping density estimation.\n",
      "  warnings.warn(msg, UserWarning)\n",
      "/home/amogh/anaconda3/lib/python3.8/site-packages/seaborn/distributions.py:369: UserWarning: Default bandwidth for data is 0; skipping density estimation.\n",
      "  warnings.warn(msg, UserWarning)\n",
      "/home/amogh/anaconda3/lib/python3.8/site-packages/seaborn/distributions.py:369: UserWarning: Default bandwidth for data is 0; skipping density estimation.\n",
      "  warnings.warn(msg, UserWarning)\n",
      "/home/amogh/anaconda3/lib/python3.8/site-packages/seaborn/distributions.py:369: UserWarning: Default bandwidth for data is 0; skipping density estimation.\n",
      "  warnings.warn(msg, UserWarning)\n",
      "/home/amogh/anaconda3/lib/python3.8/site-packages/seaborn/distributions.py:369: UserWarning: Default bandwidth for data is 0; skipping density estimation.\n",
      "  warnings.warn(msg, UserWarning)\n"
     ]
    },
    {
     "data": {
      "text/plain": [
       "<seaborn.axisgrid.PairGrid at 0x7f6792bead60>"
      ]
     },
     "execution_count": 10,
     "metadata": {},
     "output_type": "execute_result"
    },
    {
     "data": {
      "image/png": "[encoded data removed]",
      "text/plain": [
       "<Figure size 1491.88x1440 with 72 Axes>"
      ]
     },
     "metadata": {
      "needs_background": "light"
     },
     "output_type": "display_data"
    }
   ],
   "source": [
    "sns.pairplot(new_df, hue='Survived')"
   ]
  },
  {
   "cell_type": "code",
   "execution_count": 11,
   "metadata": {},
   "outputs": [
    {
     "data": {
      "text/plain": [
       "<AxesSubplot:xlabel='Pclass', ylabel='Age'>"
      ]
     },
     "execution_count": 11,
     "metadata": {},
     "output_type": "execute_result"
    },
    {
     "data": {
      "image/png": "[encoded data removed]",
      "text/plain": [
       "<Figure size 432x288 with 1 Axes>"
      ]
     },
     "metadata": {
      "needs_background": "light"
     },
     "output_type": "display_data"
    }
   ],
   "source": [
    "sns.boxplot(x='Pclass', y='Age', data=new_df)"
   ]
  },
  {
   "cell_type": "code",
   "execution_count": 12,
   "metadata": {},
   "outputs": [
    {
     "data": {
      "text/html": [
       "<div>\n",
       "<style scoped>\n",
       "    .dataframe tbody tr th:only-of-type {\n",
       "        vertical-align: middle;\n",
       "    }\n",
       "\n",
       "    .dataframe tbody tr th {\n",
       "        vertical-align: top;\n",
       "    }\n",
       "\n",
       "    .dataframe thead th {\n",
       "        text-align: right;\n",
       "    }\n",
       "</style>\n",
       "<table border=\"1\" class=\"dataframe\">\n",
       "  <thead>\n",
       "    <tr style=\"text-align: right;\">\n",
       "      <th></th>\n",
       "      <th>Survived</th>\n",
       "      <th>Pclass</th>\n",
       "      <th>Age</th>\n",
       "      <th>SibSp</th>\n",
       "      <th>Parch</th>\n",
       "      <th>Fare</th>\n",
       "      <th>Sex_male</th>\n",
       "      <th>Embarked_Q</th>\n",
       "      <th>Embarked_S</th>\n",
       "    </tr>\n",
       "  </thead>\n",
       "  <tbody>\n",
       "    <tr>\n",
       "      <th>0</th>\n",
       "      <td>0</td>\n",
       "      <td>3</td>\n",
       "      <td>22.0</td>\n",
       "      <td>1</td>\n",
       "      <td>0</td>\n",
       "      <td>7.2500</td>\n",
       "      <td>1</td>\n",
       "      <td>0</td>\n",
       "      <td>1</td>\n",
       "    </tr>\n",
       "    <tr>\n",
       "      <th>1</th>\n",
       "      <td>1</td>\n",
       "      <td>1</td>\n",
       "      <td>38.0</td>\n",
       "      <td>1</td>\n",
       "      <td>0</td>\n",
       "      <td>71.2833</td>\n",
       "      <td>0</td>\n",
       "      <td>0</td>\n",
       "      <td>0</td>\n",
       "    </tr>\n",
       "    <tr>\n",
       "      <th>2</th>\n",
       "      <td>1</td>\n",
       "      <td>3</td>\n",
       "      <td>26.0</td>\n",
       "      <td>0</td>\n",
       "      <td>0</td>\n",
       "      <td>7.9250</td>\n",
       "      <td>0</td>\n",
       "      <td>0</td>\n",
       "      <td>1</td>\n",
       "    </tr>\n",
       "    <tr>\n",
       "      <th>3</th>\n",
       "      <td>1</td>\n",
       "      <td>1</td>\n",
       "      <td>35.0</td>\n",
       "      <td>1</td>\n",
       "      <td>0</td>\n",
       "      <td>53.1000</td>\n",
       "      <td>0</td>\n",
       "      <td>0</td>\n",
       "      <td>1</td>\n",
       "    </tr>\n",
       "    <tr>\n",
       "      <th>4</th>\n",
       "      <td>0</td>\n",
       "      <td>3</td>\n",
       "      <td>35.0</td>\n",
       "      <td>0</td>\n",
       "      <td>0</td>\n",
       "      <td>8.0500</td>\n",
       "      <td>1</td>\n",
       "      <td>0</td>\n",
       "      <td>1</td>\n",
       "    </tr>\n",
       "    <tr>\n",
       "      <th>...</th>\n",
       "      <td>...</td>\n",
       "      <td>...</td>\n",
       "      <td>...</td>\n",
       "      <td>...</td>\n",
       "      <td>...</td>\n",
       "      <td>...</td>\n",
       "      <td>...</td>\n",
       "      <td>...</td>\n",
       "      <td>...</td>\n",
       "    </tr>\n",
       "    <tr>\n",
       "      <th>886</th>\n",
       "      <td>0</td>\n",
       "      <td>2</td>\n",
       "      <td>27.0</td>\n",
       "      <td>0</td>\n",
       "      <td>0</td>\n",
       "      <td>13.0000</td>\n",
       "      <td>1</td>\n",
       "      <td>0</td>\n",
       "      <td>1</td>\n",
       "    </tr>\n",
       "    <tr>\n",
       "      <th>887</th>\n",
       "      <td>1</td>\n",
       "      <td>1</td>\n",
       "      <td>19.0</td>\n",
       "      <td>0</td>\n",
       "      <td>0</td>\n",
       "      <td>30.0000</td>\n",
       "      <td>0</td>\n",
       "      <td>0</td>\n",
       "      <td>1</td>\n",
       "    </tr>\n",
       "    <tr>\n",
       "      <th>888</th>\n",
       "      <td>0</td>\n",
       "      <td>3</td>\n",
       "      <td>NaN</td>\n",
       "      <td>1</td>\n",
       "      <td>2</td>\n",
       "      <td>23.4500</td>\n",
       "      <td>0</td>\n",
       "      <td>0</td>\n",
       "      <td>1</td>\n",
       "    </tr>\n",
       "    <tr>\n",
       "      <th>889</th>\n",
       "      <td>1</td>\n",
       "      <td>1</td>\n",
       "      <td>26.0</td>\n",
       "      <td>0</td>\n",
       "      <td>0</td>\n",
       "      <td>30.0000</td>\n",
       "      <td>1</td>\n",
       "      <td>0</td>\n",
       "      <td>0</td>\n",
       "    </tr>\n",
       "    <tr>\n",
       "      <th>890</th>\n",
       "      <td>0</td>\n",
       "      <td>3</td>\n",
       "      <td>32.0</td>\n",
       "      <td>0</td>\n",
       "      <td>0</td>\n",
       "      <td>7.7500</td>\n",
       "      <td>1</td>\n",
       "      <td>1</td>\n",
       "      <td>0</td>\n",
       "    </tr>\n",
       "  </tbody>\n",
       "</table>\n",
       "<p>891 rows × 9 columns</p>\n",
       "</div>"
      ],
      "text/plain": [
       "     Survived  Pclass   Age  SibSp  Parch     Fare  Sex_male  Embarked_Q  \\\n",
       "0           0       3  22.0      1      0   7.2500         1           0   \n",
       "1           1       1  38.0      1      0  71.2833         0           0   \n",
       "2           1       3  26.0      0      0   7.9250         0           0   \n",
       "3           1       1  35.0      1      0  53.1000         0           0   \n",
       "4           0       3  35.0      0      0   8.0500         1           0   \n",
       "..        ...     ...   ...    ...    ...      ...       ...         ...   \n",
       "886         0       2  27.0      0      0  13.0000         1           0   \n",
       "887         1       1  19.0      0      0  30.0000         0           0   \n",
       "888         0       3   NaN      1      2  23.4500         0           0   \n",
       "889         1       1  26.0      0      0  30.0000         1           0   \n",
       "890         0       3  32.0      0      0   7.7500         1           1   \n",
       "\n",
       "     Embarked_S  \n",
       "0             1  \n",
       "1             0  \n",
       "2             1  \n",
       "3             1  \n",
       "4             1  \n",
       "..          ...  \n",
       "886           1  \n",
       "887           1  \n",
       "888           1  \n",
       "889           0  \n",
       "890           0  \n",
       "\n",
       "[891 rows x 9 columns]"
      ]
     },
     "execution_count": 12,
     "metadata": {},
     "output_type": "execute_result"
    }
   ],
   "source": [
    "new_df"
   ]
  },
  {
   "cell_type": "code",
   "execution_count": 13,
   "metadata": {},
   "outputs": [
    {
     "data": {
      "text/plain": [
       "<AxesSubplot:xlabel='Parch', ylabel='Age'>"
      ]
     },
     "execution_count": 13,
     "metadata": {},
     "output_type": "execute_result"
    },
    {
     "data": {
      "image/png": "[encoded data removed]",
      "text/plain": [
       "<Figure size 432x288 with 1 Axes>"
      ]
     },
     "metadata": {
      "needs_background": "light"
     },
     "output_type": "display_data"
    }
   ],
   "source": [
    "sns.boxplot(x='Parch', y='Age', data=new_df)"
   ]
  },
  {
   "cell_type": "code",
   "execution_count": 14,
   "metadata": {},
   "outputs": [
    {
     "data": {
      "text/plain": [
       "0    678\n",
       "1    118\n",
       "2     80\n",
       "5      5\n",
       "3      5\n",
       "4      4\n",
       "6      1\n",
       "Name: Parch, dtype: int64"
      ]
     },
     "execution_count": 14,
     "metadata": {},
     "output_type": "execute_result"
    }
   ],
   "source": [
    "new_df['Parch'].value_counts()"
   ]
  },
  {
   "cell_type": "code",
   "execution_count": 15,
   "metadata": {},
   "outputs": [
    {
     "data": {
      "text/plain": [
       "True     136\n",
       "False     41\n",
       "Name: Pclass, dtype: int64"
      ]
     },
     "execution_count": 15,
     "metadata": {},
     "output_type": "execute_result"
    }
   ],
   "source": [
    "(new_df[new_df['Age'].isna()]['Pclass']==3).value_counts()"
   ]
  },
  {
   "cell_type": "code",
   "execution_count": 16,
   "metadata": {},
   "outputs": [
    {
     "data": {
      "text/html": [
       "<div>\n",
       "<style scoped>\n",
       "    .dataframe tbody tr th:only-of-type {\n",
       "        vertical-align: middle;\n",
       "    }\n",
       "\n",
       "    .dataframe tbody tr th {\n",
       "        vertical-align: top;\n",
       "    }\n",
       "\n",
       "    .dataframe thead th {\n",
       "        text-align: right;\n",
       "    }\n",
       "</style>\n",
       "<table border=\"1\" class=\"dataframe\">\n",
       "  <thead>\n",
       "    <tr style=\"text-align: right;\">\n",
       "      <th></th>\n",
       "      <th>Survived</th>\n",
       "      <th>Pclass</th>\n",
       "      <th>Age</th>\n",
       "      <th>SibSp</th>\n",
       "      <th>Parch</th>\n",
       "      <th>Fare</th>\n",
       "      <th>Sex_male</th>\n",
       "      <th>Embarked_Q</th>\n",
       "      <th>Embarked_S</th>\n",
       "    </tr>\n",
       "  </thead>\n",
       "  <tbody>\n",
       "    <tr>\n",
       "      <th>count</th>\n",
       "      <td>216.000000</td>\n",
       "      <td>216.0</td>\n",
       "      <td>186.000000</td>\n",
       "      <td>216.000000</td>\n",
       "      <td>216.000000</td>\n",
       "      <td>216.000000</td>\n",
       "      <td>216.000000</td>\n",
       "      <td>216.000000</td>\n",
       "      <td>216.000000</td>\n",
       "    </tr>\n",
       "    <tr>\n",
       "      <th>mean</th>\n",
       "      <td>0.629630</td>\n",
       "      <td>1.0</td>\n",
       "      <td>38.233441</td>\n",
       "      <td>0.416667</td>\n",
       "      <td>0.356481</td>\n",
       "      <td>84.154687</td>\n",
       "      <td>0.564815</td>\n",
       "      <td>0.009259</td>\n",
       "      <td>0.597222</td>\n",
       "    </tr>\n",
       "    <tr>\n",
       "      <th>std</th>\n",
       "      <td>0.484026</td>\n",
       "      <td>0.0</td>\n",
       "      <td>14.802856</td>\n",
       "      <td>0.611898</td>\n",
       "      <td>0.693997</td>\n",
       "      <td>78.380373</td>\n",
       "      <td>0.496933</td>\n",
       "      <td>0.096001</td>\n",
       "      <td>0.491596</td>\n",
       "    </tr>\n",
       "    <tr>\n",
       "      <th>min</th>\n",
       "      <td>0.000000</td>\n",
       "      <td>1.0</td>\n",
       "      <td>0.920000</td>\n",
       "      <td>0.000000</td>\n",
       "      <td>0.000000</td>\n",
       "      <td>0.000000</td>\n",
       "      <td>0.000000</td>\n",
       "      <td>0.000000</td>\n",
       "      <td>0.000000</td>\n",
       "    </tr>\n",
       "    <tr>\n",
       "      <th>25%</th>\n",
       "      <td>0.000000</td>\n",
       "      <td>1.0</td>\n",
       "      <td>27.000000</td>\n",
       "      <td>0.000000</td>\n",
       "      <td>0.000000</td>\n",
       "      <td>30.923950</td>\n",
       "      <td>0.000000</td>\n",
       "      <td>0.000000</td>\n",
       "      <td>0.000000</td>\n",
       "    </tr>\n",
       "    <tr>\n",
       "      <th>50%</th>\n",
       "      <td>1.000000</td>\n",
       "      <td>1.0</td>\n",
       "      <td>37.000000</td>\n",
       "      <td>0.000000</td>\n",
       "      <td>0.000000</td>\n",
       "      <td>60.287500</td>\n",
       "      <td>1.000000</td>\n",
       "      <td>0.000000</td>\n",
       "      <td>1.000000</td>\n",
       "    </tr>\n",
       "    <tr>\n",
       "      <th>75%</th>\n",
       "      <td>1.000000</td>\n",
       "      <td>1.0</td>\n",
       "      <td>49.000000</td>\n",
       "      <td>1.000000</td>\n",
       "      <td>0.000000</td>\n",
       "      <td>93.500000</td>\n",
       "      <td>1.000000</td>\n",
       "      <td>0.000000</td>\n",
       "      <td>1.000000</td>\n",
       "    </tr>\n",
       "    <tr>\n",
       "      <th>max</th>\n",
       "      <td>1.000000</td>\n",
       "      <td>1.0</td>\n",
       "      <td>80.000000</td>\n",
       "      <td>3.000000</td>\n",
       "      <td>4.000000</td>\n",
       "      <td>512.329200</td>\n",
       "      <td>1.000000</td>\n",
       "      <td>1.000000</td>\n",
       "      <td>1.000000</td>\n",
       "    </tr>\n",
       "  </tbody>\n",
       "</table>\n",
       "</div>"
      ],
      "text/plain": [
       "         Survived  Pclass         Age       SibSp       Parch        Fare  \\\n",
       "count  216.000000   216.0  186.000000  216.000000  216.000000  216.000000   \n",
       "mean     0.629630     1.0   38.233441    0.416667    0.356481   84.154687   \n",
       "std      0.484026     0.0   14.802856    0.611898    0.693997   78.380373   \n",
       "min      0.000000     1.0    0.920000    0.000000    0.000000    0.000000   \n",
       "25%      0.000000     1.0   27.000000    0.000000    0.000000   30.923950   \n",
       "50%      1.000000     1.0   37.000000    0.000000    0.000000   60.287500   \n",
       "75%      1.000000     1.0   49.000000    1.000000    0.000000   93.500000   \n",
       "max      1.000000     1.0   80.000000    3.000000    4.000000  512.329200   \n",
       "\n",
       "         Sex_male  Embarked_Q  Embarked_S  \n",
       "count  216.000000  216.000000  216.000000  \n",
       "mean     0.564815    0.009259    0.597222  \n",
       "std      0.496933    0.096001    0.491596  \n",
       "min      0.000000    0.000000    0.000000  \n",
       "25%      0.000000    0.000000    0.000000  \n",
       "50%      1.000000    0.000000    1.000000  \n",
       "75%      1.000000    0.000000    1.000000  \n",
       "max      1.000000    1.000000    1.000000  "
      ]
     },
     "execution_count": 16,
     "metadata": {},
     "output_type": "execute_result"
    }
   ],
   "source": [
    "new_df[new_df['Pclass']==1].describe()"
   ]
  },
  {
   "cell_type": "code",
   "execution_count": 17,
   "metadata": {},
   "outputs": [],
   "source": [
    "def impute_age(cols):\n",
    "    Age = cols[0]\n",
    "    Pclass = cols[1]\n",
    "    \n",
    "    if pd.isnull(Age):\n",
    "        if Pclass==1:\n",
    "            return 37\n",
    "        elif Pclass==2:\n",
    "            return 30\n",
    "        elif Pclass ==3:\n",
    "            return 25\n",
    "    \n",
    "    else:\n",
    "        return Age"
   ]
  },
  {
   "cell_type": "code",
   "execution_count": 18,
   "metadata": {},
   "outputs": [],
   "source": [
    "new_df['Age'] = new_df[['Age', 'Pclass']].apply(impute_age, axis=1)"
   ]
  },
  {
   "cell_type": "code",
   "execution_count": 19,
   "metadata": {},
   "outputs": [
    {
     "data": {
      "text/html": [
       "<div>\n",
       "<style scoped>\n",
       "    .dataframe tbody tr th:only-of-type {\n",
       "        vertical-align: middle;\n",
       "    }\n",
       "\n",
       "    .dataframe tbody tr th {\n",
       "        vertical-align: top;\n",
       "    }\n",
       "\n",
       "    .dataframe thead th {\n",
       "        text-align: right;\n",
       "    }\n",
       "</style>\n",
       "<table border=\"1\" class=\"dataframe\">\n",
       "  <thead>\n",
       "    <tr style=\"text-align: right;\">\n",
       "      <th></th>\n",
       "      <th>Survived</th>\n",
       "      <th>Pclass</th>\n",
       "      <th>Age</th>\n",
       "      <th>SibSp</th>\n",
       "      <th>Parch</th>\n",
       "      <th>Fare</th>\n",
       "      <th>Sex_male</th>\n",
       "      <th>Embarked_Q</th>\n",
       "      <th>Embarked_S</th>\n",
       "    </tr>\n",
       "  </thead>\n",
       "  <tbody>\n",
       "    <tr>\n",
       "      <th>0</th>\n",
       "      <td>0</td>\n",
       "      <td>3</td>\n",
       "      <td>22.0</td>\n",
       "      <td>1</td>\n",
       "      <td>0</td>\n",
       "      <td>7.2500</td>\n",
       "      <td>1</td>\n",
       "      <td>0</td>\n",
       "      <td>1</td>\n",
       "    </tr>\n",
       "    <tr>\n",
       "      <th>1</th>\n",
       "      <td>1</td>\n",
       "      <td>1</td>\n",
       "      <td>38.0</td>\n",
       "      <td>1</td>\n",
       "      <td>0</td>\n",
       "      <td>71.2833</td>\n",
       "      <td>0</td>\n",
       "      <td>0</td>\n",
       "      <td>0</td>\n",
       "    </tr>\n",
       "    <tr>\n",
       "      <th>2</th>\n",
       "      <td>1</td>\n",
       "      <td>3</td>\n",
       "      <td>26.0</td>\n",
       "      <td>0</td>\n",
       "      <td>0</td>\n",
       "      <td>7.9250</td>\n",
       "      <td>0</td>\n",
       "      <td>0</td>\n",
       "      <td>1</td>\n",
       "    </tr>\n",
       "    <tr>\n",
       "      <th>3</th>\n",
       "      <td>1</td>\n",
       "      <td>1</td>\n",
       "      <td>35.0</td>\n",
       "      <td>1</td>\n",
       "      <td>0</td>\n",
       "      <td>53.1000</td>\n",
       "      <td>0</td>\n",
       "      <td>0</td>\n",
       "      <td>1</td>\n",
       "    </tr>\n",
       "    <tr>\n",
       "      <th>4</th>\n",
       "      <td>0</td>\n",
       "      <td>3</td>\n",
       "      <td>35.0</td>\n",
       "      <td>0</td>\n",
       "      <td>0</td>\n",
       "      <td>8.0500</td>\n",
       "      <td>1</td>\n",
       "      <td>0</td>\n",
       "      <td>1</td>\n",
       "    </tr>\n",
       "    <tr>\n",
       "      <th>5</th>\n",
       "      <td>0</td>\n",
       "      <td>3</td>\n",
       "      <td>25.0</td>\n",
       "      <td>0</td>\n",
       "      <td>0</td>\n",
       "      <td>8.4583</td>\n",
       "      <td>1</td>\n",
       "      <td>1</td>\n",
       "      <td>0</td>\n",
       "    </tr>\n",
       "    <tr>\n",
       "      <th>6</th>\n",
       "      <td>0</td>\n",
       "      <td>1</td>\n",
       "      <td>54.0</td>\n",
       "      <td>0</td>\n",
       "      <td>0</td>\n",
       "      <td>51.8625</td>\n",
       "      <td>1</td>\n",
       "      <td>0</td>\n",
       "      <td>1</td>\n",
       "    </tr>\n",
       "    <tr>\n",
       "      <th>7</th>\n",
       "      <td>0</td>\n",
       "      <td>3</td>\n",
       "      <td>2.0</td>\n",
       "      <td>3</td>\n",
       "      <td>1</td>\n",
       "      <td>21.0750</td>\n",
       "      <td>1</td>\n",
       "      <td>0</td>\n",
       "      <td>1</td>\n",
       "    </tr>\n",
       "    <tr>\n",
       "      <th>8</th>\n",
       "      <td>1</td>\n",
       "      <td>3</td>\n",
       "      <td>27.0</td>\n",
       "      <td>0</td>\n",
       "      <td>2</td>\n",
       "      <td>11.1333</td>\n",
       "      <td>0</td>\n",
       "      <td>0</td>\n",
       "      <td>1</td>\n",
       "    </tr>\n",
       "    <tr>\n",
       "      <th>9</th>\n",
       "      <td>1</td>\n",
       "      <td>2</td>\n",
       "      <td>14.0</td>\n",
       "      <td>1</td>\n",
       "      <td>0</td>\n",
       "      <td>30.0708</td>\n",
       "      <td>0</td>\n",
       "      <td>0</td>\n",
       "      <td>0</td>\n",
       "    </tr>\n",
       "  </tbody>\n",
       "</table>\n",
       "</div>"
      ],
      "text/plain": [
       "   Survived  Pclass   Age  SibSp  Parch     Fare  Sex_male  Embarked_Q  \\\n",
       "0         0       3  22.0      1      0   7.2500         1           0   \n",
       "1         1       1  38.0      1      0  71.2833         0           0   \n",
       "2         1       3  26.0      0      0   7.9250         0           0   \n",
       "3         1       1  35.0      1      0  53.1000         0           0   \n",
       "4         0       3  35.0      0      0   8.0500         1           0   \n",
       "5         0       3  25.0      0      0   8.4583         1           1   \n",
       "6         0       1  54.0      0      0  51.8625         1           0   \n",
       "7         0       3   2.0      3      1  21.0750         1           0   \n",
       "8         1       3  27.0      0      2  11.1333         0           0   \n",
       "9         1       2  14.0      1      0  30.0708         0           0   \n",
       "\n",
       "   Embarked_S  \n",
       "0           1  \n",
       "1           0  \n",
       "2           1  \n",
       "3           1  \n",
       "4           1  \n",
       "5           0  \n",
       "6           1  \n",
       "7           1  \n",
       "8           1  \n",
       "9           0  "
      ]
     },
     "execution_count": 19,
     "metadata": {},
     "output_type": "execute_result"
    }
   ],
   "source": [
    "new_df.head(10)"
   ]
  },
  {
   "cell_type": "code",
   "execution_count": 20,
   "metadata": {},
   "outputs": [],
   "source": [
    "from sklearn.preprocessing import StandardScaler\n",
    "from sklearn.svm import SVC\n",
    "from sklearn.pipeline import Pipeline"
   ]
  },
  {
   "cell_type": "code",
   "execution_count": 21,
   "metadata": {},
   "outputs": [],
   "source": [
    "X = new_df.drop('Survived', axis=1)\n",
    "y = new_df['Survived']"
   ]
  },
  {
   "cell_type": "code",
   "execution_count": 22,
   "metadata": {},
   "outputs": [],
   "source": [
    "scaler = StandardScaler()\n",
    "scaled_data = scaler.fit_transform(X)"
   ]
  },
  {
   "cell_type": "code",
   "execution_count": 23,
   "metadata": {},
   "outputs": [],
   "source": [
    "scaled_y = y.to_numpy()"
   ]
  },
  {
   "cell_type": "code",
   "execution_count": 24,
   "metadata": {},
   "outputs": [],
   "source": [
    "params = {\n",
    "    'kernel' : ['rbf'],\n",
    "    'gamma': [0.01, 0.1, 0.5, 1, 1.5, 2, 2.5, 5, 10],\n",
    "    'C': [0.001, 0.01, 0.5, 1, 1.5, 2, 2.5, 5, 10]\n",
    "}\n",
    "\n",
    "svm_clf = SVC()"
   ]
  },
  {
   "cell_type": "code",
   "execution_count": 25,
   "metadata": {},
   "outputs": [],
   "source": [
    "from sklearn.model_selection import GridSearchCV\n",
    "\n",
    "search = GridSearchCV(svm_clf, param_grid=params, cv=5, scoring='accuracy')"
   ]
  },
  {
   "cell_type": "code",
   "execution_count": 26,
   "metadata": {},
   "outputs": [
    {
     "data": {
      "text/plain": [
       "GridSearchCV(cv=5, estimator=SVC(),\n",
       "             param_grid={'C': [0.001, 0.01, 0.5, 1, 1.5, 2, 2.5, 5, 10],\n",
       "                         'gamma': [0.01, 0.1, 0.5, 1, 1.5, 2, 2.5, 5, 10],\n",
       "                         'kernel': ['rbf']},\n",
       "             scoring='accuracy')"
      ]
     },
     "execution_count": 26,
     "metadata": {},
     "output_type": "execute_result"
    }
   ],
   "source": [
    "search.fit(scaled_data, scaled_y)"
   ]
  },
  {
   "cell_type": "code",
   "execution_count": 27,
   "metadata": {},
   "outputs": [
    {
     "data": {
      "text/plain": [
       "SVC(C=2, gamma=0.1)"
      ]
     },
     "execution_count": 27,
     "metadata": {},
     "output_type": "execute_result"
    }
   ],
   "source": [
    "search.best_estimator_"
   ]
  },
  {
   "cell_type": "code",
   "execution_count": 28,
   "metadata": {},
   "outputs": [
    {
     "data": {
      "text/plain": [
       "SVC(C=2, gamma=0.1)"
      ]
     },
     "execution_count": 28,
     "metadata": {},
     "output_type": "execute_result"
    }
   ],
   "source": [
    "svm_clf = SVC(kernel='rbf', gamma=0.1, C=2)\n",
    "svm_clf.fit(scaled_data, scaled_y)"
   ]
  },
  {
   "cell_type": "code",
   "execution_count": 29,
   "metadata": {},
   "outputs": [],
   "source": [
    "test_data = pd.read_csv('test.csv')"
   ]
  },
  {
   "cell_type": "code",
   "execution_count": 30,
   "metadata": {},
   "outputs": [],
   "source": [
    "test_data.drop('PassengerId', axis=1, inplace=True)\n",
    "test_data.drop('Name', axis=1, inplace=True)\n",
    "test_data.drop('Ticket', axis=1, inplace=True)\n",
    "test_data.drop('Cabin', axis=1, inplace=True)"
   ]
  },
  {
   "cell_type": "code",
   "execution_count": 31,
   "metadata": {},
   "outputs": [
    {
     "name": "stdout",
     "output_type": "stream",
     "text": [
      "<class 'pandas.core.frame.DataFrame'>\n",
      "RangeIndex: 418 entries, 0 to 417\n",
      "Data columns (total 7 columns):\n",
      " #   Column    Non-Null Count  Dtype  \n",
      "---  ------    --------------  -----  \n",
      " 0   Pclass    418 non-null    int64  \n",
      " 1   Sex       418 non-null    object \n",
      " 2   Age       332 non-null    float64\n",
      " 3   SibSp     418 non-null    int64  \n",
      " 4   Parch     418 non-null    int64  \n",
      " 5   Fare      417 non-null    float64\n",
      " 6   Embarked  418 non-null    object \n",
      "dtypes: float64(2), int64(3), object(2)\n",
      "memory usage: 23.0+ KB\n"
     ]
    }
   ],
   "source": [
    "test_data.info()"
   ]
  },
  {
   "cell_type": "code",
   "execution_count": 32,
   "metadata": {},
   "outputs": [],
   "source": [
    "test_data['Age'] = test_data[['Age', 'Pclass']].apply(impute_age, axis=1)"
   ]
  },
  {
   "cell_type": "code",
   "execution_count": 33,
   "metadata": {},
   "outputs": [
    {
     "name": "stdout",
     "output_type": "stream",
     "text": [
      "<class 'pandas.core.frame.DataFrame'>\n",
      "RangeIndex: 418 entries, 0 to 417\n",
      "Data columns (total 7 columns):\n",
      " #   Column    Non-Null Count  Dtype  \n",
      "---  ------    --------------  -----  \n",
      " 0   Pclass    418 non-null    int64  \n",
      " 1   Sex       418 non-null    object \n",
      " 2   Age       418 non-null    float64\n",
      " 3   SibSp     418 non-null    int64  \n",
      " 4   Parch     418 non-null    int64  \n",
      " 5   Fare      417 non-null    float64\n",
      " 6   Embarked  418 non-null    object \n",
      "dtypes: float64(2), int64(3), object(2)\n",
      "memory usage: 23.0+ KB\n"
     ]
    }
   ],
   "source": [
    "test_data.info()"
   ]
  },
  {
   "cell_type": "code",
   "execution_count": 34,
   "metadata": {},
   "outputs": [],
   "source": [
    "test_data['Fare'].fillna(20, inplace=True)"
   ]
  },
  {
   "cell_type": "code",
   "execution_count": 35,
   "metadata": {},
   "outputs": [],
   "source": [
    "encoded_test = pd.get_dummies(test_data, drop_first=True)"
   ]
  },
  {
   "cell_type": "code",
   "execution_count": 36,
   "metadata": {},
   "outputs": [],
   "source": [
    "scaler = StandardScaler()\n",
    "scaled_test_data = scaler.fit_transform(encoded_test)"
   ]
  },
  {
   "cell_type": "code",
   "execution_count": 37,
   "metadata": {},
   "outputs": [],
   "source": [
    "ans = svm_clf.predict(scaled_test_data)"
   ]
  },
  {
   "cell_type": "code",
   "execution_count": 38,
   "metadata": {},
   "outputs": [
    {
     "data": {
      "text/plain": [
       "array([0.83798883, 0.8258427 , 0.81460674, 0.79213483, 0.88764045])"
      ]
     },
     "execution_count": 38,
     "metadata": {},
     "output_type": "execute_result"
    }
   ],
   "source": [
    "from sklearn.model_selection import cross_val_score\n",
    "\n",
    "svm_clf = SVC(kernel='rbf', gamma=0.1, C=2)\n",
    "cross_val_score(svm_clf, scaled_data, scaled_y, cv=5, scoring='accuracy')"
   ]
  },
  {
   "cell_type": "code",
   "execution_count": 39,
   "metadata": {},
   "outputs": [
    {
     "data": {
      "text/plain": [
       "array([0, 0, 0, 0, 0, 0, 1, 0, 1, 0, 0, 0, 1, 0, 1, 1, 0, 0, 0, 0, 0, 1,\n",
       "       1, 0, 1, 0, 1, 0, 0, 0, 0, 0, 0, 0, 0, 0, 0, 0, 0, 0, 0, 0, 0, 1,\n",
       "       1, 0, 0, 0, 1, 0, 0, 0, 1, 1, 0, 0, 0, 0, 0, 1, 0, 0, 0, 1, 0, 1,\n",
       "       1, 0, 0, 0, 1, 0, 0, 0, 1, 0, 0, 1, 0, 1, 1, 0, 0, 0, 0, 0, 1, 0,\n",
       "       1, 1, 0, 0, 1, 0, 0, 0, 1, 0, 0, 0, 1, 0, 0, 0, 1, 0, 0, 0, 0, 0,\n",
       "       0, 1, 1, 1, 1, 0, 0, 1, 0, 1, 1, 0, 1, 0, 0, 1, 0, 1, 0, 0, 0, 0,\n",
       "       0, 0, 0, 0, 0, 0, 0, 0, 0, 1, 0, 0, 0, 0, 0, 0, 0, 0, 1, 0, 0, 0,\n",
       "       0, 0, 1, 0, 0, 0, 1, 1, 1, 0, 0, 0, 0, 0, 1, 0, 0, 0, 0, 0, 0, 1,\n",
       "       1, 0, 1, 1, 0, 0, 1, 0, 1, 0, 1, 0, 0, 0, 0, 0, 0, 0, 1, 0, 1, 0,\n",
       "       0, 0, 1, 1, 0, 1, 0, 0, 1, 0, 1, 0, 0, 0, 0, 1, 0, 0, 1, 0, 1, 0,\n",
       "       1, 0, 1, 0, 1, 1, 0, 1, 0, 0, 0, 1, 0, 0, 0, 0, 0, 0, 1, 1, 1, 1,\n",
       "       0, 0, 0, 0, 1, 0, 1, 1, 1, 0, 0, 0, 0, 0, 0, 0, 1, 0, 0, 0, 1, 1,\n",
       "       0, 0, 0, 0, 0, 0, 0, 0, 1, 1, 0, 1, 0, 0, 0, 0, 0, 1, 1, 1, 1, 0,\n",
       "       0, 0, 0, 0, 0, 1, 0, 0, 0, 0, 1, 0, 0, 0, 0, 0, 0, 0, 1, 1, 0, 1,\n",
       "       0, 0, 0, 0, 0, 1, 1, 1, 0, 0, 0, 0, 0, 0, 0, 0, 1, 0, 1, 0, 0, 0,\n",
       "       1, 0, 0, 1, 0, 0, 0, 0, 0, 0, 0, 0, 0, 1, 0, 0, 0, 0, 0, 1, 1, 0,\n",
       "       0, 0, 1, 0, 1, 0, 0, 0, 0, 1, 1, 0, 1, 0, 0, 0, 1, 0, 0, 1, 0, 0,\n",
       "       1, 1, 0, 0, 0, 0, 0, 0, 0, 0, 0, 1, 0, 0, 0, 0, 0, 1, 1, 0, 0, 1,\n",
       "       0, 1, 0, 0, 1, 0, 1, 0, 0, 0, 0, 0, 1, 1, 1, 1, 0, 0, 1, 0, 0, 0])"
      ]
     },
     "execution_count": 39,
     "metadata": {},
     "output_type": "execute_result"
    }
   ],
   "source": [
    "ans"
   ]
  },
  {
   "cell_type": "code",
   "execution_count": 40,
   "metadata": {},
   "outputs": [
    {
     "name": "stdout",
     "output_type": "stream",
     "text": [
      "892,0\n",
      "893,0\n",
      "894,0\n",
      "895,0\n",
      "896,0\n",
      "897,0\n",
      "898,1\n",
      "899,0\n",
      "900,1\n",
      "901,0\n",
      "902,0\n",
      "903,0\n",
      "904,1\n",
      "905,0\n",
      "906,1\n",
      "907,1\n",
      "908,0\n",
      "909,0\n",
      "910,0\n",
      "911,0\n",
      "912,0\n",
      "913,1\n",
      "914,1\n",
      "915,0\n",
      "916,1\n",
      "917,0\n",
      "918,1\n",
      "919,0\n",
      "920,0\n",
      "921,0\n",
      "922,0\n",
      "923,0\n",
      "924,0\n",
      "925,0\n",
      "926,0\n",
      "927,0\n",
      "928,0\n",
      "929,0\n",
      "930,0\n",
      "931,0\n",
      "932,0\n",
      "933,0\n",
      "934,0\n",
      "935,1\n",
      "936,1\n",
      "937,0\n",
      "938,0\n",
      "939,0\n",
      "940,1\n",
      "941,0\n",
      "942,0\n",
      "943,0\n",
      "944,1\n",
      "945,1\n",
      "946,0\n",
      "947,0\n",
      "948,0\n",
      "949,0\n",
      "950,0\n",
      "951,1\n",
      "952,0\n",
      "953,0\n",
      "954,0\n",
      "955,1\n",
      "956,0\n",
      "957,1\n",
      "958,1\n",
      "959,0\n",
      "960,0\n",
      "961,0\n",
      "962,1\n",
      "963,0\n",
      "964,0\n",
      "965,0\n",
      "966,1\n",
      "967,0\n",
      "968,0\n",
      "969,1\n",
      "970,0\n",
      "971,1\n",
      "972,1\n",
      "973,0\n",
      "974,0\n",
      "975,0\n",
      "976,0\n",
      "977,0\n",
      "978,1\n",
      "979,0\n",
      "980,1\n",
      "981,1\n",
      "982,0\n",
      "983,0\n",
      "984,1\n",
      "985,0\n",
      "986,0\n",
      "987,0\n",
      "988,1\n",
      "989,0\n",
      "990,0\n",
      "991,0\n",
      "992,1\n",
      "993,0\n",
      "994,0\n",
      "995,0\n",
      "996,1\n",
      "997,0\n",
      "998,0\n",
      "999,0\n",
      "1000,0\n",
      "1001,0\n",
      "1002,0\n",
      "1003,1\n",
      "1004,1\n",
      "1005,1\n",
      "1006,1\n",
      "1007,0\n",
      "1008,0\n",
      "1009,1\n",
      "1010,0\n",
      "1011,1\n",
      "1012,1\n",
      "1013,0\n",
      "1014,1\n",
      "1015,0\n",
      "1016,0\n",
      "1017,1\n",
      "1018,0\n",
      "1019,1\n",
      "1020,0\n",
      "1021,0\n",
      "1022,0\n",
      "1023,0\n",
      "1024,0\n",
      "1025,0\n",
      "1026,0\n",
      "1027,0\n",
      "1028,0\n",
      "1029,0\n",
      "1030,0\n",
      "1031,0\n",
      "1032,0\n",
      "1033,1\n",
      "1034,0\n",
      "1035,0\n",
      "1036,0\n",
      "1037,0\n",
      "1038,0\n",
      "1039,0\n",
      "1040,0\n",
      "1041,0\n",
      "1042,1\n",
      "1043,0\n",
      "1044,0\n",
      "1045,0\n",
      "1046,0\n",
      "1047,0\n",
      "1048,1\n",
      "1049,0\n",
      "1050,0\n",
      "1051,0\n",
      "1052,1\n",
      "1053,1\n",
      "1054,1\n",
      "1055,0\n",
      "1056,0\n",
      "1057,0\n",
      "1058,0\n",
      "1059,0\n",
      "1060,1\n",
      "1061,0\n",
      "1062,0\n",
      "1063,0\n",
      "1064,0\n",
      "1065,0\n",
      "1066,0\n",
      "1067,1\n",
      "1068,1\n",
      "1069,0\n",
      "1070,1\n",
      "1071,1\n",
      "1072,0\n",
      "1073,0\n",
      "1074,1\n",
      "1075,0\n",
      "1076,1\n",
      "1077,0\n",
      "1078,1\n",
      "1079,0\n",
      "1080,0\n",
      "1081,0\n",
      "1082,0\n",
      "1083,0\n",
      "1084,0\n",
      "1085,0\n",
      "1086,1\n",
      "1087,0\n",
      "1088,1\n",
      "1089,0\n",
      "1090,0\n",
      "1091,0\n",
      "1092,1\n",
      "1093,1\n",
      "1094,0\n",
      "1095,1\n",
      "1096,0\n",
      "1097,0\n",
      "1098,1\n",
      "1099,0\n",
      "1100,1\n",
      "1101,0\n",
      "1102,0\n",
      "1103,0\n",
      "1104,0\n",
      "1105,1\n",
      "1106,0\n",
      "1107,0\n",
      "1108,1\n",
      "1109,0\n",
      "1110,1\n",
      "1111,0\n",
      "1112,1\n",
      "1113,0\n",
      "1114,1\n",
      "1115,0\n",
      "1116,1\n",
      "1117,1\n",
      "1118,0\n",
      "1119,1\n",
      "1120,0\n",
      "1121,0\n",
      "1122,0\n",
      "1123,1\n",
      "1124,0\n",
      "1125,0\n",
      "1126,0\n",
      "1127,0\n",
      "1128,0\n",
      "1129,0\n",
      "1130,1\n",
      "1131,1\n",
      "1132,1\n",
      "1133,1\n",
      "1134,0\n",
      "1135,0\n",
      "1136,0\n",
      "1137,0\n",
      "1138,1\n",
      "1139,0\n",
      "1140,1\n",
      "1141,1\n",
      "1142,1\n",
      "1143,0\n",
      "1144,0\n",
      "1145,0\n",
      "1146,0\n",
      "1147,0\n",
      "1148,0\n",
      "1149,0\n",
      "1150,1\n",
      "1151,0\n",
      "1152,0\n",
      "1153,0\n",
      "1154,1\n",
      "1155,1\n",
      "1156,0\n",
      "1157,0\n",
      "1158,0\n",
      "1159,0\n",
      "1160,0\n",
      "1161,0\n",
      "1162,0\n",
      "1163,0\n",
      "1164,1\n",
      "1165,1\n",
      "1166,0\n",
      "1167,1\n",
      "1168,0\n",
      "1169,0\n",
      "1170,0\n",
      "1171,0\n",
      "1172,0\n",
      "1173,1\n",
      "1174,1\n",
      "1175,1\n",
      "1176,1\n",
      "1177,0\n",
      "1178,0\n",
      "1179,0\n",
      "1180,0\n",
      "1181,0\n",
      "1182,0\n",
      "1183,1\n",
      "1184,0\n",
      "1185,0\n",
      "1186,0\n",
      "1187,0\n",
      "1188,1\n",
      "1189,0\n",
      "1190,0\n",
      "1191,0\n",
      "1192,0\n",
      "1193,0\n",
      "1194,0\n",
      "1195,0\n",
      "1196,1\n",
      "1197,1\n",
      "1198,0\n",
      "1199,1\n",
      "1200,0\n",
      "1201,0\n",
      "1202,0\n",
      "1203,0\n",
      "1204,0\n",
      "1205,1\n",
      "1206,1\n",
      "1207,1\n",
      "1208,0\n",
      "1209,0\n",
      "1210,0\n",
      "1211,0\n",
      "1212,0\n",
      "1213,0\n",
      "1214,0\n",
      "1215,0\n",
      "1216,1\n",
      "1217,0\n",
      "1218,1\n",
      "1219,0\n",
      "1220,0\n",
      "1221,0\n",
      "1222,1\n",
      "1223,0\n",
      "1224,0\n",
      "1225,1\n",
      "1226,0\n",
      "1227,0\n",
      "1228,0\n",
      "1229,0\n",
      "1230,0\n",
      "1231,0\n",
      "1232,0\n",
      "1233,0\n",
      "1234,0\n",
      "1235,1\n",
      "1236,0\n",
      "1237,0\n",
      "1238,0\n",
      "1239,0\n",
      "1240,0\n",
      "1241,1\n",
      "1242,1\n",
      "1243,0\n",
      "1244,0\n",
      "1245,0\n",
      "1246,1\n",
      "1247,0\n",
      "1248,1\n",
      "1249,0\n",
      "1250,0\n",
      "1251,0\n",
      "1252,0\n",
      "1253,1\n",
      "1254,1\n",
      "1255,0\n",
      "1256,1\n",
      "1257,0\n",
      "1258,0\n",
      "1259,0\n",
      "1260,1\n",
      "1261,0\n",
      "1262,0\n",
      "1263,1\n",
      "1264,0\n",
      "1265,0\n",
      "1266,1\n",
      "1267,1\n",
      "1268,0\n",
      "1269,0\n",
      "1270,0\n",
      "1271,0\n",
      "1272,0\n",
      "1273,0\n",
      "1274,0\n",
      "1275,0\n",
      "1276,0\n",
      "1277,1\n",
      "1278,0\n",
      "1279,0\n",
      "1280,0\n",
      "1281,0\n",
      "1282,0\n",
      "1283,1\n",
      "1284,1\n",
      "1285,0\n",
      "1286,0\n",
      "1287,1\n",
      "1288,0\n",
      "1289,1\n",
      "1290,0\n",
      "1291,0\n",
      "1292,1\n",
      "1293,0\n",
      "1294,1\n",
      "1295,0\n",
      "1296,0\n",
      "1297,0\n",
      "1298,0\n",
      "1299,0\n",
      "1300,1\n",
      "1301,1\n",
      "1302,1\n",
      "1303,1\n",
      "1304,0\n",
      "1305,0\n",
      "1306,1\n",
      "1307,0\n",
      "1308,0\n",
      "1309,0\n"
     ]
    }
   ],
   "source": [
    "t=0\n",
    "for i in range(892, 1310):\n",
    "    print(i, end=\"\")\n",
    "    print(\",\",end=\"\")\n",
    "    print(ans[t])\n",
    "    t=t+1"
   ]
  },
  {
   "cell_type": "code",
   "execution_count": 41,
   "metadata": {},
   "outputs": [],
   "source": [
    "from sklearn.tree import DecisionTreeClassifier\n",
    "\n",
    "tree_clf = DecisionTreeClassifier()"
   ]
  },
  {
   "cell_type": "code",
   "execution_count": 42,
   "metadata": {},
   "outputs": [],
   "source": [
    "from sklearn.model_selection import train_test_split\n",
    "\n",
    "X_train, X_test, y_train, y_test = train_test_split(X, y, test_size=0.2)"
   ]
  },
  {
   "cell_type": "code",
   "execution_count": 43,
   "metadata": {},
   "outputs": [
    {
     "data": {
      "text/plain": [
       "0.7808627991726583"
      ]
     },
     "execution_count": 43,
     "metadata": {},
     "output_type": "execute_result"
    }
   ],
   "source": [
    "cross_val_score(tree_clf, X_train, y_train, cv=5, scoring='accuracy').mean()"
   ]
  },
  {
   "cell_type": "code",
   "execution_count": 44,
   "metadata": {},
   "outputs": [
    {
     "data": {
      "text/plain": [
       "DecisionTreeClassifier()"
      ]
     },
     "execution_count": 44,
     "metadata": {},
     "output_type": "execute_result"
    }
   ],
   "source": [
    "tree_clf.fit(X_train, y_train)"
   ]
  },
  {
   "cell_type": "code",
   "execution_count": 45,
   "metadata": {},
   "outputs": [],
   "source": [
    "tree_ans = tree_clf.predict(scaled_test_data)"
   ]
  },
  {
   "cell_type": "code",
   "execution_count": 46,
   "metadata": {},
   "outputs": [
    {
     "data": {
      "text/plain": [
       "[Text(428.35314369391824, 793.9421052631578, 'X[5] <= 0.5\\ngini = 0.474\\nsamples = 712\\nvalue = [437, 275]'),\n",
       " Text(199.58374875373877, 751.0263157894736, 'X[0] <= 2.5\\ngini = 0.391\\nsamples = 248\\nvalue = [66, 182]'),\n",
       " Text(62.30907278165503, 708.1105263157895, 'X[1] <= 2.5\\ngini = 0.1\\nsamples = 132\\nvalue = [7, 125]'),\n",
       " Text(40.05583250249252, 665.1947368421053, 'X[4] <= 88.775\\ngini = 0.5\\nsamples = 2\\nvalue = [1, 1]'),\n",
       " Text(31.154536390827516, 622.2789473684211, 'gini = 0.0\\nsamples = 1\\nvalue = [0, 1]'),\n",
       " Text(48.957128614157526, 622.2789473684211, 'gini = 0.0\\nsamples = 1\\nvalue = [1, 0]'),\n",
       " Text(84.56231306081754, 665.1947368421053, 'X[4] <= 28.856\\ngini = 0.088\\nsamples = 130\\nvalue = [6, 124]'),\n",
       " Text(66.75972083748754, 622.2789473684211, 'X[4] <= 28.231\\ngini = 0.174\\nsamples = 52\\nvalue = [5, 47]'),\n",
       " Text(57.85842472582253, 579.3631578947368, 'X[1] <= 56.0\\ngini = 0.145\\nsamples = 51\\nvalue = [4, 47]'),\n",
       " Text(35.60518444666002, 536.4473684210527, 'X[1] <= 37.0\\ngini = 0.115\\nsamples = 49\\nvalue = [3, 46]'),\n",
       " Text(17.80259222333001, 493.5315789473684, 'X[2] <= 0.5\\ngini = 0.054\\nsamples = 36\\nvalue = [1, 35]'),\n",
       " Text(8.901296111665005, 450.61578947368423, 'gini = 0.0\\nsamples = 24\\nvalue = [0, 24]'),\n",
       " Text(26.703888334995014, 450.61578947368423, 'X[1] <= 25.0\\ngini = 0.153\\nsamples = 12\\nvalue = [1, 11]'),\n",
       " Text(17.80259222333001, 407.7, 'gini = 0.0\\nsamples = 6\\nvalue = [0, 6]'),\n",
       " Text(35.60518444666002, 407.7, 'X[1] <= 27.0\\ngini = 0.278\\nsamples = 6\\nvalue = [1, 5]'),\n",
       " Text(26.703888334995014, 364.7842105263158, 'gini = 0.0\\nsamples = 1\\nvalue = [1, 0]'),\n",
       " Text(44.50648055832502, 364.7842105263158, 'gini = 0.0\\nsamples = 5\\nvalue = [0, 5]'),\n",
       " Text(53.40777666999003, 493.5315789473684, 'X[1] <= 39.0\\ngini = 0.26\\nsamples = 13\\nvalue = [2, 11]'),\n",
       " Text(44.50648055832502, 450.61578947368423, 'gini = 0.0\\nsamples = 1\\nvalue = [1, 0]'),\n",
       " Text(62.30907278165503, 450.61578947368423, 'X[2] <= 0.5\\ngini = 0.153\\nsamples = 12\\nvalue = [1, 11]'),\n",
       " Text(53.40777666999003, 407.7, 'gini = 0.0\\nsamples = 9\\nvalue = [0, 9]'),\n",
       " Text(71.21036889332004, 407.7, 'X[3] <= 1.5\\ngini = 0.444\\nsamples = 3\\nvalue = [1, 2]'),\n",
       " Text(62.30907278165503, 364.7842105263158, 'X[1] <= 43.0\\ngini = 0.5\\nsamples = 2\\nvalue = [1, 1]'),\n",
       " Text(53.40777666999003, 321.8684210526316, 'gini = 0.0\\nsamples = 1\\nvalue = [0, 1]'),\n",
       " Text(71.21036889332004, 321.8684210526316, 'gini = 0.0\\nsamples = 1\\nvalue = [1, 0]'),\n",
       " Text(80.11166500498504, 364.7842105263158, 'gini = 0.0\\nsamples = 1\\nvalue = [0, 1]'),\n",
       " Text(80.11166500498504, 536.4473684210527, 'X[0] <= 1.5\\ngini = 0.5\\nsamples = 2\\nvalue = [1, 1]'),\n",
       " Text(71.21036889332004, 493.5315789473684, 'gini = 0.0\\nsamples = 1\\nvalue = [0, 1]'),\n",
       " Text(89.01296111665005, 493.5315789473684, 'gini = 0.0\\nsamples = 1\\nvalue = [1, 0]'),\n",
       " Text(75.66101694915254, 579.3631578947368, 'gini = 0.0\\nsamples = 1\\nvalue = [1, 0]'),\n",
       " Text(102.36490528414755, 622.2789473684211, 'X[3] <= 1.5\\ngini = 0.025\\nsamples = 78\\nvalue = [1, 77]'),\n",
       " Text(93.46360917248255, 579.3631578947368, 'gini = 0.0\\nsamples = 64\\nvalue = [0, 64]'),\n",
       " Text(111.26620139581256, 579.3631578947368, 'X[1] <= 24.5\\ngini = 0.133\\nsamples = 14\\nvalue = [1, 13]'),\n",
       " Text(102.36490528414755, 536.4473684210527, 'gini = 0.0\\nsamples = 10\\nvalue = [0, 10]'),\n",
       " Text(120.16749750747756, 536.4473684210527, 'X[1] <= 28.0\\ngini = 0.375\\nsamples = 4\\nvalue = [1, 3]'),\n",
       " Text(111.26620139581256, 493.5315789473684, 'gini = 0.0\\nsamples = 1\\nvalue = [1, 0]'),\n",
       " Text(129.06879361914258, 493.5315789473684, 'gini = 0.0\\nsamples = 3\\nvalue = [0, 3]'),\n",
       " Text(336.85842472582254, 708.1105263157895, 'X[4] <= 23.35\\ngini = 0.5\\nsamples = 116\\nvalue = [59, 57]'),\n",
       " Text(286.51046859421734, 665.1947368421053, 'X[1] <= 27.5\\ngini = 0.483\\nsamples = 93\\nvalue = [38, 55]'),\n",
       " Text(221.419740777667, 622.2789473684211, 'X[4] <= 8.04\\ngini = 0.453\\nsamples = 75\\nvalue = [26, 49]'),\n",
       " Text(162.44865403788634, 579.3631578947368, 'X[4] <= 6.987\\ngini = 0.313\\nsamples = 36\\nvalue = [7, 29]'),\n",
       " Text(153.54735792622134, 536.4473684210527, 'gini = 0.0\\nsamples = 1\\nvalue = [1, 0]'),\n",
       " Text(171.34995014955135, 536.4473684210527, 'X[1] <= 14.5\\ngini = 0.284\\nsamples = 35\\nvalue = [6, 29]'),\n",
       " Text(146.8713858424726, 493.5315789473684, 'X[7] <= 0.5\\ngini = 0.5\\nsamples = 2\\nvalue = [1, 1]'),\n",
       " Text(137.97008973080756, 450.61578947368423, 'gini = 0.0\\nsamples = 1\\nvalue = [0, 1]'),\n",
       " Text(155.77268195413757, 450.61578947368423, 'gini = 0.0\\nsamples = 1\\nvalue = [1, 0]'),\n",
       " Text(195.8285144566301, 493.5315789473684, 'X[3] <= 1.0\\ngini = 0.257\\nsamples = 33\\nvalue = [5, 28]'),\n",
       " Text(173.57527417746758, 450.61578947368423, 'X[2] <= 0.5\\ngini = 0.225\\nsamples = 31\\nvalue = [4, 27]'),\n",
       " Text(155.77268195413757, 407.7, 'X[4] <= 7.802\\ngini = 0.185\\nsamples = 29\\nvalue = [3, 26]'),\n",
       " Text(146.8713858424726, 364.7842105263158, 'X[4] <= 7.763\\ngini = 0.245\\nsamples = 21\\nvalue = [3, 18]'),\n",
       " Text(129.06879361914258, 321.8684210526316, 'X[6] <= 0.5\\ngini = 0.188\\nsamples = 19\\nvalue = [2, 17]'),\n",
       " Text(120.16749750747756, 278.9526315789474, 'gini = 0.0\\nsamples = 6\\nvalue = [0, 6]'),\n",
       " Text(137.97008973080756, 278.9526315789474, 'X[4] <= 7.681\\ngini = 0.26\\nsamples = 13\\nvalue = [2, 11]'),\n",
       " Text(129.06879361914258, 236.0368421052632, 'gini = 0.0\\nsamples = 1\\nvalue = [1, 0]'),\n",
       " Text(146.8713858424726, 236.0368421052632, 'X[1] <= 21.5\\ngini = 0.153\\nsamples = 12\\nvalue = [1, 11]'),\n",
       " Text(137.97008973080756, 193.121052631579, 'X[1] <= 18.5\\ngini = 0.444\\nsamples = 3\\nvalue = [1, 2]'),\n",
       " Text(129.06879361914258, 150.20526315789482, 'gini = 0.0\\nsamples = 2\\nvalue = [0, 2]'),\n",
       " Text(146.8713858424726, 150.20526315789482, 'gini = 0.0\\nsamples = 1\\nvalue = [1, 0]'),\n",
       " Text(155.77268195413757, 193.121052631579, 'gini = 0.0\\nsamples = 9\\nvalue = [0, 9]'),\n",
       " Text(164.6739780658026, 321.8684210526316, 'X[1] <= 23.5\\ngini = 0.5\\nsamples = 2\\nvalue = [1, 1]'),\n",
       " Text(155.77268195413757, 278.9526315789474, 'gini = 0.0\\nsamples = 1\\nvalue = [0, 1]'),\n",
       " Text(173.57527417746758, 278.9526315789474, 'gini = 0.0\\nsamples = 1\\nvalue = [1, 0]'),\n",
       " Text(164.6739780658026, 364.7842105263158, 'gini = 0.0\\nsamples = 8\\nvalue = [0, 8]'),\n",
       " Text(191.3778664007976, 407.7, 'X[1] <= 22.0\\ngini = 0.5\\nsamples = 2\\nvalue = [1, 1]'),\n",
       " Text(182.4765702891326, 364.7842105263158, 'gini = 0.0\\nsamples = 1\\nvalue = [0, 1]'),\n",
       " Text(200.27916251246262, 364.7842105263158, 'gini = 0.0\\nsamples = 1\\nvalue = [1, 0]'),\n",
       " Text(218.08175473579263, 450.61578947368423, 'X[6] <= 0.5\\ngini = 0.5\\nsamples = 2\\nvalue = [1, 1]'),\n",
       " Text(209.1804586241276, 407.7, 'gini = 0.0\\nsamples = 1\\nvalue = [0, 1]'),\n",
       " Text(226.9830508474576, 407.7, 'gini = 0.0\\nsamples = 1\\nvalue = [1, 0]'),\n",
       " Text(280.39082751744763, 579.3631578947368, 'X[4] <= 10.825\\ngini = 0.5\\nsamples = 39\\nvalue = [19, 20]'),\n",
       " Text(253.68693918245265, 536.4473684210527, 'X[1] <= 19.0\\ngini = 0.278\\nsamples = 12\\nvalue = [10, 2]'),\n",
       " Text(244.78564307078761, 493.5315789473684, 'X[1] <= 10.0\\ngini = 0.444\\nsamples = 3\\nvalue = [1, 2]'),\n",
       " Text(235.88434695912264, 450.61578947368423, 'gini = 0.0\\nsamples = 1\\nvalue = [1, 0]'),\n",
       " Text(253.68693918245265, 450.61578947368423, 'gini = 0.0\\nsamples = 2\\nvalue = [0, 2]'),\n",
       " Text(262.5882352941176, 493.5315789473684, 'gini = 0.0\\nsamples = 9\\nvalue = [9, 0]'),\n",
       " Text(307.0947158524427, 536.4473684210527, 'X[2] <= 2.5\\ngini = 0.444\\nsamples = 27\\nvalue = [9, 18]'),\n",
       " Text(298.19341974077764, 493.5315789473684, 'X[4] <= 15.373\\ngini = 0.403\\nsamples = 25\\nvalue = [7, 18]'),\n",
       " Text(271.48953140578266, 450.61578947368423, 'X[4] <= 13.935\\ngini = 0.5\\nsamples = 10\\nvalue = [5, 5]'),\n",
       " Text(262.5882352941176, 407.7, 'gini = 0.0\\nsamples = 4\\nvalue = [0, 4]'),\n",
       " Text(280.39082751744763, 407.7, 'X[1] <= 16.0\\ngini = 0.278\\nsamples = 6\\nvalue = [5, 1]'),\n",
       " Text(271.48953140578266, 364.7842105263158, 'X[1] <= 12.0\\ngini = 0.5\\nsamples = 2\\nvalue = [1, 1]'),\n",
       " Text(262.5882352941176, 321.8684210526316, 'gini = 0.0\\nsamples = 1\\nvalue = [1, 0]'),\n",
       " Text(280.39082751744763, 321.8684210526316, 'gini = 0.0\\nsamples = 1\\nvalue = [0, 1]'),\n",
       " Text(289.29212362911267, 364.7842105263158, 'gini = 0.0\\nsamples = 4\\nvalue = [4, 0]'),\n",
       " Text(324.8973080757727, 450.61578947368423, 'X[1] <= 21.0\\ngini = 0.231\\nsamples = 15\\nvalue = [2, 13]'),\n",
       " Text(315.99601196410765, 407.7, 'X[1] <= 11.5\\ngini = 0.444\\nsamples = 6\\nvalue = [2, 4]'),\n",
       " Text(307.0947158524427, 364.7842105263158, 'gini = 0.0\\nsamples = 4\\nvalue = [0, 4]'),\n",
       " Text(324.8973080757727, 364.7842105263158, 'gini = 0.0\\nsamples = 2\\nvalue = [2, 0]'),\n",
       " Text(333.79860418743766, 407.7, 'gini = 0.0\\nsamples = 9\\nvalue = [0, 9]'),\n",
       " Text(315.99601196410765, 493.5315789473684, 'gini = 0.0\\nsamples = 2\\nvalue = [2, 0]'),\n",
       " Text(351.60119641076767, 622.2789473684211, 'X[4] <= 8.673\\ngini = 0.444\\nsamples = 18\\nvalue = [12, 6]'),\n",
       " Text(342.6999002991027, 579.3631578947368, 'gini = 0.0\\nsamples = 5\\nvalue = [5, 0]'),\n",
       " Text(360.5024925224327, 579.3631578947368, 'X[2] <= 0.5\\ngini = 0.497\\nsamples = 13\\nvalue = [7, 6]'),\n",
       " Text(342.6999002991027, 536.4473684210527, 'X[1] <= 34.0\\ngini = 0.444\\nsamples = 6\\nvalue = [2, 4]'),\n",
       " Text(333.79860418743766, 493.5315789473684, 'gini = 0.0\\nsamples = 3\\nvalue = [0, 3]'),\n",
       " Text(351.60119641076767, 493.5315789473684, 'X[1] <= 54.0\\ngini = 0.444\\nsamples = 3\\nvalue = [2, 1]'),\n",
       " Text(342.6999002991027, 450.61578947368423, 'gini = 0.0\\nsamples = 2\\nvalue = [2, 0]'),\n",
       " Text(360.5024925224327, 450.61578947368423, 'gini = 0.0\\nsamples = 1\\nvalue = [0, 1]'),\n",
       " Text(378.3050847457627, 536.4473684210527, 'X[4] <= 15.675\\ngini = 0.408\\nsamples = 7\\nvalue = [5, 2]'),\n",
       " Text(369.4037886340977, 493.5315789473684, 'gini = 0.0\\nsamples = 4\\nvalue = [4, 0]'),\n",
       " Text(387.2063808574277, 493.5315789473684, 'X[4] <= 16.925\\ngini = 0.444\\nsamples = 3\\nvalue = [1, 2]'),\n",
       " Text(378.3050847457627, 450.61578947368423, 'gini = 0.0\\nsamples = 1\\nvalue = [0, 1]'),\n",
       " Text(396.1076769690927, 450.61578947368423, 'X[3] <= 0.5\\ngini = 0.5\\nsamples = 2\\nvalue = [1, 1]'),\n",
       " Text(387.2063808574277, 407.7, 'gini = 0.0\\nsamples = 1\\nvalue = [1, 0]'),\n",
       " Text(405.0089730807577, 407.7, 'gini = 0.0\\nsamples = 1\\nvalue = [0, 1]'),\n",
       " Text(387.2063808574277, 665.1947368421053, 'X[3] <= 0.5\\ngini = 0.159\\nsamples = 23\\nvalue = [21, 2]'),\n",
       " Text(378.3050847457627, 622.2789473684211, 'gini = 0.0\\nsamples = 1\\nvalue = [0, 1]'),\n",
       " Text(396.1076769690927, 622.2789473684211, 'X[3] <= 4.5\\ngini = 0.087\\nsamples = 22\\nvalue = [21, 1]'),\n",
       " Text(387.2063808574277, 579.3631578947368, 'gini = 0.0\\nsamples = 17\\nvalue = [17, 0]'),\n",
       " Text(405.0089730807577, 579.3631578947368, 'X[1] <= 38.5\\ngini = 0.32\\nsamples = 5\\nvalue = [4, 1]'),\n",
       " Text(396.1076769690927, 536.4473684210527, 'gini = 0.0\\nsamples = 1\\nvalue = [0, 1]'),\n",
       " Text(413.91026919242273, 536.4473684210527, 'gini = 0.0\\nsamples = 4\\nvalue = [4, 0]'),\n",
       " Text(657.1225386340977, 751.0263157894736, 'X[1] <= 13.0\\ngini = 0.321\\nsamples = 464\\nvalue = [371, 93]'),\n",
       " Text(474.4112662013958, 708.1105263157895, 'X[2] <= 2.5\\ngini = 0.472\\nsamples = 34\\nvalue = [13, 21]'),\n",
       " Text(456.6086739780658, 665.1947368421053, 'X[3] <= 0.5\\ngini = 0.091\\nsamples = 21\\nvalue = [1, 20]'),\n",
       " Text(447.7073778664008, 622.2789473684211, 'X[1] <= 11.5\\ngini = 0.5\\nsamples = 2\\nvalue = [1, 1]'),\n",
       " Text(438.80608175473577, 579.3631578947368, 'gini = 0.0\\nsamples = 1\\nvalue = [1, 0]'),\n",
       " Text(456.6086739780658, 579.3631578947368, 'gini = 0.0\\nsamples = 1\\nvalue = [0, 1]'),\n",
       " Text(465.5099700897308, 622.2789473684211, 'gini = 0.0\\nsamples = 19\\nvalue = [0, 19]'),\n",
       " Text(492.2138584247258, 665.1947368421053, 'X[1] <= 3.5\\ngini = 0.142\\nsamples = 13\\nvalue = [12, 1]'),\n",
       " Text(483.3125623130608, 622.2789473684211, 'X[1] <= 2.5\\ngini = 0.32\\nsamples = 5\\nvalue = [4, 1]'),\n",
       " Text(474.4112662013958, 579.3631578947368, 'gini = 0.0\\nsamples = 4\\nvalue = [4, 0]'),\n",
       " Text(492.2138584247258, 579.3631578947368, 'gini = 0.0\\nsamples = 1\\nvalue = [0, 1]'),\n",
       " Text(501.11515453639083, 622.2789473684211, 'gini = 0.0\\nsamples = 8\\nvalue = [8, 0]'),\n",
       " Text(839.8338110667996, 708.1105263157895, 'X[4] <= 26.269\\ngini = 0.279\\nsamples = 430\\nvalue = [358, 72]'),\n",
       " Text(667.7015204386839, 665.1947368421053, 'X[1] <= 32.5\\ngini = 0.177\\nsamples = 316\\nvalue = [285, 31]'),\n",
       " Text(566.5535892323031, 622.2789473684211, 'X[1] <= 26.5\\ngini = 0.206\\nsamples = 232\\nvalue = [205, 27]'),\n",
       " Text(510.0164506480558, 579.3631578947368, 'X[3] <= 0.5\\ngini = 0.158\\nsamples = 174\\nvalue = [159, 15]'),\n",
       " Text(455.91326021934196, 536.4473684210527, 'X[4] <= 2.006\\ngini = 0.136\\nsamples = 164\\nvalue = [152, 12]'),\n",
       " Text(422.8115653040877, 493.5315789473684, 'X[1] <= 22.0\\ngini = 0.5\\nsamples = 2\\nvalue = [1, 1]'),\n",
       " Text(413.91026919242273, 450.61578947368423, 'gini = 0.0\\nsamples = 1\\nvalue = [1, 0]'),\n",
       " Text(431.71286141575274, 450.61578947368423, 'gini = 0.0\\nsamples = 1\\nvalue = [0, 1]'),\n",
       " Text(489.0149551345962, 493.5315789473684, 'X[4] <= 8.135\\ngini = 0.127\\nsamples = 162\\nvalue = [151, 11]'),\n",
       " Text(449.51545363908275, 450.61578947368423, 'X[4] <= 8.081\\ngini = 0.164\\nsamples = 111\\nvalue = [101, 10]'),\n",
       " Text(440.6141575274177, 407.7, 'X[1] <= 24.5\\ngini = 0.15\\nsamples = 110\\nvalue = [101, 9]'),\n",
       " Text(388.3190428713858, 364.7842105263158, 'X[4] <= 7.24\\ngini = 0.241\\nsamples = 50\\nvalue = [43, 7]'),\n",
       " Text(341.58723828514456, 321.8684210526316, 'X[4] <= 7.133\\ngini = 0.375\\nsamples = 12\\nvalue = [9, 3]'),\n",
       " Text(332.68594217347953, 278.9526315789474, 'gini = 0.0\\nsamples = 7\\nvalue = [7, 0]'),\n",
       " Text(350.48853439680954, 278.9526315789474, 'X[4] <= 7.227\\ngini = 0.48\\nsamples = 5\\nvalue = [2, 3]'),\n",
       " Text(341.58723828514456, 236.0368421052632, 'gini = 0.0\\nsamples = 2\\nvalue = [0, 2]'),\n",
       " Text(359.3898305084746, 236.0368421052632, 'X[1] <= 21.0\\ngini = 0.444\\nsamples = 3\\nvalue = [2, 1]'),\n",
       " Text(350.48853439680954, 193.121052631579, 'gini = 0.0\\nsamples = 1\\nvalue = [0, 1]'),\n",
       " Text(368.29112662013955, 193.121052631579, 'gini = 0.0\\nsamples = 2\\nvalue = [2, 0]'),\n",
       " Text(435.0508474576271, 321.8684210526316, 'X[2] <= 0.5\\ngini = 0.188\\nsamples = 38\\nvalue = [34, 4]'),\n",
       " Text(412.7976071784646, 278.9526315789474, 'X[1] <= 17.0\\ngini = 0.153\\nsamples = 36\\nvalue = [33, 3]'),\n",
       " Text(394.9950149551346, 236.0368421052632, 'X[4] <= 7.913\\ngini = 0.444\\nsamples = 3\\nvalue = [2, 1]'),\n",
       " Text(386.09371884346956, 193.121052631579, 'gini = 0.0\\nsamples = 1\\nvalue = [1, 0]'),\n",
       " Text(403.89631106679957, 193.121052631579, 'gini = 0.5\\nsamples = 2\\nvalue = [1, 1]'),\n",
       " Text(430.6001994017946, 236.0368421052632, 'X[1] <= 21.5\\ngini = 0.114\\nsamples = 33\\nvalue = [31, 2]'),\n",
       " Text(421.6989032901296, 193.121052631579, 'X[4] <= 7.785\\ngini = 0.165\\nsamples = 22\\nvalue = [20, 2]'),\n",
       " Text(412.7976071784646, 150.20526315789482, 'gini = 0.0\\nsamples = 8\\nvalue = [8, 0]'),\n",
       " Text(430.6001994017946, 150.20526315789482, 'X[4] <= 7.798\\ngini = 0.245\\nsamples = 14\\nvalue = [12, 2]'),\n",
       " Text(421.6989032901296, 107.28947368421052, 'gini = 0.0\\nsamples = 1\\nvalue = [0, 1]'),\n",
       " Text(439.5014955134596, 107.28947368421052, 'X[1] <= 19.5\\ngini = 0.142\\nsamples = 13\\nvalue = [12, 1]'),\n",
       " Text(430.6001994017946, 64.37368421052633, 'X[4] <= 7.973\\ngini = 0.444\\nsamples = 3\\nvalue = [2, 1]'),\n",
       " Text(421.6989032901296, 21.45789473684215, 'gini = 0.0\\nsamples = 1\\nvalue = [1, 0]'),\n",
       " Text(439.5014955134596, 21.45789473684215, 'gini = 0.5\\nsamples = 2\\nvalue = [1, 1]'),\n",
       " Text(448.4027916251246, 64.37368421052633, 'gini = 0.0\\nsamples = 10\\nvalue = [10, 0]'),\n",
       " Text(439.5014955134596, 193.121052631579, 'gini = 0.0\\nsamples = 11\\nvalue = [11, 0]'),\n",
       " Text(457.3040877367896, 278.9526315789474, 'X[1] <= 21.0\\ngini = 0.5\\nsamples = 2\\nvalue = [1, 1]'),\n",
       " Text(448.4027916251246, 236.0368421052632, 'gini = 0.0\\nsamples = 1\\nvalue = [0, 1]'),\n",
       " Text(466.20538384845463, 236.0368421052632, 'gini = 0.0\\nsamples = 1\\nvalue = [1, 0]'),\n",
       " Text(492.9092721834496, 364.7842105263158, 'X[4] <= 7.802\\ngini = 0.064\\nsamples = 60\\nvalue = [58, 2]'),\n",
       " Text(484.00797607178464, 321.8684210526316, 'X[4] <= 7.746\\ngini = 0.108\\nsamples = 35\\nvalue = [33, 2]'),\n",
       " Text(475.1066799601196, 278.9526315789474, 'gini = 0.0\\nsamples = 24\\nvalue = [24, 0]'),\n",
       " Text(492.9092721834496, 278.9526315789474, 'X[2] <= 0.5\\ngini = 0.298\\nsamples = 11\\nvalue = [9, 2]'),\n",
       " Text(484.00797607178464, 236.0368421052632, 'X[7] <= 0.5\\ngini = 0.346\\nsamples = 9\\nvalue = [7, 2]'),\n",
       " Text(475.1066799601196, 193.121052631579, 'gini = 0.278\\nsamples = 6\\nvalue = [5, 1]'),\n",
       " Text(492.9092721834496, 193.121052631579, 'X[1] <= 25.5\\ngini = 0.444\\nsamples = 3\\nvalue = [2, 1]'),\n",
       " Text(484.00797607178464, 150.20526315789482, 'gini = 0.5\\nsamples = 2\\nvalue = [1, 1]'),\n",
       " Text(501.81056829511465, 150.20526315789482, 'gini = 0.0\\nsamples = 1\\nvalue = [1, 0]'),\n",
       " Text(501.81056829511465, 236.0368421052632, 'gini = 0.0\\nsamples = 2\\nvalue = [2, 0]'),\n",
       " Text(501.81056829511465, 321.8684210526316, 'gini = 0.0\\nsamples = 25\\nvalue = [25, 0]'),\n",
       " Text(458.4167497507477, 407.7, 'gini = 0.0\\nsamples = 1\\nvalue = [0, 1]'),\n",
       " Text(528.5144566301096, 450.61578947368423, 'X[1] <= 19.5\\ngini = 0.038\\nsamples = 51\\nvalue = [50, 1]'),\n",
       " Text(519.6131605184446, 407.7, 'X[1] <= 18.5\\ngini = 0.117\\nsamples = 16\\nvalue = [15, 1]'),\n",
       " Text(510.7118644067796, 364.7842105263158, 'gini = 0.0\\nsamples = 11\\nvalue = [11, 0]'),\n",
       " Text(528.5144566301096, 364.7842105263158, 'X[4] <= 10.335\\ngini = 0.32\\nsamples = 5\\nvalue = [4, 1]'),\n",
       " Text(519.6131605184446, 321.8684210526316, 'gini = 0.0\\nsamples = 2\\nvalue = [2, 0]'),\n",
       " Text(537.4157527417747, 321.8684210526316, 'X[4] <= 11.75\\ngini = 0.444\\nsamples = 3\\nvalue = [2, 1]'),\n",
       " Text(528.5144566301096, 278.9526315789474, 'gini = 0.5\\nsamples = 2\\nvalue = [1, 1]'),\n",
       " Text(546.3170488534397, 278.9526315789474, 'gini = 0.0\\nsamples = 1\\nvalue = [1, 0]'),\n",
       " Text(537.4157527417747, 407.7, 'gini = 0.0\\nsamples = 35\\nvalue = [35, 0]'),\n",
       " Text(564.1196410767697, 536.4473684210527, 'X[7] <= 0.5\\ngini = 0.42\\nsamples = 10\\nvalue = [7, 3]'),\n",
       " Text(555.2183449651046, 493.5315789473684, 'X[4] <= 11.237\\ngini = 0.48\\nsamples = 5\\nvalue = [2, 3]'),\n",
       " Text(546.3170488534397, 450.61578947368423, 'gini = 0.0\\nsamples = 2\\nvalue = [2, 0]'),\n",
       " Text(564.1196410767697, 450.61578947368423, 'gini = 0.0\\nsamples = 3\\nvalue = [0, 3]'),\n",
       " Text(573.0209371884347, 493.5315789473684, 'gini = 0.0\\nsamples = 5\\nvalue = [5, 0]'),\n",
       " Text(623.0907278165503, 579.3631578947368, 'X[1] <= 27.5\\ngini = 0.328\\nsamples = 58\\nvalue = [46, 12]'),\n",
       " Text(599.7248255234297, 536.4473684210527, 'X[4] <= 10.831\\ngini = 0.469\\nsamples = 8\\nvalue = [5, 3]'),\n",
       " Text(590.8235294117646, 493.5315789473684, 'X[4] <= 7.846\\ngini = 0.375\\nsamples = 4\\nvalue = [1, 3]'),\n",
       " Text(581.9222333000997, 450.61578947368423, 'gini = 0.0\\nsamples = 2\\nvalue = [0, 2]'),\n",
       " Text(599.7248255234297, 450.61578947368423, 'X[4] <= 8.279\\ngini = 0.5\\nsamples = 2\\nvalue = [1, 1]'),\n",
       " Text(590.8235294117646, 407.7, 'gini = 0.0\\nsamples = 1\\nvalue = [1, 0]'),\n",
       " Text(608.6261216350947, 407.7, 'gini = 0.0\\nsamples = 1\\nvalue = [0, 1]'),\n",
       " Text(608.6261216350947, 493.5315789473684, 'gini = 0.0\\nsamples = 4\\nvalue = [4, 0]'),\n",
       " Text(646.456630109671, 536.4473684210527, 'X[1] <= 28.75\\ngini = 0.295\\nsamples = 50\\nvalue = [41, 9]'),\n",
       " Text(637.555333998006, 493.5315789473684, 'gini = 0.0\\nsamples = 10\\nvalue = [10, 0]'),\n",
       " Text(655.357926221336, 493.5315789473684, 'X[4] <= 7.49\\ngini = 0.349\\nsamples = 40\\nvalue = [31, 9]'),\n",
       " Text(646.456630109671, 450.61578947368423, 'gini = 0.0\\nsamples = 7\\nvalue = [7, 0]'),\n",
       " Text(664.2592223330009, 450.61578947368423, 'X[7] <= 0.5\\ngini = 0.397\\nsamples = 33\\nvalue = [24, 9]'),\n",
       " Text(626.4287138584247, 407.7, 'X[1] <= 29.5\\ngini = 0.49\\nsamples = 7\\nvalue = [4, 3]'),\n",
       " Text(617.5274177467597, 364.7842105263158, 'gini = 0.0\\nsamples = 2\\nvalue = [0, 2]'),\n",
       " Text(635.3300099700897, 364.7842105263158, 'X[1] <= 30.5\\ngini = 0.32\\nsamples = 5\\nvalue = [4, 1]'),\n",
       " Text(626.4287138584247, 321.8684210526316, 'X[4] <= 14.456\\ngini = 0.444\\nsamples = 3\\nvalue = [2, 1]'),\n",
       " Text(617.5274177467597, 278.9526315789474, 'gini = 0.0\\nsamples = 1\\nvalue = [0, 1]'),\n",
       " Text(635.3300099700897, 278.9526315789474, 'gini = 0.0\\nsamples = 2\\nvalue = [2, 0]'),\n",
       " Text(644.2313060817547, 321.8684210526316, 'gini = 0.0\\nsamples = 2\\nvalue = [2, 0]'),\n",
       " Text(702.0897308075772, 407.7, 'X[1] <= 30.75\\ngini = 0.355\\nsamples = 26\\nvalue = [20, 6]'),\n",
       " Text(670.9351944167497, 364.7842105263158, 'X[4] <= 9.492\\ngini = 0.219\\nsamples = 16\\nvalue = [14, 2]'),\n",
       " Text(662.0338983050847, 321.8684210526316, 'gini = 0.0\\nsamples = 8\\nvalue = [8, 0]'),\n",
       " Text(679.8364905284147, 321.8684210526316, 'X[4] <= 10.0\\ngini = 0.375\\nsamples = 8\\nvalue = [6, 2]'),\n",
       " Text(670.9351944167497, 278.9526315789474, 'gini = 0.0\\nsamples = 2\\nvalue = [0, 2]'),\n",
       " Text(688.7377866400798, 278.9526315789474, 'gini = 0.0\\nsamples = 6\\nvalue = [6, 0]'),\n",
       " Text(733.2442671984047, 364.7842105263158, 'X[4] <= 11.75\\ngini = 0.48\\nsamples = 10\\nvalue = [6, 4]'),\n",
       " Text(715.4416749750748, 321.8684210526316, 'X[4] <= 8.144\\ngini = 0.408\\nsamples = 7\\nvalue = [5, 2]'),\n",
       " Text(706.5403788634097, 278.9526315789474, 'X[4] <= 7.85\\ngini = 0.48\\nsamples = 5\\nvalue = [3, 2]'),\n",
       " Text(697.6390827517447, 236.0368421052632, 'gini = 0.0\\nsamples = 1\\nvalue = [1, 0]'),\n",
       " Text(715.4416749750748, 236.0368421052632, 'X[1] <= 31.5\\ngini = 0.5\\nsamples = 4\\nvalue = [2, 2]'),\n",
       " Text(706.5403788634097, 193.121052631579, 'gini = 0.0\\nsamples = 1\\nvalue = [0, 1]'),\n",
       " Text(724.3429710867398, 193.121052631579, 'gini = 0.444\\nsamples = 3\\nvalue = [2, 1]'),\n",
       " Text(724.3429710867398, 278.9526315789474, 'gini = 0.0\\nsamples = 2\\nvalue = [2, 0]'),\n",
       " Text(751.0468594217348, 321.8684210526316, 'X[4] <= 26.125\\ngini = 0.444\\nsamples = 3\\nvalue = [1, 2]'),\n",
       " Text(742.1455633100697, 278.9526315789474, 'gini = 0.0\\nsamples = 2\\nvalue = [0, 2]'),\n",
       " Text(759.9481555333998, 278.9526315789474, 'gini = 0.0\\nsamples = 1\\nvalue = [1, 0]'),\n",
       " Text(768.8494516450647, 622.2789473684211, 'X[4] <= 7.91\\ngini = 0.091\\nsamples = 84\\nvalue = [80, 4]'),\n",
       " Text(759.9481555333998, 579.3631578947368, 'gini = 0.0\\nsamples = 29\\nvalue = [29, 0]'),\n",
       " Text(777.7507477567298, 579.3631578947368, 'X[4] <= 7.988\\ngini = 0.135\\nsamples = 55\\nvalue = [51, 4]'),\n",
       " Text(768.8494516450647, 536.4473684210527, 'gini = 0.5\\nsamples = 2\\nvalue = [1, 1]'),\n",
       " Text(786.6520438683948, 536.4473684210527, 'X[4] <= 13.25\\ngini = 0.107\\nsamples = 53\\nvalue = [50, 3]'),\n",
       " Text(777.7507477567298, 493.5315789473684, 'X[4] <= 12.938\\ngini = 0.191\\nsamples = 28\\nvalue = [25, 3]'),\n",
       " Text(751.0468594217348, 450.61578947368423, 'X[1] <= 44.5\\ngini = 0.095\\nsamples = 20\\nvalue = [19, 1]'),\n",
       " Text(742.1455633100697, 407.7, 'gini = 0.0\\nsamples = 13\\nvalue = [13, 0]'),\n",
       " Text(759.9481555333998, 407.7, 'X[1] <= 46.0\\ngini = 0.245\\nsamples = 7\\nvalue = [6, 1]'),\n",
       " Text(751.0468594217348, 364.7842105263158, 'gini = 0.0\\nsamples = 1\\nvalue = [0, 1]'),\n",
       " Text(768.8494516450647, 364.7842105263158, 'gini = 0.0\\nsamples = 6\\nvalue = [6, 0]'),\n",
       " Text(804.4546360917248, 450.61578947368423, 'X[1] <= 45.0\\ngini = 0.375\\nsamples = 8\\nvalue = [6, 2]'),\n",
       " Text(795.5533399800598, 407.7, 'X[1] <= 40.5\\ngini = 0.444\\nsamples = 6\\nvalue = [4, 2]'),\n",
       " Text(786.6520438683948, 364.7842105263158, 'X[1] <= 35.0\\ngini = 0.32\\nsamples = 5\\nvalue = [4, 1]'),\n",
       " Text(777.7507477567298, 321.8684210526316, 'gini = 0.5\\nsamples = 2\\nvalue = [1, 1]'),\n",
       " Text(795.5533399800598, 321.8684210526316, 'gini = 0.0\\nsamples = 3\\nvalue = [3, 0]'),\n",
       " Text(804.4546360917248, 364.7842105263158, 'gini = 0.0\\nsamples = 1\\nvalue = [0, 1]'),\n",
       " Text(813.3559322033898, 407.7, 'gini = 0.0\\nsamples = 2\\nvalue = [2, 0]'),\n",
       " Text(795.5533399800598, 493.5315789473684, 'gini = 0.0\\nsamples = 25\\nvalue = [25, 0]'),\n",
       " Text(1011.9661016949152, 665.1947368421053, 'X[4] <= 26.469\\ngini = 0.461\\nsamples = 114\\nvalue = [73, 41]'),\n",
       " Text(1003.0648055832502, 622.2789473684211, 'gini = 0.0\\nsamples = 4\\nvalue = [0, 4]'),\n",
       " Text(1020.8673978065802, 622.2789473684211, 'X[0] <= 1.5\\ngini = 0.446\\nsamples = 110\\nvalue = [73, 37]'),\n",
       " Text(943.5373878364906, 579.3631578947368, 'X[1] <= 36.5\\ngini = 0.472\\nsamples = 89\\nvalue = [55, 34]'),\n",
       " Text(866.7637088733799, 536.4473684210527, 'X[4] <= 37.812\\ngini = 0.488\\nsamples = 26\\nvalue = [11, 15]'),\n",
       " Text(848.9611166500498, 493.5315789473684, 'X[4] <= 28.875\\ngini = 0.219\\nsamples = 8\\nvalue = [1, 7]'),\n",
       " Text(840.0598205383848, 450.61578947368423, 'X[4] <= 27.15\\ngini = 0.375\\nsamples = 4\\nvalue = [1, 3]'),\n",
       " Text(831.1585244267199, 407.7, 'gini = 0.0\\nsamples = 3\\nvalue = [0, 3]'),\n",
       " Text(848.9611166500498, 407.7, 'gini = 0.0\\nsamples = 1\\nvalue = [1, 0]'),\n",
       " Text(857.8624127617148, 450.61578947368423, 'gini = 0.0\\nsamples = 4\\nvalue = [0, 4]'),\n",
       " Text(884.5663010967098, 493.5315789473684, 'X[4] <= 54.271\\ngini = 0.494\\nsamples = 18\\nvalue = [10, 8]'),\n",
       " Text(875.6650049850448, 450.61578947368423, 'gini = 0.0\\nsamples = 4\\nvalue = [4, 0]'),\n",
       " Text(893.4675972083749, 450.61578947368423, 'X[4] <= 64.979\\ngini = 0.49\\nsamples = 14\\nvalue = [6, 8]'),\n",
       " Text(884.5663010967098, 407.7, 'gini = 0.0\\nsamples = 3\\nvalue = [0, 3]'),\n",
       " Text(902.3688933200399, 407.7, 'X[4] <= 84.965\\ngini = 0.496\\nsamples = 11\\nvalue = [6, 5]'),\n",
       " Text(893.4675972083749, 364.7842105263158, 'gini = 0.0\\nsamples = 3\\nvalue = [3, 0]'),\n",
       " Text(911.2701894317048, 364.7842105263158, 'X[1] <= 31.0\\ngini = 0.469\\nsamples = 8\\nvalue = [3, 5]'),\n",
       " Text(902.3688933200399, 321.8684210526316, 'X[4] <= 161.192\\ngini = 0.48\\nsamples = 5\\nvalue = [3, 2]'),\n",
       " Text(893.4675972083749, 278.9526315789474, 'X[4] <= 99.99\\ngini = 0.444\\nsamples = 3\\nvalue = [1, 2]'),\n",
       " Text(884.5663010967098, 236.0368421052632, 'gini = 0.0\\nsamples = 1\\nvalue = [0, 1]'),\n",
       " Text(902.3688933200399, 236.0368421052632, 'X[3] <= 1.0\\ngini = 0.5\\nsamples = 2\\nvalue = [1, 1]'),\n",
       " Text(893.4675972083749, 193.121052631579, 'gini = 0.0\\nsamples = 1\\nvalue = [1, 0]'),\n",
       " Text(911.2701894317048, 193.121052631579, 'gini = 0.0\\nsamples = 1\\nvalue = [0, 1]'),\n",
       " Text(911.2701894317048, 278.9526315789474, 'gini = 0.0\\nsamples = 2\\nvalue = [2, 0]'),\n",
       " Text(920.1714855433698, 321.8684210526316, 'gini = 0.0\\nsamples = 3\\nvalue = [0, 3]'),\n",
       " Text(1020.3110667996011, 536.4473684210527, 'X[2] <= 0.5\\ngini = 0.421\\nsamples = 63\\nvalue = [44, 19]'),\n",
       " Text(991.3818544366899, 493.5315789473684, 'X[4] <= 37.0\\ngini = 0.357\\nsamples = 43\\nvalue = [33, 10]'),\n",
       " Text(982.4805583250248, 450.61578947368423, 'X[4] <= 35.25\\ngini = 0.444\\nsamples = 30\\nvalue = [20, 10]'),\n",
       " Text(973.5792622133599, 407.7, 'X[1] <= 53.5\\ngini = 0.408\\nsamples = 28\\nvalue = [20, 8]'),\n",
       " Text(955.7766699900299, 364.7842105263158, 'X[1] <= 47.5\\ngini = 0.484\\nsamples = 17\\nvalue = [10, 7]'),\n",
       " Text(946.8753738783648, 321.8684210526316, 'X[4] <= 27.135\\ngini = 0.408\\nsamples = 14\\nvalue = [10, 4]'),\n",
       " Text(929.0727816550349, 278.9526315789474, 'X[1] <= 41.0\\ngini = 0.5\\nsamples = 4\\nvalue = [2, 2]'),\n",
       " Text(920.1714855433698, 236.0368421052632, 'gini = 0.5\\nsamples = 2\\nvalue = [1, 1]'),\n",
       " Text(937.9740777666999, 236.0368421052632, 'gini = 0.5\\nsamples = 2\\nvalue = [1, 1]'),\n",
       " Text(964.6779661016949, 278.9526315789474, 'X[4] <= 30.1\\ngini = 0.32\\nsamples = 10\\nvalue = [8, 2]'),\n",
       " Text(955.7766699900299, 236.0368421052632, 'gini = 0.0\\nsamples = 5\\nvalue = [5, 0]'),\n",
       " Text(973.5792622133599, 236.0368421052632, 'X[4] <= 32.51\\ngini = 0.48\\nsamples = 5\\nvalue = [3, 2]'),\n",
       " Text(964.6779661016949, 193.121052631579, 'X[1] <= 38.5\\ngini = 0.444\\nsamples = 3\\nvalue = [1, 2]'),\n",
       " Text(955.7766699900299, 150.20526315789482, 'X[7] <= 0.5\\ngini = 0.5\\nsamples = 2\\nvalue = [1, 1]'),\n",
       " Text(946.8753738783648, 107.28947368421052, 'gini = 0.0\\nsamples = 1\\nvalue = [1, 0]'),\n",
       " Text(964.6779661016949, 107.28947368421052, 'gini = 0.0\\nsamples = 1\\nvalue = [0, 1]'),\n",
       " Text(973.5792622133599, 150.20526315789482, 'gini = 0.0\\nsamples = 1\\nvalue = [0, 1]'),\n",
       " Text(982.4805583250248, 193.121052631579, 'gini = 0.0\\nsamples = 2\\nvalue = [2, 0]'),\n",
       " Text(964.6779661016949, 321.8684210526316, 'gini = 0.0\\nsamples = 3\\nvalue = [0, 3]'),\n",
       " Text(991.3818544366899, 364.7842105263158, 'X[1] <= 75.5\\ngini = 0.165\\nsamples = 11\\nvalue = [10, 1]'),\n",
       " Text(982.4805583250248, 321.8684210526316, 'gini = 0.0\\nsamples = 10\\nvalue = [10, 0]'),\n",
       " Text(1000.2831505483549, 321.8684210526316, 'gini = 0.0\\nsamples = 1\\nvalue = [0, 1]'),\n",
       " Text(991.3818544366899, 407.7, 'gini = 0.0\\nsamples = 2\\nvalue = [0, 2]'),\n",
       " Text(1000.2831505483549, 450.61578947368423, 'gini = 0.0\\nsamples = 13\\nvalue = [13, 0]'),\n",
       " Text(1049.2402791625125, 493.5315789473684, 'X[4] <= 52.827\\ngini = 0.495\\nsamples = 20\\nvalue = [11, 9]'),\n",
       " Text(1026.98703888335, 450.61578947368423, 'X[4] <= 52.277\\ngini = 0.375\\nsamples = 4\\nvalue = [1, 3]'),\n",
       " Text(1018.0857427716849, 407.7, 'X[1] <= 45.0\\ngini = 0.5\\nsamples = 2\\nvalue = [1, 1]'),\n",
       " Text(1009.18444666002, 364.7842105263158, 'gini = 0.0\\nsamples = 1\\nvalue = [1, 0]'),\n",
       " Text(1026.98703888335, 364.7842105263158, 'gini = 0.0\\nsamples = 1\\nvalue = [0, 1]'),\n",
       " Text(1035.888334995015, 407.7, 'gini = 0.0\\nsamples = 2\\nvalue = [0, 2]'),\n",
       " Text(1071.4935194416748, 450.61578947368423, 'X[7] <= 0.5\\ngini = 0.469\\nsamples = 16\\nvalue = [10, 6]'),\n",
       " Text(1053.690927218345, 407.7, 'X[4] <= 89.552\\ngini = 0.49\\nsamples = 7\\nvalue = [3, 4]'),\n",
       " Text(1044.78963110668, 364.7842105263158, 'gini = 0.0\\nsamples = 4\\nvalue = [0, 4]'),\n",
       " Text(1062.59222333001, 364.7842105263158, 'gini = 0.0\\nsamples = 3\\nvalue = [3, 0]'),\n",
       " Text(1089.296111665005, 407.7, 'X[4] <= 86.737\\ngini = 0.346\\nsamples = 9\\nvalue = [7, 2]'),\n",
       " Text(1080.3948155533399, 364.7842105263158, 'gini = 0.0\\nsamples = 6\\nvalue = [6, 0]'),\n",
       " Text(1098.19740777667, 364.7842105263158, 'X[3] <= 2.0\\ngini = 0.444\\nsamples = 3\\nvalue = [1, 2]'),\n",
       " Text(1089.296111665005, 321.8684210526316, 'gini = 0.0\\nsamples = 2\\nvalue = [0, 2]'),\n",
       " Text(1107.098703888335, 321.8684210526316, 'gini = 0.0\\nsamples = 1\\nvalue = [1, 0]'),\n",
       " Text(1098.19740777667, 579.3631578947368, 'X[2] <= 0.5\\ngini = 0.245\\nsamples = 21\\nvalue = [18, 3]'),\n",
       " Text(1089.296111665005, 536.4473684210527, 'X[0] <= 2.5\\ngini = 0.49\\nsamples = 7\\nvalue = [4, 3]'),\n",
       " Text(1080.3948155533399, 493.5315789473684, 'gini = 0.0\\nsamples = 3\\nvalue = [3, 0]'),\n",
       " Text(1098.19740777667, 493.5315789473684, 'X[1] <= 25.5\\ngini = 0.375\\nsamples = 4\\nvalue = [1, 3]'),\n",
       " Text(1089.296111665005, 450.61578947368423, 'gini = 0.5\\nsamples = 2\\nvalue = [1, 1]'),\n",
       " Text(1107.098703888335, 450.61578947368423, 'gini = 0.0\\nsamples = 2\\nvalue = [0, 2]'),\n",
       " Text(1107.098703888335, 536.4473684210527, 'gini = 0.0\\nsamples = 14\\nvalue = [14, 0]')]"
      ]
     },
     "execution_count": 46,
     "metadata": {},
     "output_type": "execute_result"
    },
    {
     "data": {
      "image/png": "[encoded data removed]",
      "text/plain": [
       "<Figure size 1440x1080 with 1 Axes>"
      ]
     },
     "metadata": {
      "needs_background": "light"
     },
     "output_type": "display_data"
    }
   ],
   "source": [
    "from sklearn import tree\n",
    "%matplotlib inline\n",
    "import matplotlib.pyplot as plt\n",
    "\n",
    "\n",
    "plt.figure(figsize=(20,15))\n",
    "tree.plot_tree(tree_clf, filled=True)"
   ]
  },
  {
   "cell_type": "code",
   "execution_count": 47,
   "metadata": {},
   "outputs": [],
   "source": [
    "path = tree_clf.cost_complexity_pruning_path(X, y)\n",
    "ccp_alphas, impurities = path.ccp_alphas, path.impurities"
   ]
  },
  {
   "cell_type": "code",
   "execution_count": 48,
   "metadata": {},
   "outputs": [
    {
     "name": "stdout",
     "output_type": "stream",
     "text": [
      "No. of nodes in the last tree is 1 ,with ccp_alpha 0.13964795747285225\n"
     ]
    }
   ],
   "source": [
    "clfs=[]\n",
    "for ccp_alpha in ccp_alphas:\n",
    "    dec_tree = DecisionTreeClassifier(random_state=0, ccp_alpha=ccp_alpha)\n",
    "    dec_tree.fit(X, y)\n",
    "    clfs.append(dec_tree)\n",
    "print(\"No. of nodes in the last tree is {} ,with ccp_alpha {}\".format(clfs[-1].tree_.node_count, ccp_alphas[-1]))"
   ]
  },
  {
   "cell_type": "code",
   "execution_count": 49,
   "metadata": {},
   "outputs": [],
   "source": [
    "train_scores = [clf.score(X_train, y_train) for clf in clfs]\n",
    "test_scores = [clf.score(X_test, y_test) for clf in clfs]"
   ]
  },
  {
   "cell_type": "code",
   "execution_count": 50,
   "metadata": {},
   "outputs": [
    {
     "data": {
      "image/png": "[encoded data removed]",
      "text/plain": [
       "<Figure size 432x288 with 1 Axes>"
      ]
     },
     "metadata": {
      "needs_background": "light"
     },
     "output_type": "display_data"
    }
   ],
   "source": [
    "fig, ax = plt.subplots()\n",
    "ax.set_xlabel('alpha')\n",
    "ax.set_ylabel('accuracy')\n",
    "ax.set_title('alpha vs accuracy for training and test data sets')\n",
    "ax.plot(ccp_alphas, train_scores, marker='o', label='train', drawstyle='steps-post')\n",
    "ax.plot(ccp_alphas, test_scores, marker='o', label='test', drawstyle='steps-post')\n",
    "ax.legend()\n",
    "plt.show()"
   ]
  },
  {
   "cell_type": "code",
   "execution_count": 51,
   "metadata": {},
   "outputs": [],
   "source": [
    "final_tree = DecisionTreeClassifier(random_state=0, ccp_alpha=0.005)"
   ]
  },
  {
   "cell_type": "code",
   "execution_count": 52,
   "metadata": {},
   "outputs": [
    {
     "data": {
      "text/plain": [
       "0.8201910765291046"
      ]
     },
     "execution_count": 52,
     "metadata": {},
     "output_type": "execute_result"
    }
   ],
   "source": [
    "cross_val_score(final_tree, X_train, y_train, cv=5, scoring='accuracy').mean()"
   ]
  },
  {
   "cell_type": "code",
   "execution_count": 53,
   "metadata": {},
   "outputs": [
    {
     "data": {
      "text/plain": [
       "[Text(472.15384615384613, 713.475, 'X[5] <= 0.5\\ngini = 0.473\\nsamples = 891\\nvalue = [549, 342]'),\n",
       " Text(171.69230769230768, 509.625, 'X[0] <= 2.5\\ngini = 0.383\\nsamples = 314\\nvalue = [81, 233]'),\n",
       " Text(85.84615384615384, 305.775, 'gini = 0.1\\nsamples = 170\\nvalue = [9, 161]'),\n",
       " Text(257.53846153846155, 305.775, 'X[4] <= 23.35\\ngini = 0.5\\nsamples = 144\\nvalue = [72, 72]'),\n",
       " Text(171.69230769230768, 101.92499999999995, 'gini = 0.484\\nsamples = 117\\nvalue = [48, 69]'),\n",
       " Text(343.38461538461536, 101.92499999999995, 'gini = 0.198\\nsamples = 27\\nvalue = [24, 3]'),\n",
       " Text(772.6153846153845, 509.625, 'X[1] <= 6.5\\ngini = 0.306\\nsamples = 577\\nvalue = [468, 109]'),\n",
       " Text(600.9230769230769, 305.775, 'X[2] <= 2.5\\ngini = 0.444\\nsamples = 24\\nvalue = [8, 16]'),\n",
       " Text(515.0769230769231, 101.92499999999995, 'gini = 0.0\\nsamples = 15\\nvalue = [0, 15]'),\n",
       " Text(686.7692307692307, 101.92499999999995, 'gini = 0.198\\nsamples = 9\\nvalue = [8, 1]'),\n",
       " Text(944.3076923076923, 305.775, 'X[0] <= 1.5\\ngini = 0.28\\nsamples = 553\\nvalue = [460, 93]'),\n",
       " Text(858.4615384615383, 101.92499999999995, 'gini = 0.46\\nsamples = 120\\nvalue = [77, 43]'),\n",
       " Text(1030.1538461538462, 101.92499999999995, 'gini = 0.204\\nsamples = 433\\nvalue = [383, 50]')]"
      ]
     },
     "execution_count": 53,
     "metadata": {},
     "output_type": "execute_result"
    },
    {
     "data": {
      "image/png": "[encoded data removed]",
      "text/plain": [
       "<Figure size 1440x1080 with 1 Axes>"
      ]
     },
     "metadata": {
      "needs_background": "light"
     },
     "output_type": "display_data"
    }
   ],
   "source": [
    "final_tree.fit(X, y)\n",
    "\n",
    "plt.figure(figsize=(20,15))\n",
    "tree.plot_tree(final_tree, filled=True)"
   ]
  },
  {
   "cell_type": "code",
   "execution_count": 54,
   "metadata": {},
   "outputs": [],
   "source": [
    "from sklearn.model_selection import GridSearchCV, RandomizedSearchCV\n",
    "import xgboost"
   ]
  },
  {
   "cell_type": "code",
   "execution_count": 55,
   "metadata": {},
   "outputs": [],
   "source": [
    "params={\n",
    "    'learning_rate': [0.05, 0.10, 0.15, 0.20, 0.25, 0.30],\n",
    "    'max_depth': [3, 4, 5, 6, 8, 10, 12, 15],\n",
    "    'min_child_weight': [1, 3, 5, 7],\n",
    "    'gamma': [0.0, 0.1, 0.2, 0.3, 0.4],\n",
    "    'colsample_bytree': [0.3, 0.4, 0.5, 0.7]\n",
    "}"
   ]
  },
  {
   "cell_type": "code",
   "execution_count": 56,
   "metadata": {},
   "outputs": [],
   "source": [
    "classifier = xgboost.XGBClassifier()"
   ]
  },
  {
   "cell_type": "code",
   "execution_count": 57,
   "metadata": {},
   "outputs": [],
   "source": [
    "random_search = RandomizedSearchCV(classifier, param_distributions=params, n_iter=5, scoring='roc_auc', n_jobs=-1, cv=5, verbose=3)"
   ]
  },
  {
   "cell_type": "code",
   "execution_count": 58,
   "metadata": {},
   "outputs": [
    {
     "name": "stdout",
     "output_type": "stream",
     "text": [
      "Fitting 5 folds for each of 5 candidates, totalling 25 fits\n"
     ]
    },
    {
     "name": "stderr",
     "output_type": "stream",
     "text": [
      "[Parallel(n_jobs=-1)]: Using backend LokyBackend with 8 concurrent workers.\n",
      "[Parallel(n_jobs=-1)]: Done  19 out of  25 | elapsed:    1.8s remaining:    0.6s\n",
      "[Parallel(n_jobs=-1)]: Done  25 out of  25 | elapsed:    1.9s finished\n"
     ]
    },
    {
     "data": {
      "text/plain": [
       "RandomizedSearchCV(cv=5,\n",
       "                   estimator=XGBClassifier(base_score=None, booster=None,\n",
       "                                           colsample_bylevel=None,\n",
       "                                           colsample_bynode=None,\n",
       "                                           colsample_bytree=None, gamma=None,\n",
       "                                           gpu_id=None, importance_type='gain',\n",
       "                                           interaction_constraints=None,\n",
       "                                           learning_rate=None,\n",
       "                                           max_delta_step=None, max_depth=None,\n",
       "                                           min_child_weight=None, missing=nan,\n",
       "                                           monotone_constraints=None,\n",
       "                                           n_estimators=100,...\n",
       "                                           reg_lambda=None,\n",
       "                                           scale_pos_weight=None,\n",
       "                                           subsample=None, tree_method=None,\n",
       "                                           validate_parameters=None,\n",
       "                                           verbosity=None),\n",
       "                   n_iter=5, n_jobs=-1,\n",
       "                   param_distributions={'colsample_bytree': [0.3, 0.4, 0.5,\n",
       "                                                             0.7],\n",
       "                                        'gamma': [0.0, 0.1, 0.2, 0.3, 0.4],\n",
       "                                        'learning_rate': [0.05, 0.1, 0.15, 0.2,\n",
       "                                                          0.25, 0.3],\n",
       "                                        'max_depth': [3, 4, 5, 6, 8, 10, 12,\n",
       "                                                      15],\n",
       "                                        'min_child_weight': [1, 3, 5, 7]},\n",
       "                   scoring='roc_auc', verbose=3)"
      ]
     },
     "execution_count": 58,
     "metadata": {},
     "output_type": "execute_result"
    }
   ],
   "source": [
    "random_search.fit(X, y)"
   ]
  },
  {
   "cell_type": "code",
   "execution_count": 59,
   "metadata": {},
   "outputs": [
    {
     "data": {
      "text/plain": [
       "XGBClassifier(base_score=0.5, booster='gbtree', colsample_bylevel=1,\n",
       "              colsample_bynode=1, colsample_bytree=0.5, gamma=0.0, gpu_id=-1,\n",
       "              importance_type='gain', interaction_constraints='',\n",
       "              learning_rate=0.25, max_delta_step=0, max_depth=12,\n",
       "              min_child_weight=5, missing=nan, monotone_constraints='()',\n",
       "              n_estimators=100, n_jobs=0, num_parallel_tree=1, random_state=0,\n",
       "              reg_alpha=0, reg_lambda=1, scale_pos_weight=1, subsample=1,\n",
       "              tree_method='exact', validate_parameters=1, verbosity=None)"
      ]
     },
     "execution_count": 59,
     "metadata": {},
     "output_type": "execute_result"
    }
   ],
   "source": [
    "random_search.best_estimator_"
   ]
  },
  {
   "cell_type": "code",
   "execution_count": 60,
   "metadata": {},
   "outputs": [],
   "source": [
    "xgb_clf = xgboost.XGBClassifier(base_score=0.5, booster='gbtree', colsample_bylevel=1,\n",
    "              colsample_bynode=1, colsample_bytree=0.4, gamma=0.2, gpu_id=-1,\n",
    "              importance_type='gain', interaction_constraints='',\n",
    "              learning_rate=0.3, max_delta_step=0, max_depth=8,\n",
    "              min_child_weight=7, monotone_constraints='()',\n",
    "              n_estimators=100, n_jobs=0, num_parallel_tree=1, random_state=0,\n",
    "              reg_alpha=0, reg_lambda=1, scale_pos_weight=1, subsample=1,\n",
    "              tree_method='exact', validate_parameters=1, verbosity=None)"
   ]
  },
  {
   "cell_type": "code",
   "execution_count": 61,
   "metadata": {},
   "outputs": [
    {
     "data": {
      "text/plain": [
       "0.8339700374531835"
      ]
     },
     "execution_count": 61,
     "metadata": {},
     "output_type": "execute_result"
    }
   ],
   "source": [
    "cross_val_score(xgb_clf, X, y, cv=10, scoring='accuracy').mean()"
   ]
  },
  {
   "cell_type": "code",
   "execution_count": 62,
   "metadata": {},
   "outputs": [
    {
     "data": {
      "text/plain": [
       "XGBClassifier(base_score=0.5, booster='gbtree', colsample_bylevel=1,\n",
       "              colsample_bynode=1, colsample_bytree=0.4, gamma=0.2, gpu_id=-1,\n",
       "              importance_type='gain', interaction_constraints='',\n",
       "              learning_rate=0.3, max_delta_step=0, max_depth=8,\n",
       "              min_child_weight=7, missing=nan, monotone_constraints='()',\n",
       "              n_estimators=100, n_jobs=0, num_parallel_tree=1, random_state=0,\n",
       "              reg_alpha=0, reg_lambda=1, scale_pos_weight=1, subsample=1,\n",
       "              tree_method='exact', validate_parameters=1, verbosity=None)"
      ]
     },
     "execution_count": 62,
     "metadata": {},
     "output_type": "execute_result"
    }
   ],
   "source": [
    "xgb_clf.fit(X, y)"
   ]
  },
  {
   "cell_type": "code",
   "execution_count": 63,
   "metadata": {},
   "outputs": [],
   "source": [
    "xgb_ans = xgb_clf.predict(encoded_test)"
   ]
  },
  {
   "cell_type": "code",
   "execution_count": 64,
   "metadata": {},
   "outputs": [],
   "source": [
    "from sklearn.ensemble import RandomForestClassifier\n",
    "from sklearn.ensemble import VotingClassifier\n",
    "from sklearn.linear_model import LogisticRegression\n",
    "from sklearn.svm import SVC"
   ]
  },
  {
   "cell_type": "code",
   "execution_count": 65,
   "metadata": {},
   "outputs": [],
   "source": [
    "forest_reg = RandomForestClassifier()\n",
    "log_reg = LogisticRegression(C=1.5, max_iter=1000, multi_class='multinomial',\n",
    "                   solver='newton-cg')\n",
    "svm_clf = SVC(kernel='rbf', gamma=0.1, C=2, probability=True)\n",
    "tree_clf = DecisionTreeClassifier(random_state=0, ccp_alpha=0.005)\n",
    "xgb_clf = xgboost.XGBClassifier(base_score=0.5, booster='gbtree', colsample_bylevel=1,\n",
    "              colsample_bynode=1, colsample_bytree=0.4, gamma=0.2, gpu_id=-1,\n",
    "              importance_type='gain', interaction_constraints='',\n",
    "              learning_rate=0.3, max_delta_step=0, max_depth=8,\n",
    "              min_child_weight=7, monotone_constraints='()',\n",
    "              n_estimators=100, n_jobs=0, num_parallel_tree=1, random_state=0,\n",
    "              reg_alpha=0, reg_lambda=1, scale_pos_weight=1, subsample=1,\n",
    "              tree_method='exact', validate_parameters=1, verbosity=None)"
   ]
  },
  {
   "cell_type": "code",
   "execution_count": 66,
   "metadata": {},
   "outputs": [],
   "source": [
    "voting_clf = VotingClassifier(\n",
    "                    estimators=[('lg', log_reg), ('svm', svm_clf), ('rf', forest_reg), ('dt', tree_clf), ('xgb', xgb_clf)],\n",
    "                    voting='soft')"
   ]
  },
  {
   "cell_type": "code",
   "execution_count": 67,
   "metadata": {},
   "outputs": [
    {
     "data": {
      "text/plain": [
       "0.8272034956304619"
      ]
     },
     "execution_count": 67,
     "metadata": {},
     "output_type": "execute_result"
    }
   ],
   "source": [
    "cross_val_score(voting_clf, X, y, cv=10, scoring='accuracy').mean()"
   ]
  },
  {
   "cell_type": "code",
   "execution_count": 68,
   "metadata": {},
   "outputs": [
    {
     "data": {
      "text/plain": [
       "VotingClassifier(estimators=[('lg',\n",
       "                              LogisticRegression(C=1.5, max_iter=1000,\n",
       "                                                 multi_class='multinomial',\n",
       "                                                 solver='newton-cg')),\n",
       "                             ('svm', SVC(C=2, gamma=0.1, probability=True)),\n",
       "                             ('rf', RandomForestClassifier()),\n",
       "                             ('dt',\n",
       "                              DecisionTreeClassifier(ccp_alpha=0.005,\n",
       "                                                     random_state=0)),\n",
       "                             ('xgb',\n",
       "                              XGBClassifier(base_score=0.5, booster='gbtree',\n",
       "                                            colsample_bylevel=1,\n",
       "                                            colsample_bynode=1...\n",
       "                                            gpu_id=-1, importance_type='gain',\n",
       "                                            interaction_constraints='',\n",
       "                                            learning_rate=0.3, max_delta_step=0,\n",
       "                                            max_depth=8, min_child_weight=7,\n",
       "                                            missing=nan,\n",
       "                                            monotone_constraints='()',\n",
       "                                            n_estimators=100, n_jobs=0,\n",
       "                                            num_parallel_tree=1, random_state=0,\n",
       "                                            reg_alpha=0, reg_lambda=1,\n",
       "                                            scale_pos_weight=1, subsample=1,\n",
       "                                            tree_method='exact',\n",
       "                                            validate_parameters=1,\n",
       "                                            verbosity=None))],\n",
       "                 voting='soft')"
      ]
     },
     "execution_count": 68,
     "metadata": {},
     "output_type": "execute_result"
    }
   ],
   "source": [
    "voting_clf.fit(X, y)"
   ]
  },
  {
   "cell_type": "code",
   "execution_count": 69,
   "metadata": {},
   "outputs": [],
   "source": [
    "voting_ans = voting_clf.predict(encoded_test)"
   ]
  },
  {
   "cell_type": "code",
   "execution_count": 70,
   "metadata": {},
   "outputs": [],
   "source": [
    "from sklearn.ensemble import BaggingClassifier\n",
    "\n",
    "bag_clf = BaggingClassifier(DecisionTreeClassifier(random_state=0, ccp_alpha=0.005), \n",
    "                            n_estimators=10, max_samples=100, bootstrap=True, n_jobs=-1)"
   ]
  },
  {
   "cell_type": "code",
   "execution_count": 71,
   "metadata": {},
   "outputs": [
    {
     "data": {
      "text/plain": [
       "0.8170786516853934"
      ]
     },
     "execution_count": 71,
     "metadata": {},
     "output_type": "execute_result"
    }
   ],
   "source": [
    "cross_val_score(bag_clf, X, y, cv=10, scoring='accuracy').mean()"
   ]
  },
  {
   "cell_type": "code",
   "execution_count": 72,
   "metadata": {},
   "outputs": [
    {
     "data": {
      "text/plain": [
       "BaggingClassifier(base_estimator=DecisionTreeClassifier(ccp_alpha=0.005,\n",
       "                                                        random_state=0),\n",
       "                  max_samples=100, n_jobs=-1)"
      ]
     },
     "execution_count": 72,
     "metadata": {},
     "output_type": "execute_result"
    }
   ],
   "source": [
    "bag_clf.fit(X, y)"
   ]
  },
  {
   "cell_type": "code",
   "execution_count": 73,
   "metadata": {},
   "outputs": [],
   "source": [
    "bag_ans = bag_clf.predict(encoded_test)"
   ]
  },
  {
   "cell_type": "code",
   "execution_count": 74,
   "metadata": {},
   "outputs": [],
   "source": [
    "forest_clf = RandomForestClassifier(n_estimators=100, ccp_alpha=0.005, n_jobs=-1)"
   ]
  },
  {
   "cell_type": "code",
   "execution_count": 75,
   "metadata": {},
   "outputs": [
    {
     "data": {
      "text/plain": [
       "0.8271785268414481"
      ]
     },
     "execution_count": 75,
     "metadata": {},
     "output_type": "execute_result"
    }
   ],
   "source": [
    "cross_val_score(forest_clf, X, y, cv=10, scoring='accuracy').mean()"
   ]
  },
  {
   "cell_type": "code",
   "execution_count": 76,
   "metadata": {},
   "outputs": [
    {
     "data": {
      "text/plain": [
       "RandomForestClassifier(ccp_alpha=0.005, n_jobs=-1)"
      ]
     },
     "execution_count": 76,
     "metadata": {},
     "output_type": "execute_result"
    }
   ],
   "source": [
    "forest_clf.fit(X, y)"
   ]
  },
  {
   "cell_type": "code",
   "execution_count": 77,
   "metadata": {},
   "outputs": [],
   "source": [
    "forest_ans = forest_clf.predict(encoded_test)"
   ]
  },
  {
   "cell_type": "code",
   "execution_count": 78,
   "metadata": {},
   "outputs": [],
   "source": [
    "bag_clf = BaggingClassifier(DecisionTreeClassifier(splitter='random',random_state=0, ccp_alpha=0.005), \n",
    "                             n_estimators=10, max_samples=100, bootstrap=True, n_jobs=-1)"
   ]
  },
  {
   "cell_type": "code",
   "execution_count": 79,
   "metadata": {},
   "outputs": [
    {
     "data": {
      "text/plain": [
       "0.8159550561797753"
      ]
     },
     "execution_count": 79,
     "metadata": {},
     "output_type": "execute_result"
    }
   ],
   "source": [
    "cross_val_score(bag_clf, X, y, cv=10, scoring='accuracy').mean()"
   ]
  },
  {
   "cell_type": "code",
   "execution_count": 80,
   "metadata": {},
   "outputs": [],
   "source": [
    "forest_reg = RandomForestClassifier(n_estimators=500, ccp_alpha=0.005, n_jobs=-1)\n",
    "log_reg = LogisticRegression(C=1.5, max_iter=1000, multi_class='multinomial',\n",
    "                   solver='newton-cg')\n",
    "svm_clf = SVC(kernel='rbf', gamma=0.1, C=2, probability=True)\n",
    "tree_clf = DecisionTreeClassifier(random_state=0, ccp_alpha=0.005)\n",
    "xgb_clf = xgboost.XGBClassifier(base_score=0.5, booster='gbtree', colsample_bylevel=1,\n",
    "              colsample_bynode=1, colsample_bytree=0.4, gamma=0.2, gpu_id=-1,\n",
    "              importance_type='gain', interaction_constraints='',\n",
    "              learning_rate=0.3, max_delta_step=0, max_depth=8,\n",
    "              min_child_weight=7, monotone_constraints='()',\n",
    "              n_estimators=100, n_jobs=0, num_parallel_tree=1, random_state=0,\n",
    "              reg_alpha=0, reg_lambda=1, scale_pos_weight=1, subsample=1,\n",
    "              tree_method='exact', validate_parameters=1, verbosity=None)\n",
    "\n",
    "\n",
    "\n",
    "voting_clf = VotingClassifier(\n",
    "                    estimators=[('lg', log_reg), ('svm', svm_clf), ('rf', forest_reg), ('dt', tree_clf), ('xgb', xgb_clf)],\n",
    "                    voting='soft')"
   ]
  },
  {
   "cell_type": "code",
   "execution_count": 81,
   "metadata": {},
   "outputs": [
    {
     "data": {
      "text/plain": [
       "0.8272034956304619"
      ]
     },
     "execution_count": 81,
     "metadata": {},
     "output_type": "execute_result"
    }
   ],
   "source": [
    "cross_val_score(voting_clf, X, y, cv=10, scoring='accuracy').mean()"
   ]
  },
  {
   "cell_type": "code",
   "execution_count": 82,
   "metadata": {},
   "outputs": [],
   "source": [
    "from sklearn.ensemble import AdaBoostClassifier\n",
    "\n",
    "ada_clf = AdaBoostClassifier(\n",
    "                            DecisionTreeClassifier(random_state=0, ccp_alpha=0.009), n_estimators=200,\n",
    "                            algorithm='SAMME.R', learning_rate=0.1)"
   ]
  },
  {
   "cell_type": "code",
   "execution_count": 83,
   "metadata": {},
   "outputs": [
    {
     "data": {
      "text/plain": [
       "0.8170661672908863"
      ]
     },
     "execution_count": 83,
     "metadata": {},
     "output_type": "execute_result"
    }
   ],
   "source": [
    "cross_val_score(ada_clf, X, y, cv=10, scoring='accuracy').mean()"
   ]
  },
  {
   "cell_type": "code",
   "execution_count": 84,
   "metadata": {},
   "outputs": [
    {
     "data": {
      "text/plain": [
       "AdaBoostClassifier(base_estimator=DecisionTreeClassifier(ccp_alpha=0.009,\n",
       "                                                         random_state=0),\n",
       "                   learning_rate=0.1, n_estimators=200)"
      ]
     },
     "execution_count": 84,
     "metadata": {},
     "output_type": "execute_result"
    }
   ],
   "source": [
    "ada_clf.fit(X, y)"
   ]
  },
  {
   "cell_type": "code",
   "execution_count": 85,
   "metadata": {},
   "outputs": [],
   "source": [
    "ada_ans = ada_clf.predict(encoded_test)"
   ]
  },
  {
   "cell_type": "code",
   "execution_count": 97,
   "metadata": {},
   "outputs": [],
   "source": [
    "params={\n",
    "    'n_estimators': [20, 50, 100, 200, 500],\n",
    "    'learning_rate': [0.01, 0.05, 0.1, 0.5, 1],\n",
    "    'max_depth': [4, 5, 7, 10]\n",
    "}"
   ]
  },
  {
   "cell_type": "code",
   "execution_count": 102,
   "metadata": {},
   "outputs": [],
   "source": [
    "from sklearn.ensemble import GradientBoostingClassifier\n",
    "\n",
    "gb_clf = GradientBoostingClassifier()"
   ]
  },
  {
   "cell_type": "code",
   "execution_count": 103,
   "metadata": {},
   "outputs": [],
   "source": [
    "grid_search = GridSearchCV(gb_clf, param_grid=params, scoring='accuracy', cv=3, n_jobs=-1)"
   ]
  },
  {
   "cell_type": "code",
   "execution_count": 104,
   "metadata": {},
   "outputs": [
    {
     "data": {
      "text/plain": [
       "GridSearchCV(cv=3, estimator=GradientBoostingClassifier(), n_jobs=-1,\n",
       "             param_grid={'learning_rate': [0.01, 0.05, 0.1, 0.5, 1],\n",
       "                         'max_depth': [4, 5, 7, 10],\n",
       "                         'n_estimators': [20, 50, 100, 200, 500]},\n",
       "             scoring='accuracy')"
      ]
     },
     "execution_count": 104,
     "metadata": {},
     "output_type": "execute_result"
    }
   ],
   "source": [
    "grid_search.fit(X, y)"
   ]
  },
  {
   "cell_type": "code",
   "execution_count": 105,
   "metadata": {},
   "outputs": [
    {
     "data": {
      "text/plain": [
       "{'learning_rate': 0.01, 'max_depth': 5, 'n_estimators': 500}"
      ]
     },
     "execution_count": 105,
     "metadata": {},
     "output_type": "execute_result"
    }
   ],
   "source": [
    "grid_search.best_params_"
   ]
  },
  {
   "cell_type": "code",
   "execution_count": 106,
   "metadata": {},
   "outputs": [
    {
     "data": {
      "text/plain": [
       "0.8282828282828283"
      ]
     },
     "execution_count": 106,
     "metadata": {},
     "output_type": "execute_result"
    }
   ],
   "source": [
    "grid_search.best_score_"
   ]
  },
  {
   "cell_type": "code",
   "execution_count": 151,
   "metadata": {},
   "outputs": [],
   "source": [
    "gb_clf = GradientBoostingClassifier(learning_rate=0.05, subsample=0.3, max_depth=5, n_estimators=100)"
   ]
  },
  {
   "cell_type": "code",
   "execution_count": 152,
   "metadata": {},
   "outputs": [
    {
     "data": {
      "text/plain": [
       "0.8328089887640449"
      ]
     },
     "execution_count": 152,
     "metadata": {},
     "output_type": "execute_result"
    }
   ],
   "source": [
    "cross_val_score(gb_clf, X, y, cv=10, scoring='accuracy').mean()"
   ]
  },
  {
   "cell_type": "code",
   "execution_count": 153,
   "metadata": {},
   "outputs": [
    {
     "data": {
      "text/plain": [
       "GradientBoostingClassifier(learning_rate=0.05, max_depth=5, subsample=0.3)"
      ]
     },
     "execution_count": 153,
     "metadata": {},
     "output_type": "execute_result"
    }
   ],
   "source": [
    "gb_clf.fit(X, y)"
   ]
  },
  {
   "cell_type": "code",
   "execution_count": 154,
   "metadata": {},
   "outputs": [],
   "source": [
    "gb_ans = gb_clf.predict(encoded_test)"
   ]
  },
  {
   "cell_type": "code",
   "execution_count": 155,
   "metadata": {},
   "outputs": [
    {
     "name": "stdout",
     "output_type": "stream",
     "text": [
      "892,0\n",
      "893,0\n",
      "894,0\n",
      "895,0\n",
      "896,0\n",
      "897,0\n",
      "898,1\n",
      "899,0\n",
      "900,1\n",
      "901,0\n",
      "902,0\n",
      "903,0\n",
      "904,1\n",
      "905,0\n",
      "906,1\n",
      "907,1\n",
      "908,0\n",
      "909,0\n",
      "910,1\n",
      "911,0\n",
      "912,0\n",
      "913,1\n",
      "914,1\n",
      "915,1\n",
      "916,1\n",
      "917,0\n",
      "918,1\n",
      "919,0\n",
      "920,1\n",
      "921,0\n",
      "922,0\n",
      "923,0\n",
      "924,0\n",
      "925,0\n",
      "926,1\n",
      "927,0\n",
      "928,0\n",
      "929,0\n",
      "930,0\n",
      "931,1\n",
      "932,0\n",
      "933,0\n",
      "934,0\n",
      "935,1\n",
      "936,1\n",
      "937,0\n",
      "938,0\n",
      "939,0\n",
      "940,1\n",
      "941,1\n",
      "942,0\n",
      "943,0\n",
      "944,1\n",
      "945,1\n",
      "946,0\n",
      "947,0\n",
      "948,0\n",
      "949,0\n",
      "950,0\n",
      "951,1\n",
      "952,0\n",
      "953,0\n",
      "954,0\n",
      "955,1\n",
      "956,0\n",
      "957,1\n",
      "958,1\n",
      "959,0\n",
      "960,0\n",
      "961,1\n",
      "962,1\n",
      "963,0\n",
      "964,1\n",
      "965,0\n",
      "966,1\n",
      "967,0\n",
      "968,0\n",
      "969,1\n",
      "970,0\n",
      "971,1\n",
      "972,1\n",
      "973,0\n",
      "974,0\n",
      "975,0\n",
      "976,0\n",
      "977,0\n",
      "978,1\n",
      "979,0\n",
      "980,1\n",
      "981,1\n",
      "982,0\n",
      "983,0\n",
      "984,1\n",
      "985,0\n",
      "986,1\n",
      "987,0\n",
      "988,1\n",
      "989,0\n",
      "990,1\n",
      "991,0\n",
      "992,1\n",
      "993,0\n",
      "994,0\n",
      "995,0\n",
      "996,0\n",
      "997,0\n",
      "998,0\n",
      "999,0\n",
      "1000,0\n",
      "1001,0\n",
      "1002,0\n",
      "1003,1\n",
      "1004,1\n",
      "1005,1\n",
      "1006,1\n",
      "1007,0\n",
      "1008,0\n",
      "1009,1\n",
      "1010,1\n",
      "1011,1\n",
      "1012,1\n",
      "1013,0\n",
      "1014,1\n",
      "1015,0\n",
      "1016,0\n",
      "1017,1\n",
      "1018,0\n",
      "1019,1\n",
      "1020,0\n",
      "1021,0\n",
      "1022,0\n",
      "1023,0\n",
      "1024,0\n",
      "1025,0\n",
      "1026,0\n",
      "1027,0\n",
      "1028,0\n",
      "1029,0\n",
      "1030,0\n",
      "1031,0\n",
      "1032,0\n",
      "1033,1\n",
      "1034,0\n",
      "1035,0\n",
      "1036,1\n",
      "1037,0\n",
      "1038,0\n",
      "1039,0\n",
      "1040,0\n",
      "1041,0\n",
      "1042,1\n",
      "1043,0\n",
      "1044,0\n",
      "1045,0\n",
      "1046,0\n",
      "1047,0\n",
      "1048,1\n",
      "1049,1\n",
      "1050,1\n",
      "1051,0\n",
      "1052,1\n",
      "1053,1\n",
      "1054,1\n",
      "1055,0\n",
      "1056,0\n",
      "1057,0\n",
      "1058,0\n",
      "1059,0\n",
      "1060,1\n",
      "1061,0\n",
      "1062,0\n",
      "1063,0\n",
      "1064,0\n",
      "1065,0\n",
      "1066,0\n",
      "1067,1\n",
      "1068,1\n",
      "1069,0\n",
      "1070,1\n",
      "1071,1\n",
      "1072,0\n",
      "1073,0\n",
      "1074,1\n",
      "1075,0\n",
      "1076,1\n",
      "1077,0\n",
      "1078,1\n",
      "1079,0\n",
      "1080,0\n",
      "1081,0\n",
      "1082,0\n",
      "1083,0\n",
      "1084,1\n",
      "1085,0\n",
      "1086,1\n",
      "1087,0\n",
      "1088,1\n",
      "1089,0\n",
      "1090,0\n",
      "1091,0\n",
      "1092,1\n",
      "1093,1\n",
      "1094,0\n",
      "1095,1\n",
      "1096,0\n",
      "1097,0\n",
      "1098,0\n",
      "1099,0\n",
      "1100,1\n",
      "1101,0\n",
      "1102,0\n",
      "1103,0\n",
      "1104,0\n",
      "1105,1\n",
      "1106,0\n",
      "1107,0\n",
      "1108,1\n",
      "1109,0\n",
      "1110,1\n",
      "1111,0\n",
      "1112,1\n",
      "1113,0\n",
      "1114,1\n",
      "1115,0\n",
      "1116,1\n",
      "1117,1\n",
      "1118,0\n",
      "1119,1\n",
      "1120,0\n",
      "1121,0\n",
      "1122,0\n",
      "1123,1\n",
      "1124,0\n",
      "1125,0\n",
      "1126,0\n",
      "1127,0\n",
      "1128,0\n",
      "1129,0\n",
      "1130,1\n",
      "1131,1\n",
      "1132,1\n",
      "1133,1\n",
      "1134,0\n",
      "1135,0\n",
      "1136,0\n",
      "1137,0\n",
      "1138,1\n",
      "1139,0\n",
      "1140,1\n",
      "1141,0\n",
      "1142,1\n",
      "1143,0\n",
      "1144,0\n",
      "1145,0\n",
      "1146,0\n",
      "1147,0\n",
      "1148,0\n",
      "1149,0\n",
      "1150,1\n",
      "1151,0\n",
      "1152,0\n",
      "1153,0\n",
      "1154,1\n",
      "1155,1\n",
      "1156,0\n",
      "1157,0\n",
      "1158,0\n",
      "1159,0\n",
      "1160,0\n",
      "1161,0\n",
      "1162,0\n",
      "1163,0\n",
      "1164,1\n",
      "1165,1\n",
      "1166,0\n",
      "1167,1\n",
      "1168,0\n",
      "1169,0\n",
      "1170,0\n",
      "1171,0\n",
      "1172,0\n",
      "1173,1\n",
      "1174,1\n",
      "1175,1\n",
      "1176,1\n",
      "1177,0\n",
      "1178,0\n",
      "1179,0\n",
      "1180,0\n",
      "1181,0\n",
      "1182,0\n",
      "1183,0\n",
      "1184,0\n",
      "1185,0\n",
      "1186,0\n",
      "1187,0\n",
      "1188,1\n",
      "1189,0\n",
      "1190,0\n",
      "1191,0\n",
      "1192,0\n",
      "1193,0\n",
      "1194,0\n",
      "1195,0\n",
      "1196,1\n",
      "1197,1\n",
      "1198,0\n",
      "1199,1\n",
      "1200,0\n",
      "1201,0\n",
      "1202,0\n",
      "1203,0\n",
      "1204,0\n",
      "1205,0\n",
      "1206,1\n",
      "1207,1\n",
      "1208,0\n",
      "1209,0\n",
      "1210,0\n",
      "1211,0\n",
      "1212,0\n",
      "1213,0\n",
      "1214,0\n",
      "1215,1\n",
      "1216,1\n",
      "1217,0\n",
      "1218,1\n",
      "1219,0\n",
      "1220,0\n",
      "1221,0\n",
      "1222,1\n",
      "1223,0\n",
      "1224,0\n",
      "1225,1\n",
      "1226,0\n",
      "1227,0\n",
      "1228,0\n",
      "1229,0\n",
      "1230,0\n",
      "1231,0\n",
      "1232,0\n",
      "1233,0\n",
      "1234,0\n",
      "1235,1\n",
      "1236,0\n",
      "1237,1\n",
      "1238,0\n",
      "1239,0\n",
      "1240,0\n",
      "1241,1\n",
      "1242,1\n",
      "1243,0\n",
      "1244,0\n",
      "1245,0\n",
      "1246,1\n",
      "1247,0\n",
      "1248,1\n",
      "1249,0\n",
      "1250,0\n",
      "1251,1\n",
      "1252,0\n",
      "1253,1\n",
      "1254,1\n",
      "1255,0\n",
      "1256,1\n",
      "1257,0\n",
      "1258,0\n",
      "1259,0\n",
      "1260,1\n",
      "1261,0\n",
      "1262,0\n",
      "1263,1\n",
      "1264,0\n",
      "1265,0\n",
      "1266,1\n",
      "1267,1\n",
      "1268,0\n",
      "1269,0\n",
      "1270,0\n",
      "1271,0\n",
      "1272,0\n",
      "1273,0\n",
      "1274,0\n",
      "1275,1\n",
      "1276,0\n",
      "1277,1\n",
      "1278,0\n",
      "1279,0\n",
      "1280,0\n",
      "1281,0\n",
      "1282,1\n",
      "1283,1\n",
      "1284,0\n",
      "1285,0\n",
      "1286,0\n",
      "1287,1\n",
      "1288,0\n",
      "1289,1\n",
      "1290,0\n",
      "1291,0\n",
      "1292,1\n",
      "1293,0\n",
      "1294,1\n",
      "1295,0\n",
      "1296,0\n",
      "1297,0\n",
      "1298,0\n",
      "1299,0\n",
      "1300,1\n",
      "1301,1\n",
      "1302,1\n",
      "1303,1\n",
      "1304,0\n",
      "1305,0\n",
      "1306,1\n",
      "1307,0\n",
      "1308,0\n",
      "1309,0\n"
     ]
    }
   ],
   "source": [
    "t=0\n",
    "for i in range(892, 1310):\n",
    "    print(i, end='')\n",
    "    print(',', end='')\n",
    "    print(gb_ans[t])\n",
    "    t=t+1"
   ]
  },
  {
   "cell_type": "code",
   "execution_count": null,
   "metadata": {},
   "outputs": [],
   "source": []
  }
 ],
 "metadata": {
  "kernelspec": {
   "display_name": "Python 3",
   "language": "python",
   "name": "python3"
  },
  "language_info": {
   "codemirror_mode": {
    "name": "ipython",
    "version": 3
   },
   "file_extension": ".py",
   "mimetype": "text/x-python",
   "name": "python",
   "nbconvert_exporter": "python",
   "pygments_lexer": "ipython3",
   "version": "3.7.3"
  }
 },
 "nbformat": 4,
 "nbformat_minor": 4
}
