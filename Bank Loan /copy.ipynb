{
 "cells": [
  {
   "cell_type": "code",
   "execution_count": 1,
   "metadata": {},
   "outputs": [],
   "source": [
    "import pandas as pd\n",
    "import matplotlib.pyplot as plt\n",
    "import numpy as np\n",
    "import seaborn as sns"
   ]
  },
  {
   "cell_type": "code",
   "execution_count": 2,
   "metadata": {},
   "outputs": [],
   "source": [
    "df = pd.read_csv('Data/train_indessa.csv')"
   ]
  },
  {
   "cell_type": "code",
   "execution_count": 3,
   "metadata": {},
   "outputs": [],
   "source": [
    "df.drop('batch_enrolled', axis=1, inplace=True)\n",
    "df.drop('emp_title', axis=1, inplace=True)\n",
    "df.drop('desc', axis=1, inplace=True)\n",
    "df.drop('member_id', axis=1, inplace=True)"
   ]
  },
  {
   "cell_type": "code",
   "execution_count": 4,
   "metadata": {},
   "outputs": [],
   "source": [
    "pd.set_option('display.max_columns', 45)"
   ]
  },
  {
   "cell_type": "markdown",
   "metadata": {},
   "source": [
    "# Handling Missing Values"
   ]
  },
  {
   "cell_type": "code",
   "execution_count": 5,
   "metadata": {},
   "outputs": [],
   "source": [
    "df['emp_length'].fillna('10+ years', inplace=True)"
   ]
  },
  {
   "cell_type": "code",
   "execution_count": 6,
   "metadata": {},
   "outputs": [],
   "source": [
    "df['annual_inc'].fillna(6500, inplace=True)"
   ]
  },
  {
   "cell_type": "code",
   "execution_count": 7,
   "metadata": {},
   "outputs": [],
   "source": [
    "df['title'].fillna('Debt consolidation', inplace=True)\n",
    "df.dropna(axis='index', how='all', subset=['delinq_2yrs'], inplace=True)"
   ]
  },
  {
   "cell_type": "code",
   "execution_count": 8,
   "metadata": {},
   "outputs": [],
   "source": [
    "df['revol_util'].fillna(24, inplace=True)\n",
    "df['collections_12_mths_ex_med'].fillna(0.0, inplace=True)"
   ]
  },
  {
   "cell_type": "code",
   "execution_count": 9,
   "metadata": {},
   "outputs": [],
   "source": [
    "def impute_mths_since_derog(cols):\n",
    "    mths_since_derog = cols[0]\n",
    "    delinq_2yrs = cols[1]\n",
    "    \n",
    "    if pd.isnull(mths_since_derog):\n",
    "        if delinq_2yrs==0.0:\n",
    "            return 52\n",
    "        else:\n",
    "            return 18\n",
    "    \n",
    "    else:\n",
    "        return mths_since_derog"
   ]
  },
  {
   "cell_type": "code",
   "execution_count": 10,
   "metadata": {},
   "outputs": [],
   "source": [
    "df['mths_since_last_major_derog'] = df[['mths_since_last_major_derog', 'delinq_2yrs']].apply(impute_mths_since_derog, axis=1)"
   ]
  },
  {
   "cell_type": "code",
   "execution_count": 11,
   "metadata": {},
   "outputs": [],
   "source": [
    "df.drop('verification_status_joint', axis=1, inplace=True)"
   ]
  },
  {
   "cell_type": "code",
   "execution_count": 12,
   "metadata": {},
   "outputs": [],
   "source": [
    "df['tot_coll_amt'].fillna(0.0, inplace=True)\n",
    "df['tot_cur_bal'].fillna(0.0, inplace=True)\n",
    "df['total_rev_hi_lim'].fillna(0.0, inplace=True)"
   ]
  },
  {
   "cell_type": "code",
   "execution_count": 13,
   "metadata": {},
   "outputs": [],
   "source": [
    "df.drop('mths_since_last_record', axis=1, inplace=True)"
   ]
  },
  {
   "cell_type": "code",
   "execution_count": 14,
   "metadata": {},
   "outputs": [],
   "source": [
    "df.drop('mths_since_last_delinq', axis=1, inplace=True)"
   ]
  },
  {
   "cell_type": "markdown",
   "metadata": {},
   "source": [
    "# FEATURE ENGINEERING"
   ]
  },
  {
   "cell_type": "code",
   "execution_count": 15,
   "metadata": {},
   "outputs": [],
   "source": [
    "def clean_term(term):\n",
    "    ls = term.split(' ')\n",
    "    return np.int64(ls[0])\n",
    "\n",
    "df['term'] = df['term'].apply(clean_term)"
   ]
  },
  {
   "cell_type": "code",
   "execution_count": 16,
   "metadata": {},
   "outputs": [],
   "source": [
    "def clean_emp_length(length):\n",
    "    if length=='10+ years':\n",
    "        x = length.split('+')\n",
    "        return np.int64(x[0])\n",
    "    elif length=='< 1 year':\n",
    "        x = length.split(' ')\n",
    "        return np.int64(x[1])\n",
    "    else:\n",
    "        x = length.split(' ')\n",
    "        return np.int64(x[0])\n",
    "    \n",
    "df['emp_length'] = df['emp_length'].apply(clean_emp_length)"
   ]
  },
  {
   "cell_type": "code",
   "execution_count": 17,
   "metadata": {},
   "outputs": [],
   "source": [
    "df.drop('title', axis=1, inplace=True)"
   ]
  },
  {
   "cell_type": "code",
   "execution_count": 18,
   "metadata": {},
   "outputs": [],
   "source": [
    "def clean_zip(zip):\n",
    "    x = zip.split('x')\n",
    "    return np.int64(x[0])\n",
    "\n",
    "df['zip_code'] = df['zip_code'].apply(clean_zip)"
   ]
  },
  {
   "cell_type": "code",
   "execution_count": 19,
   "metadata": {},
   "outputs": [],
   "source": [
    "df.drop('addr_state', axis=1, inplace=True)"
   ]
  },
  {
   "cell_type": "code",
   "execution_count": 20,
   "metadata": {},
   "outputs": [],
   "source": [
    "def clean_last_week_pay(week):\n",
    "    x = week.split('th')\n",
    "    if x[0] == 'NA':\n",
    "        return 0\n",
    "    else:\n",
    "        return np.int64(x[0])\n",
    "\n",
    "df['last_week_pay'] = df['last_week_pay'].apply(clean_last_week_pay)"
   ]
  },
  {
   "cell_type": "code",
   "execution_count": 21,
   "metadata": {
    "scrolled": true
   },
   "outputs": [],
   "source": [
    "df_clean = pd.get_dummies(df, drop_first=True)"
   ]
  },
  {
   "cell_type": "code",
   "execution_count": 22,
   "metadata": {},
   "outputs": [],
   "source": [
    "from sklearn.decomposition import PCA\n",
    "\n",
    "pca = PCA(n_components=2)"
   ]
  },
  {
   "cell_type": "code",
   "execution_count": 23,
   "metadata": {},
   "outputs": [],
   "source": [
    "X = df_clean.drop('loan_status', axis=1)\n",
    "y = df_clean['loan_status']"
   ]
  },
  {
   "cell_type": "code",
   "execution_count": 24,
   "metadata": {},
   "outputs": [],
   "source": [
    "X2D = pca.fit_transform(X)"
   ]
  },
  {
   "cell_type": "code",
   "execution_count": 25,
   "metadata": {},
   "outputs": [],
   "source": [
    "from sklearn.model_selection import train_test_split\n",
    "\n",
    "X_train, X_test, y_train, y_test = train_test_split(X, y, test_size=0.2)"
   ]
  },
  {
   "cell_type": "code",
   "execution_count": 26,
   "metadata": {},
   "outputs": [],
   "source": [
    "from sklearn.ensemble import RandomForestClassifier\n",
    "\n",
    "forest_clf = RandomForestClassifier()"
   ]
  },
  {
   "cell_type": "code",
   "execution_count": 27,
   "metadata": {},
   "outputs": [
    {
     "data": {
      "text/plain": [
       "RandomForestClassifier()"
      ]
     },
     "execution_count": 27,
     "metadata": {},
     "output_type": "execute_result"
    }
   ],
   "source": [
    "forest_clf.fit(X_train, y_train)"
   ]
  },
  {
   "cell_type": "code",
   "execution_count": 28,
   "metadata": {},
   "outputs": [],
   "source": [
    "y_pred = forest_clf.predict(X_test)"
   ]
  },
  {
   "cell_type": "code",
   "execution_count": 29,
   "metadata": {},
   "outputs": [
    {
     "data": {
      "text/plain": [
       "array([[80917,   640],\n",
       "       [15889,  9037]])"
      ]
     },
     "execution_count": 29,
     "metadata": {},
     "output_type": "execute_result"
    }
   ],
   "source": [
    "from sklearn.metrics import confusion_matrix\n",
    "\n",
    "confusion_matrix(y_test, y_pred)"
   ]
  },
  {
   "cell_type": "code",
   "execution_count": 30,
   "metadata": {},
   "outputs": [
    {
     "data": {
      "text/plain": [
       "0.8447733441018754"
      ]
     },
     "execution_count": 30,
     "metadata": {},
     "output_type": "execute_result"
    }
   ],
   "source": [
    "from sklearn.metrics import accuracy_score\n",
    "\n",
    "accuracy_score(y_test, y_pred)"
   ]
  },
  {
   "cell_type": "markdown",
   "metadata": {},
   "source": [
    "# TEST DATA PREDICTION"
   ]
  },
  {
   "cell_type": "code",
   "execution_count": 31,
   "metadata": {},
   "outputs": [],
   "source": [
    "df_test = pd.read_csv('Data/test_indessa.csv')"
   ]
  },
  {
   "cell_type": "code",
   "execution_count": 32,
   "metadata": {},
   "outputs": [],
   "source": [
    "df_test.drop('batch_enrolled', axis=1, inplace=True)\n",
    "df_test.drop('emp_title', axis=1, inplace=True)\n",
    "df_test.drop('desc', axis=1, inplace=True)\n",
    "df_test.drop('member_id', axis=1, inplace=True)\n",
    "df_test.drop('verification_status_joint', axis=1, inplace=True)\n",
    "df_test.drop('mths_since_last_record', axis=1, inplace=True)\n",
    "df_test.drop('mths_since_last_delinq', axis=1, inplace=True)\n",
    "df_test.drop('title', axis=1, inplace=True)\n",
    "df_test.drop('addr_state', axis=1, inplace=True)"
   ]
  },
  {
   "cell_type": "code",
   "execution_count": 33,
   "metadata": {},
   "outputs": [],
   "source": [
    "df_test['emp_length'].fillna('10+ years', inplace=True)\n",
    "df_test['annual_inc'].fillna(6500, inplace=True)\n",
    "df_test['revol_util'].fillna(24, inplace=True)\n",
    "df_test['collections_12_mths_ex_med'].fillna(0.0, inplace=True)\n",
    "df_test['mths_since_last_major_derog'] = df_test[['mths_since_last_major_derog', 'delinq_2yrs']].apply(impute_mths_since_derog, axis=1)"
   ]
  },
  {
   "cell_type": "code",
   "execution_count": 34,
   "metadata": {},
   "outputs": [],
   "source": [
    "df_test['tot_coll_amt'].fillna(0.0, inplace=True)\n",
    "df_test['tot_cur_bal'].fillna(0.0, inplace=True)\n",
    "df_test['total_rev_hi_lim'].fillna(0.0, inplace=True)"
   ]
  },
  {
   "cell_type": "code",
   "execution_count": 35,
   "metadata": {},
   "outputs": [
    {
     "data": {
      "text/html": [
       "<div>\n",
       "<style scoped>\n",
       "    .dataframe tbody tr th:only-of-type {\n",
       "        vertical-align: middle;\n",
       "    }\n",
       "\n",
       "    .dataframe tbody tr th {\n",
       "        vertical-align: top;\n",
       "    }\n",
       "\n",
       "    .dataframe thead th {\n",
       "        text-align: right;\n",
       "    }\n",
       "</style>\n",
       "<table border=\"1\" class=\"dataframe\">\n",
       "  <thead>\n",
       "    <tr style=\"text-align: right;\">\n",
       "      <th></th>\n",
       "      <th>loan_amnt</th>\n",
       "      <th>funded_amnt</th>\n",
       "      <th>funded_amnt_inv</th>\n",
       "      <th>int_rate</th>\n",
       "      <th>annual_inc</th>\n",
       "      <th>dti</th>\n",
       "      <th>delinq_2yrs</th>\n",
       "      <th>inq_last_6mths</th>\n",
       "      <th>open_acc</th>\n",
       "      <th>pub_rec</th>\n",
       "      <th>revol_bal</th>\n",
       "      <th>revol_util</th>\n",
       "      <th>total_acc</th>\n",
       "      <th>total_rec_int</th>\n",
       "      <th>total_rec_late_fee</th>\n",
       "      <th>recoveries</th>\n",
       "      <th>collection_recovery_fee</th>\n",
       "      <th>collections_12_mths_ex_med</th>\n",
       "      <th>mths_since_last_major_derog</th>\n",
       "      <th>acc_now_delinq</th>\n",
       "      <th>tot_coll_amt</th>\n",
       "      <th>tot_cur_bal</th>\n",
       "      <th>total_rev_hi_lim</th>\n",
       "    </tr>\n",
       "  </thead>\n",
       "  <tbody>\n",
       "    <tr>\n",
       "      <th>count</th>\n",
       "      <td>354951.000000</td>\n",
       "      <td>354951.000000</td>\n",
       "      <td>354951.000000</td>\n",
       "      <td>354951.000000</td>\n",
       "      <td>3.549510e+05</td>\n",
       "      <td>354951.000000</td>\n",
       "      <td>354938.000000</td>\n",
       "      <td>354938.000000</td>\n",
       "      <td>354938.000000</td>\n",
       "      <td>354938.000000</td>\n",
       "      <td>3.549510e+05</td>\n",
       "      <td>354951.000000</td>\n",
       "      <td>354938.000000</td>\n",
       "      <td>354951.000000</td>\n",
       "      <td>354951.000000</td>\n",
       "      <td>354951.000000</td>\n",
       "      <td>354951.000000</td>\n",
       "      <td>354951.000000</td>\n",
       "      <td>354951.000000</td>\n",
       "      <td>354938.000000</td>\n",
       "      <td>3.549510e+05</td>\n",
       "      <td>3.549510e+05</td>\n",
       "      <td>3.549510e+05</td>\n",
       "    </tr>\n",
       "    <tr>\n",
       "      <th>mean</th>\n",
       "      <td>14751.767920</td>\n",
       "      <td>14738.287116</td>\n",
       "      <td>14698.770903</td>\n",
       "      <td>13.252396</td>\n",
       "      <td>7.502401e+04</td>\n",
       "      <td>18.184447</td>\n",
       "      <td>0.314432</td>\n",
       "      <td>0.694654</td>\n",
       "      <td>11.552781</td>\n",
       "      <td>0.195981</td>\n",
       "      <td>1.692005e+04</td>\n",
       "      <td>55.064623</td>\n",
       "      <td>25.269030</td>\n",
       "      <td>1756.867641</td>\n",
       "      <td>0.399299</td>\n",
       "      <td>46.221362</td>\n",
       "      <td>4.913062</td>\n",
       "      <td>0.014498</td>\n",
       "      <td>46.566966</td>\n",
       "      <td>0.004956</td>\n",
       "      <td>2.244993e+02</td>\n",
       "      <td>1.282178e+05</td>\n",
       "      <td>2.949783e+04</td>\n",
       "    </tr>\n",
       "    <tr>\n",
       "      <th>std</th>\n",
       "      <td>8437.019324</td>\n",
       "      <td>8431.045701</td>\n",
       "      <td>8443.341658</td>\n",
       "      <td>4.385250</td>\n",
       "      <td>6.393871e+04</td>\n",
       "      <td>25.174050</td>\n",
       "      <td>0.865533</td>\n",
       "      <td>1.000579</td>\n",
       "      <td>5.326112</td>\n",
       "      <td>0.579484</td>\n",
       "      <td>2.243219e+04</td>\n",
       "      <td>23.810774</td>\n",
       "      <td>11.836602</td>\n",
       "      <td>2098.587607</td>\n",
       "      <td>4.082242</td>\n",
       "      <td>409.763865</td>\n",
       "      <td>63.128236</td>\n",
       "      <td>0.135940</td>\n",
       "      <td>15.041033</td>\n",
       "      <td>0.075333</td>\n",
       "      <td>1.547464e+04</td>\n",
       "      <td>1.520161e+05</td>\n",
       "      <td>3.621487e+04</td>\n",
       "    </tr>\n",
       "    <tr>\n",
       "      <th>min</th>\n",
       "      <td>500.000000</td>\n",
       "      <td>500.000000</td>\n",
       "      <td>0.000000</td>\n",
       "      <td>5.320000</td>\n",
       "      <td>0.000000e+00</td>\n",
       "      <td>0.000000</td>\n",
       "      <td>0.000000</td>\n",
       "      <td>0.000000</td>\n",
       "      <td>0.000000</td>\n",
       "      <td>0.000000</td>\n",
       "      <td>0.000000e+00</td>\n",
       "      <td>0.000000</td>\n",
       "      <td>1.000000</td>\n",
       "      <td>0.000000</td>\n",
       "      <td>0.000000</td>\n",
       "      <td>0.000000</td>\n",
       "      <td>0.000000</td>\n",
       "      <td>0.000000</td>\n",
       "      <td>0.000000</td>\n",
       "      <td>0.000000</td>\n",
       "      <td>0.000000e+00</td>\n",
       "      <td>0.000000e+00</td>\n",
       "      <td>0.000000e+00</td>\n",
       "    </tr>\n",
       "    <tr>\n",
       "      <th>25%</th>\n",
       "      <td>8000.000000</td>\n",
       "      <td>8000.000000</td>\n",
       "      <td>8000.000000</td>\n",
       "      <td>9.990000</td>\n",
       "      <td>4.500000e+04</td>\n",
       "      <td>11.890000</td>\n",
       "      <td>0.000000</td>\n",
       "      <td>0.000000</td>\n",
       "      <td>8.000000</td>\n",
       "      <td>0.000000</td>\n",
       "      <td>6.441000e+03</td>\n",
       "      <td>37.600000</td>\n",
       "      <td>17.000000</td>\n",
       "      <td>441.345000</td>\n",
       "      <td>0.000000</td>\n",
       "      <td>0.000000</td>\n",
       "      <td>0.000000</td>\n",
       "      <td>0.000000</td>\n",
       "      <td>50.000000</td>\n",
       "      <td>0.000000</td>\n",
       "      <td>0.000000e+00</td>\n",
       "      <td>2.311100e+04</td>\n",
       "      <td>1.160000e+04</td>\n",
       "    </tr>\n",
       "    <tr>\n",
       "      <th>50%</th>\n",
       "      <td>13000.000000</td>\n",
       "      <td>13000.000000</td>\n",
       "      <td>13000.000000</td>\n",
       "      <td>12.990000</td>\n",
       "      <td>6.500000e+04</td>\n",
       "      <td>17.650000</td>\n",
       "      <td>0.000000</td>\n",
       "      <td>0.000000</td>\n",
       "      <td>11.000000</td>\n",
       "      <td>0.000000</td>\n",
       "      <td>1.187300e+04</td>\n",
       "      <td>56.000000</td>\n",
       "      <td>24.000000</td>\n",
       "      <td>1074.120000</td>\n",
       "      <td>0.000000</td>\n",
       "      <td>0.000000</td>\n",
       "      <td>0.000000</td>\n",
       "      <td>0.000000</td>\n",
       "      <td>52.000000</td>\n",
       "      <td>0.000000</td>\n",
       "      <td>0.000000e+00</td>\n",
       "      <td>6.510100e+04</td>\n",
       "      <td>2.180000e+04</td>\n",
       "    </tr>\n",
       "    <tr>\n",
       "      <th>75%</th>\n",
       "      <td>20000.000000</td>\n",
       "      <td>20000.000000</td>\n",
       "      <td>20000.000000</td>\n",
       "      <td>16.200000</td>\n",
       "      <td>9.000000e+04</td>\n",
       "      <td>23.940000</td>\n",
       "      <td>0.000000</td>\n",
       "      <td>1.000000</td>\n",
       "      <td>14.000000</td>\n",
       "      <td>0.000000</td>\n",
       "      <td>2.081100e+04</td>\n",
       "      <td>73.500000</td>\n",
       "      <td>32.000000</td>\n",
       "      <td>2243.075000</td>\n",
       "      <td>0.000000</td>\n",
       "      <td>0.000000</td>\n",
       "      <td>0.000000</td>\n",
       "      <td>0.000000</td>\n",
       "      <td>52.000000</td>\n",
       "      <td>0.000000</td>\n",
       "      <td>0.000000e+00</td>\n",
       "      <td>1.954315e+05</td>\n",
       "      <td>3.770000e+04</td>\n",
       "    </tr>\n",
       "    <tr>\n",
       "      <th>max</th>\n",
       "      <td>35000.000000</td>\n",
       "      <td>35000.000000</td>\n",
       "      <td>35000.000000</td>\n",
       "      <td>28.990000</td>\n",
       "      <td>9.000000e+06</td>\n",
       "      <td>9999.000000</td>\n",
       "      <td>39.000000</td>\n",
       "      <td>33.000000</td>\n",
       "      <td>76.000000</td>\n",
       "      <td>54.000000</td>\n",
       "      <td>2.904836e+06</td>\n",
       "      <td>182.800000</td>\n",
       "      <td>169.000000</td>\n",
       "      <td>23062.450000</td>\n",
       "      <td>286.747566</td>\n",
       "      <td>29282.070000</td>\n",
       "      <td>5569.920000</td>\n",
       "      <td>20.000000</td>\n",
       "      <td>188.000000</td>\n",
       "      <td>5.000000</td>\n",
       "      <td>9.152545e+06</td>\n",
       "      <td>4.447397e+06</td>\n",
       "      <td>9.999999e+06</td>\n",
       "    </tr>\n",
       "  </tbody>\n",
       "</table>\n",
       "</div>"
      ],
      "text/plain": [
       "           loan_amnt    funded_amnt  funded_amnt_inv       int_rate  \\\n",
       "count  354951.000000  354951.000000    354951.000000  354951.000000   \n",
       "mean    14751.767920   14738.287116     14698.770903      13.252396   \n",
       "std      8437.019324    8431.045701      8443.341658       4.385250   \n",
       "min       500.000000     500.000000         0.000000       5.320000   \n",
       "25%      8000.000000    8000.000000      8000.000000       9.990000   \n",
       "50%     13000.000000   13000.000000     13000.000000      12.990000   \n",
       "75%     20000.000000   20000.000000     20000.000000      16.200000   \n",
       "max     35000.000000   35000.000000     35000.000000      28.990000   \n",
       "\n",
       "         annual_inc            dti    delinq_2yrs  inq_last_6mths  \\\n",
       "count  3.549510e+05  354951.000000  354938.000000   354938.000000   \n",
       "mean   7.502401e+04      18.184447       0.314432        0.694654   \n",
       "std    6.393871e+04      25.174050       0.865533        1.000579   \n",
       "min    0.000000e+00       0.000000       0.000000        0.000000   \n",
       "25%    4.500000e+04      11.890000       0.000000        0.000000   \n",
       "50%    6.500000e+04      17.650000       0.000000        0.000000   \n",
       "75%    9.000000e+04      23.940000       0.000000        1.000000   \n",
       "max    9.000000e+06    9999.000000      39.000000       33.000000   \n",
       "\n",
       "            open_acc        pub_rec     revol_bal     revol_util  \\\n",
       "count  354938.000000  354938.000000  3.549510e+05  354951.000000   \n",
       "mean       11.552781       0.195981  1.692005e+04      55.064623   \n",
       "std         5.326112       0.579484  2.243219e+04      23.810774   \n",
       "min         0.000000       0.000000  0.000000e+00       0.000000   \n",
       "25%         8.000000       0.000000  6.441000e+03      37.600000   \n",
       "50%        11.000000       0.000000  1.187300e+04      56.000000   \n",
       "75%        14.000000       0.000000  2.081100e+04      73.500000   \n",
       "max        76.000000      54.000000  2.904836e+06     182.800000   \n",
       "\n",
       "           total_acc  total_rec_int  total_rec_late_fee     recoveries  \\\n",
       "count  354938.000000  354951.000000       354951.000000  354951.000000   \n",
       "mean       25.269030    1756.867641            0.399299      46.221362   \n",
       "std        11.836602    2098.587607            4.082242     409.763865   \n",
       "min         1.000000       0.000000            0.000000       0.000000   \n",
       "25%        17.000000     441.345000            0.000000       0.000000   \n",
       "50%        24.000000    1074.120000            0.000000       0.000000   \n",
       "75%        32.000000    2243.075000            0.000000       0.000000   \n",
       "max       169.000000   23062.450000          286.747566   29282.070000   \n",
       "\n",
       "       collection_recovery_fee  collections_12_mths_ex_med  \\\n",
       "count            354951.000000               354951.000000   \n",
       "mean                  4.913062                    0.014498   \n",
       "std                  63.128236                    0.135940   \n",
       "min                   0.000000                    0.000000   \n",
       "25%                   0.000000                    0.000000   \n",
       "50%                   0.000000                    0.000000   \n",
       "75%                   0.000000                    0.000000   \n",
       "max                5569.920000                   20.000000   \n",
       "\n",
       "       mths_since_last_major_derog  acc_now_delinq  tot_coll_amt  \\\n",
       "count                354951.000000   354938.000000  3.549510e+05   \n",
       "mean                     46.566966        0.004956  2.244993e+02   \n",
       "std                      15.041033        0.075333  1.547464e+04   \n",
       "min                       0.000000        0.000000  0.000000e+00   \n",
       "25%                      50.000000        0.000000  0.000000e+00   \n",
       "50%                      52.000000        0.000000  0.000000e+00   \n",
       "75%                      52.000000        0.000000  0.000000e+00   \n",
       "max                     188.000000        5.000000  9.152545e+06   \n",
       "\n",
       "        tot_cur_bal  total_rev_hi_lim  \n",
       "count  3.549510e+05      3.549510e+05  \n",
       "mean   1.282178e+05      2.949783e+04  \n",
       "std    1.520161e+05      3.621487e+04  \n",
       "min    0.000000e+00      0.000000e+00  \n",
       "25%    2.311100e+04      1.160000e+04  \n",
       "50%    6.510100e+04      2.180000e+04  \n",
       "75%    1.954315e+05      3.770000e+04  \n",
       "max    4.447397e+06      9.999999e+06  "
      ]
     },
     "execution_count": 35,
     "metadata": {},
     "output_type": "execute_result"
    }
   ],
   "source": [
    "df_test.describe()"
   ]
  },
  {
   "cell_type": "code",
   "execution_count": 36,
   "metadata": {},
   "outputs": [],
   "source": [
    "df_test['delinq_2yrs'].fillna(0, inplace=True)\n",
    "df_test['inq_last_6mths'].fillna(1, inplace=True)\n",
    "df_test['open_acc'].fillna(6, inplace=True)\n",
    "df_test['pub_rec'].fillna(0, inplace=True)\n",
    "df_test['total_acc'].fillna(15, inplace=True)\n",
    "df_test['acc_now_delinq'].fillna(0, inplace=True)"
   ]
  },
  {
   "cell_type": "code",
   "execution_count": 37,
   "metadata": {},
   "outputs": [],
   "source": [
    "df_test['term'] = df_test['term'].apply(clean_term)\n",
    "df_test['emp_length'] = df_test['emp_length'].apply(clean_emp_length)\n",
    "df_test['zip_code'] = df_test['zip_code'].apply(clean_zip)\n",
    "df_test['last_week_pay'] = df_test['last_week_pay'].apply(clean_last_week_pay)"
   ]
  },
  {
   "cell_type": "code",
   "execution_count": 38,
   "metadata": {},
   "outputs": [],
   "source": [
    "df_test_clean = pd.get_dummies(df_test, drop_first=True)"
   ]
  },
  {
   "cell_type": "code",
   "execution_count": 39,
   "metadata": {},
   "outputs": [],
   "source": [
    "pd.set_option('max_column', 90)"
   ]
  },
  {
   "cell_type": "code",
   "execution_count": 40,
   "metadata": {},
   "outputs": [],
   "source": [
    "df_test_clean['home_ownership_mortage'] = 0"
   ]
  },
  {
   "cell_type": "code",
   "execution_count": 41,
   "metadata": {},
   "outputs": [],
   "source": [
    "test_pred = forest_clf.predict(df_test_clean)"
   ]
  },
  {
   "cell_type": "code",
   "execution_count": 44,
   "metadata": {},
   "outputs": [],
   "source": [
    "df_test_copy = pd.read_csv('Data/test_indessa.csv')"
   ]
  },
  {
   "cell_type": "code",
   "execution_count": 47,
   "metadata": {},
   "outputs": [],
   "source": [
    "test_pred_proba = forest_clf.predict_proba(df_test_clean)"
   ]
  },
  {
   "cell_type": "code",
   "execution_count": 58,
   "metadata": {},
   "outputs": [],
   "source": [
    "temp = pd.read_csv('Data/submission.csv')"
   ]
  },
  {
   "cell_type": "code",
   "execution_count": 67,
   "metadata": {},
   "outputs": [],
   "source": [
    "temp.loc[temp['loan_status']==1, 'loan_status'] = 0.99\n",
    "temp.loc[temp['loan_status']==0, 'loan_status'] = 0.01"
   ]
  },
  {
   "cell_type": "code",
   "execution_count": 68,
   "metadata": {},
   "outputs": [],
   "source": [
    "temp.to_csv('Data/submission.csv', index=False)"
   ]
  },
  {
   "cell_type": "code",
   "execution_count": 69,
   "metadata": {},
   "outputs": [
    {
     "data": {
      "text/html": [
       "<div>\n",
       "<style scoped>\n",
       "    .dataframe tbody tr th:only-of-type {\n",
       "        vertical-align: middle;\n",
       "    }\n",
       "\n",
       "    .dataframe tbody tr th {\n",
       "        vertical-align: top;\n",
       "    }\n",
       "\n",
       "    .dataframe thead th {\n",
       "        text-align: right;\n",
       "    }\n",
       "</style>\n",
       "<table border=\"1\" class=\"dataframe\">\n",
       "  <thead>\n",
       "    <tr style=\"text-align: right;\">\n",
       "      <th></th>\n",
       "      <th>member_id</th>\n",
       "      <th>loan_status</th>\n",
       "    </tr>\n",
       "  </thead>\n",
       "  <tbody>\n",
       "    <tr>\n",
       "      <th>86662</th>\n",
       "      <td>1004221</td>\n",
       "      <td>0.01</td>\n",
       "    </tr>\n",
       "  </tbody>\n",
       "</table>\n",
       "</div>"
      ],
      "text/plain": [
       "       member_id  loan_status\n",
       "86662    1004221         0.01"
      ]
     },
     "execution_count": 69,
     "metadata": {},
     "output_type": "execute_result"
    }
   ],
   "source": [
    "temp.loc[temp['member_id']==1004221]"
   ]
  },
  {
   "cell_type": "code",
   "execution_count": null,
   "metadata": {},
   "outputs": [],
   "source": []
  }
 ],
 "metadata": {
  "kernelspec": {
   "display_name": "Python 3",
   "language": "python",
   "name": "python3"
  },
  "language_info": {
   "codemirror_mode": {
    "name": "ipython",
    "version": 3
   },
   "file_extension": ".py",
   "mimetype": "text/x-python",
   "name": "python",
   "nbconvert_exporter": "python",
   "pygments_lexer": "ipython3",
   "version": "3.7.3"
  }
 },
 "nbformat": 4,
 "nbformat_minor": 4
}
